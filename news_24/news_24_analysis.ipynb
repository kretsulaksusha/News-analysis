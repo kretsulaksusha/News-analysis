{
 "cells": [
  {
   "attachments": {},
   "cell_type": "markdown",
   "metadata": {},
   "source": [
    "<center><h2>Analysis of News 24</h2></center>"
   ]
  },
  {
   "attachments": {},
   "cell_type": "markdown",
   "metadata": {},
   "source": [
    "**News24** is owned by Media24, South Africa's leading media company, with interests in digital media and services, newspapers, magazines, e-commerce, book publishing, print and distribution. "
   ]
  },
  {
   "attachments": {},
   "cell_type": "markdown",
   "metadata": {},
   "source": [
    "**Purpose of the project:** find out how many articles are dedicated to the war in Ukraine."
   ]
  },
  {
   "cell_type": "code",
   "execution_count": 1,
   "metadata": {},
   "outputs": [],
   "source": [
    "import pandas as pd"
   ]
  },
  {
   "cell_type": "code",
   "execution_count": 2,
   "metadata": {},
   "outputs": [
    {
     "data": {
      "text/html": [
       "<div>\n",
       "<style scoped>\n",
       "    .dataframe tbody tr th:only-of-type {\n",
       "        vertical-align: middle;\n",
       "    }\n",
       "\n",
       "    .dataframe tbody tr th {\n",
       "        vertical-align: top;\n",
       "    }\n",
       "\n",
       "    .dataframe thead th {\n",
       "        text-align: right;\n",
       "    }\n",
       "</style>\n",
       "<table border=\"1\" class=\"dataframe\">\n",
       "  <thead>\n",
       "    <tr style=\"text-align: right;\">\n",
       "      <th></th>\n",
       "      <th>title</th>\n",
       "      <th>date</th>\n",
       "      <th>url</th>\n",
       "    </tr>\n",
       "  </thead>\n",
       "  <tbody>\n",
       "    <tr>\n",
       "      <th>0</th>\n",
       "      <td>Will political pacts save SA? Steenhuisen, Mas...</td>\n",
       "      <td>2023-04-13</td>\n",
       "      <td>https://www.news24.com/news24/opinions/reader_...</td>\n",
       "    </tr>\n",
       "    <tr>\n",
       "      <th>1</th>\n",
       "      <td>Who will govern SA after 2024? Sign up for our...</td>\n",
       "      <td>2023-02-07</td>\n",
       "      <td>https://www.news24.com/news24/opinions/reader_...</td>\n",
       "    </tr>\n",
       "    <tr>\n",
       "      <th>2</th>\n",
       "      <td>WRAP | Public Protector impeachment resumes af...</td>\n",
       "      <td>2023-05-15</td>\n",
       "      <td>https://www.news24.com/news24/southafrica/news...</td>\n",
       "    </tr>\n",
       "    <tr>\n",
       "      <th>3</th>\n",
       "      <td>Do you have any complaints or feedback about N...</td>\n",
       "      <td>2020-04-08</td>\n",
       "      <td>https://www.news24.com/news24/southafrica/news...</td>\n",
       "    </tr>\n",
       "    <tr>\n",
       "      <th>4</th>\n",
       "      <td>Russian embassy hits back at US ambassador's c...</td>\n",
       "      <td>2023-05-16</td>\n",
       "      <td>https://www.news24.com/news24/politics/governm...</td>\n",
       "    </tr>\n",
       "    <tr>\n",
       "      <th>...</th>\n",
       "      <td>...</td>\n",
       "      <td>...</td>\n",
       "      <td>...</td>\n",
       "    </tr>\n",
       "    <tr>\n",
       "      <th>1101</th>\n",
       "      <td>Electoral Amendment Bill: Civil society slams ...</td>\n",
       "      <td>2022-06-01</td>\n",
       "      <td>https://www.news24.com/news24/politics/elector...</td>\n",
       "    </tr>\n",
       "    <tr>\n",
       "      <th>1102</th>\n",
       "      <td>Xolile George appointed as Secretary to Parlia...</td>\n",
       "      <td>2022-06-01</td>\n",
       "      <td>https://www.news24.com/news24/politics/xolile-...</td>\n",
       "    </tr>\n",
       "    <tr>\n",
       "      <th>1103</th>\n",
       "      <td>DA objects to ANC's nod to Glen Mashinini for ...</td>\n",
       "      <td>2022-06-01</td>\n",
       "      <td>https://www.news24.com/news24/politics/da-obje...</td>\n",
       "    </tr>\n",
       "    <tr>\n",
       "      <th>1104</th>\n",
       "      <td>SAPS spends R1.5bn on overtime for officers, u...</td>\n",
       "      <td>2022-06-01</td>\n",
       "      <td>https://www.news24.com/news24/politics/saps-sp...</td>\n",
       "    </tr>\n",
       "    <tr>\n",
       "      <th>1105</th>\n",
       "      <td>Cradock Four murders: Decision on prosecutions...</td>\n",
       "      <td>2022-06-01</td>\n",
       "      <td>https://www.news24.com/news24/politics/cradock...</td>\n",
       "    </tr>\n",
       "  </tbody>\n",
       "</table>\n",
       "<p>1106 rows × 3 columns</p>\n",
       "</div>"
      ],
      "text/plain": [
       "                                                  title       date  \\\n",
       "0     Will political pacts save SA? Steenhuisen, Mas... 2023-04-13   \n",
       "1     Who will govern SA after 2024? Sign up for our... 2023-02-07   \n",
       "2     WRAP | Public Protector impeachment resumes af... 2023-05-15   \n",
       "3     Do you have any complaints or feedback about N... 2020-04-08   \n",
       "4     Russian embassy hits back at US ambassador's c... 2023-05-16   \n",
       "...                                                 ...        ...   \n",
       "1101  Electoral Amendment Bill: Civil society slams ... 2022-06-01   \n",
       "1102  Xolile George appointed as Secretary to Parlia... 2022-06-01   \n",
       "1103  DA objects to ANC's nod to Glen Mashinini for ... 2022-06-01   \n",
       "1104  SAPS spends R1.5bn on overtime for officers, u... 2022-06-01   \n",
       "1105  Cradock Four murders: Decision on prosecutions... 2022-06-01   \n",
       "\n",
       "                                                    url  \n",
       "0     https://www.news24.com/news24/opinions/reader_...  \n",
       "1     https://www.news24.com/news24/opinions/reader_...  \n",
       "2     https://www.news24.com/news24/southafrica/news...  \n",
       "3     https://www.news24.com/news24/southafrica/news...  \n",
       "4     https://www.news24.com/news24/politics/governm...  \n",
       "...                                                 ...  \n",
       "1101  https://www.news24.com/news24/politics/elector...  \n",
       "1102  https://www.news24.com/news24/politics/xolile-...  \n",
       "1103  https://www.news24.com/news24/politics/da-obje...  \n",
       "1104  https://www.news24.com/news24/politics/saps-sp...  \n",
       "1105  https://www.news24.com/news24/politics/cradock...  \n",
       "\n",
       "[1106 rows x 3 columns]"
      ]
     },
     "execution_count": 2,
     "metadata": {},
     "output_type": "execute_result"
    }
   ],
   "source": [
    "df = pd.read_json('news_24_dataset.json')\n",
    "df"
   ]
  },
  {
   "cell_type": "code",
   "execution_count": 3,
   "metadata": {},
   "outputs": [],
   "source": [
    "anchors = [\n",
    "    \"ukraine\",\n",
    "    \"ukrainian\",\n",
    "    \"russia\",\n",
    "    \"russian\",\n",
    "    \"dpr\",\n",
    "    \"lpr\",\n",
    "    \"putin\",\n",
    "    \"zelensky\"\n",
    "]"
   ]
  },
  {
   "cell_type": "code",
   "execution_count": 4,
   "metadata": {},
   "outputs": [
    {
     "data": {
      "text/html": [
       "<div>\n",
       "<style scoped>\n",
       "    .dataframe tbody tr th:only-of-type {\n",
       "        vertical-align: middle;\n",
       "    }\n",
       "\n",
       "    .dataframe tbody tr th {\n",
       "        vertical-align: top;\n",
       "    }\n",
       "\n",
       "    .dataframe thead th {\n",
       "        text-align: right;\n",
       "    }\n",
       "</style>\n",
       "<table border=\"1\" class=\"dataframe\">\n",
       "  <thead>\n",
       "    <tr style=\"text-align: right;\">\n",
       "      <th></th>\n",
       "      <th>title</th>\n",
       "      <th>date</th>\n",
       "      <th>url</th>\n",
       "    </tr>\n",
       "  </thead>\n",
       "  <tbody>\n",
       "    <tr>\n",
       "      <th>4</th>\n",
       "      <td>Russian embassy hits back at US ambassador's c...</td>\n",
       "      <td>2023-05-16</td>\n",
       "      <td>https://www.news24.com/news24/politics/governm...</td>\n",
       "    </tr>\n",
       "    <tr>\n",
       "      <th>7</th>\n",
       "      <td>#LadyRussiagate | Putin, Zelensky accept Afric...</td>\n",
       "      <td>2023-05-16</td>\n",
       "      <td>https://www.news24.com/news24/politics/parliam...</td>\n",
       "    </tr>\n",
       "    <tr>\n",
       "      <th>8</th>\n",
       "      <td>#LadyRussiagate | US ambassador 'totally misre...</td>\n",
       "      <td>2023-05-16</td>\n",
       "      <td>https://www.news24.com/news24/politics/governm...</td>\n",
       "    </tr>\n",
       "    <tr>\n",
       "      <th>19</th>\n",
       "      <td>'Non-aligned' nonchalance: SA won't be forced ...</td>\n",
       "      <td>2023-05-15</td>\n",
       "      <td>https://www.news24.com/news24/politics/governm...</td>\n",
       "    </tr>\n",
       "    <tr>\n",
       "      <th>25</th>\n",
       "      <td>#LadyRussiagate: Ramaphosa, Zelensky hold talk...</td>\n",
       "      <td>2023-05-14</td>\n",
       "      <td>https://www.news24.com/fin24/economy/ladyrussi...</td>\n",
       "    </tr>\n",
       "  </tbody>\n",
       "</table>\n",
       "</div>"
      ],
      "text/plain": [
       "                                                title       date  \\\n",
       "4   Russian embassy hits back at US ambassador's c... 2023-05-16   \n",
       "7   #LadyRussiagate | Putin, Zelensky accept Afric... 2023-05-16   \n",
       "8   #LadyRussiagate | US ambassador 'totally misre... 2023-05-16   \n",
       "19  'Non-aligned' nonchalance: SA won't be forced ... 2023-05-15   \n",
       "25  #LadyRussiagate: Ramaphosa, Zelensky hold talk... 2023-05-14   \n",
       "\n",
       "                                                  url  \n",
       "4   https://www.news24.com/news24/politics/governm...  \n",
       "7   https://www.news24.com/news24/politics/parliam...  \n",
       "8   https://www.news24.com/news24/politics/governm...  \n",
       "19  https://www.news24.com/news24/politics/governm...  \n",
       "25  https://www.news24.com/fin24/economy/ladyrussi...  "
      ]
     },
     "execution_count": 4,
     "metadata": {},
     "output_type": "execute_result"
    }
   ],
   "source": [
    "def check(string: str):\n",
    "    for word in anchors:\n",
    "        if word in string.lower():\n",
    "            return True\n",
    "    return False\n",
    "\n",
    "war_df = df[df['title'].apply(lambda x: check(x))]\n",
    "war_df.head()"
   ]
  },
  {
   "attachments": {},
   "cell_type": "markdown",
   "metadata": {},
   "source": [
    "## Jun - Dec 2022"
   ]
  },
  {
   "cell_type": "code",
   "execution_count": 5,
   "metadata": {},
   "outputs": [],
   "source": [
    "from datetime import datetime\n",
    "import matplotlib.pyplot as plt"
   ]
  },
  {
   "cell_type": "code",
   "execution_count": 6,
   "metadata": {},
   "outputs": [
    {
     "name": "stderr",
     "output_type": "stream",
     "text": [
      "/var/folders/p2/7kxcgmtx2t19yg6vq8h0bml40000gn/T/ipykernel_97625/3011669276.py:8: SettingWithCopyWarning: \n",
      "A value is trying to be set on a copy of a slice from a DataFrame.\n",
      "Try using .loc[row_indexer,col_indexer] = value instead\n",
      "\n",
      "See the caveats in the documentation: https://pandas.pydata.org/pandas-docs/stable/user_guide/indexing.html#returning-a-view-versus-a-copy\n",
      "  war_df_2022['month'] = war_df_2022['date'].apply(lambda x: get_month(x))\n"
     ]
    },
    {
     "data": {
      "text/html": [
       "<div>\n",
       "<style scoped>\n",
       "    .dataframe tbody tr th:only-of-type {\n",
       "        vertical-align: middle;\n",
       "    }\n",
       "\n",
       "    .dataframe tbody tr th {\n",
       "        vertical-align: top;\n",
       "    }\n",
       "\n",
       "    .dataframe thead th {\n",
       "        text-align: right;\n",
       "    }\n",
       "</style>\n",
       "<table border=\"1\" class=\"dataframe\">\n",
       "  <thead>\n",
       "    <tr style=\"text-align: right;\">\n",
       "      <th></th>\n",
       "      <th>title</th>\n",
       "      <th>date</th>\n",
       "      <th>url</th>\n",
       "      <th>month</th>\n",
       "    </tr>\n",
       "  </thead>\n",
       "  <tbody>\n",
       "    <tr>\n",
       "      <th>744</th>\n",
       "      <td>US trip: Ramaphosa to reaffirm SA’s non-aligne...</td>\n",
       "      <td>2022-09-12</td>\n",
       "      <td>https://www.news24.com/news24/politics/us-trip...</td>\n",
       "      <td>9</td>\n",
       "    </tr>\n",
       "    <tr>\n",
       "      <th>760</th>\n",
       "      <td>SA won't be bullied, Pandor tells Blinken on U...</td>\n",
       "      <td>2022-08-09</td>\n",
       "      <td>https://www.news24.com/news24/politics/sa-wont...</td>\n",
       "      <td>8</td>\n",
       "    </tr>\n",
       "    <tr>\n",
       "      <th>838</th>\n",
       "      <td>Wheat shortages caused by Ukraine/Russia war a...</td>\n",
       "      <td>2022-07-23</td>\n",
       "      <td>https://www.news24.com/news24/politics/wheat-s...</td>\n",
       "      <td>7</td>\n",
       "    </tr>\n",
       "    <tr>\n",
       "      <th>868</th>\n",
       "      <td>Russia-Ukraine war: Govt faces heat over neutr...</td>\n",
       "      <td>2022-07-18</td>\n",
       "      <td>https://www.news24.com/news24/politics/russia-...</td>\n",
       "      <td>7</td>\n",
       "    </tr>\n",
       "    <tr>\n",
       "      <th>969</th>\n",
       "      <td>Russia-Ukraine conflict could force African co...</td>\n",
       "      <td>2022-06-28</td>\n",
       "      <td>https://www.news24.com/news24/politics/russia-...</td>\n",
       "      <td>6</td>\n",
       "    </tr>\n",
       "  </tbody>\n",
       "</table>\n",
       "</div>"
      ],
      "text/plain": [
       "                                                 title       date  \\\n",
       "744  US trip: Ramaphosa to reaffirm SA’s non-aligne... 2022-09-12   \n",
       "760  SA won't be bullied, Pandor tells Blinken on U... 2022-08-09   \n",
       "838  Wheat shortages caused by Ukraine/Russia war a... 2022-07-23   \n",
       "868  Russia-Ukraine war: Govt faces heat over neutr... 2022-07-18   \n",
       "969  Russia-Ukraine conflict could force African co... 2022-06-28   \n",
       "\n",
       "                                                   url  month  \n",
       "744  https://www.news24.com/news24/politics/us-trip...      9  \n",
       "760  https://www.news24.com/news24/politics/sa-wont...      8  \n",
       "838  https://www.news24.com/news24/politics/wheat-s...      7  \n",
       "868  https://www.news24.com/news24/politics/russia-...      7  \n",
       "969  https://www.news24.com/news24/politics/russia-...      6  "
      ]
     },
     "execution_count": 6,
     "metadata": {},
     "output_type": "execute_result"
    }
   ],
   "source": [
    "def get_month(date: datetime):\n",
    "    return date.month\n",
    "\n",
    "df_2022 = df[df['date'] < datetime(2023, 1, 1)][1:]\n",
    "df_2022['month'] = df_2022['date'].apply(lambda x: get_month(x))\n",
    "\n",
    "war_df_2022 = war_df[war_df['date'] < datetime(2023, 1, 1)]\n",
    "war_df_2022['month'] = war_df_2022['date'].apply(lambda x: get_month(x))\n",
    "war_df_2022.head()"
   ]
  },
  {
   "cell_type": "code",
   "execution_count": 7,
   "metadata": {},
   "outputs": [],
   "source": [
    "war_perc_2022 = []\n",
    "months = list(range(6, 13))\n",
    "for month in months:\n",
    "    month_df = df_2022[df_2022['month'] == month].shape[0]\n",
    "    month_war_df = war_df_2022[war_df_2022['month'] == month].shape[0]\n",
    "    try:\n",
    "        war_perc_2022.append(round(month_war_df/month_df * 100, 2))\n",
    "    except ZeroDivisionError:\n",
    "        war_perc_2022.append(0.0)"
   ]
  },
  {
   "attachments": {},
   "cell_type": "markdown",
   "metadata": {},
   "source": [
    "### Building plot 2022"
   ]
  },
  {
   "cell_type": "code",
   "execution_count": 8,
   "metadata": {},
   "outputs": [
    {
     "data": {
      "image/png": "[encoded data removed]",
      "text/plain": [
       "<Figure size 1000x500 with 1 Axes>"
      ]
     },
     "metadata": {},
     "output_type": "display_data"
    }
   ],
   "source": [
    "months = ['Jun', 'Jul', 'Aug', 'Sep', 'Oct', 'Nov', 'Dec']\n",
    "plt.figure(figsize = (10, 5))\n",
    " \n",
    "# creating the bar plot\n",
    "plt.bar(months, war_perc_2022, color ='maroon', width = 0.7)\n",
    "plt.ylim(0, 100)\n",
    "\n",
    "plt.xlabel(\"Month\")\n",
    "plt.ylabel(\"Percents %\")\n",
    "plt.title(\"Percentage of news in SA about war in Ukraine in 2022\")\n",
    "plt.show()"
   ]
  },
  {
   "attachments": {},
   "cell_type": "markdown",
   "metadata": {},
   "source": [
    "## Jan - May 2023"
   ]
  },
  {
   "cell_type": "code",
   "execution_count": 9,
   "metadata": {},
   "outputs": [
    {
     "name": "stderr",
     "output_type": "stream",
     "text": [
      "/var/folders/p2/7kxcgmtx2t19yg6vq8h0bml40000gn/T/ipykernel_97625/3617843910.py:2: SettingWithCopyWarning: \n",
      "A value is trying to be set on a copy of a slice from a DataFrame.\n",
      "Try using .loc[row_indexer,col_indexer] = value instead\n",
      "\n",
      "See the caveats in the documentation: https://pandas.pydata.org/pandas-docs/stable/user_guide/indexing.html#returning-a-view-versus-a-copy\n",
      "  df_2023['month'] = df_2023['date'].apply(lambda x: get_month(x))\n",
      "/var/folders/p2/7kxcgmtx2t19yg6vq8h0bml40000gn/T/ipykernel_97625/3617843910.py:5: SettingWithCopyWarning: \n",
      "A value is trying to be set on a copy of a slice from a DataFrame.\n",
      "Try using .loc[row_indexer,col_indexer] = value instead\n",
      "\n",
      "See the caveats in the documentation: https://pandas.pydata.org/pandas-docs/stable/user_guide/indexing.html#returning-a-view-versus-a-copy\n",
      "  war_df_2023['month'] = war_df_2023['date'].apply(lambda x: get_month(x))\n"
     ]
    },
    {
     "data": {
      "text/html": [
       "<div>\n",
       "<style scoped>\n",
       "    .dataframe tbody tr th:only-of-type {\n",
       "        vertical-align: middle;\n",
       "    }\n",
       "\n",
       "    .dataframe tbody tr th {\n",
       "        vertical-align: top;\n",
       "    }\n",
       "\n",
       "    .dataframe thead th {\n",
       "        text-align: right;\n",
       "    }\n",
       "</style>\n",
       "<table border=\"1\" class=\"dataframe\">\n",
       "  <thead>\n",
       "    <tr style=\"text-align: right;\">\n",
       "      <th></th>\n",
       "      <th>title</th>\n",
       "      <th>date</th>\n",
       "      <th>url</th>\n",
       "      <th>month</th>\n",
       "    </tr>\n",
       "  </thead>\n",
       "  <tbody>\n",
       "    <tr>\n",
       "      <th>4</th>\n",
       "      <td>Russian embassy hits back at US ambassador's c...</td>\n",
       "      <td>2023-05-16</td>\n",
       "      <td>https://www.news24.com/news24/politics/governm...</td>\n",
       "      <td>5</td>\n",
       "    </tr>\n",
       "    <tr>\n",
       "      <th>7</th>\n",
       "      <td>#LadyRussiagate | Putin, Zelensky accept Afric...</td>\n",
       "      <td>2023-05-16</td>\n",
       "      <td>https://www.news24.com/news24/politics/parliam...</td>\n",
       "      <td>5</td>\n",
       "    </tr>\n",
       "    <tr>\n",
       "      <th>8</th>\n",
       "      <td>#LadyRussiagate | US ambassador 'totally misre...</td>\n",
       "      <td>2023-05-16</td>\n",
       "      <td>https://www.news24.com/news24/politics/governm...</td>\n",
       "      <td>5</td>\n",
       "    </tr>\n",
       "    <tr>\n",
       "      <th>19</th>\n",
       "      <td>'Non-aligned' nonchalance: SA won't be forced ...</td>\n",
       "      <td>2023-05-15</td>\n",
       "      <td>https://www.news24.com/news24/politics/governm...</td>\n",
       "      <td>5</td>\n",
       "    </tr>\n",
       "    <tr>\n",
       "      <th>25</th>\n",
       "      <td>#LadyRussiagate: Ramaphosa, Zelensky hold talk...</td>\n",
       "      <td>2023-05-14</td>\n",
       "      <td>https://www.news24.com/fin24/economy/ladyrussi...</td>\n",
       "      <td>5</td>\n",
       "    </tr>\n",
       "  </tbody>\n",
       "</table>\n",
       "</div>"
      ],
      "text/plain": [
       "                                                title       date  \\\n",
       "4   Russian embassy hits back at US ambassador's c... 2023-05-16   \n",
       "7   #LadyRussiagate | Putin, Zelensky accept Afric... 2023-05-16   \n",
       "8   #LadyRussiagate | US ambassador 'totally misre... 2023-05-16   \n",
       "19  'Non-aligned' nonchalance: SA won't be forced ... 2023-05-15   \n",
       "25  #LadyRussiagate: Ramaphosa, Zelensky hold talk... 2023-05-14   \n",
       "\n",
       "                                                  url  month  \n",
       "4   https://www.news24.com/news24/politics/governm...      5  \n",
       "7   https://www.news24.com/news24/politics/parliam...      5  \n",
       "8   https://www.news24.com/news24/politics/governm...      5  \n",
       "19  https://www.news24.com/news24/politics/governm...      5  \n",
       "25  https://www.news24.com/fin24/economy/ladyrussi...      5  "
      ]
     },
     "execution_count": 9,
     "metadata": {},
     "output_type": "execute_result"
    }
   ],
   "source": [
    "df_2023 = df[df['date'] >= datetime(2023, 1, 1)]\n",
    "df_2023['month'] = df_2023['date'].apply(lambda x: get_month(x))\n",
    "\n",
    "war_df_2023 = war_df[war_df['date'] >= datetime(2023, 1, 1)]\n",
    "war_df_2023['month'] = war_df_2023['date'].apply(lambda x: get_month(x))\n",
    "war_df_2023.head()"
   ]
  },
  {
   "cell_type": "code",
   "execution_count": 10,
   "metadata": {},
   "outputs": [],
   "source": [
    "war_perc_2023 = []\n",
    "months = list(range(1, 6))\n",
    "for month in months:\n",
    "    month_df = df_2023[df_2023['month'] == month].shape[0]\n",
    "    month_war_df = war_df_2023[war_df_2023['month'] == month].shape[0]\n",
    "    try:\n",
    "        war_perc_2023.append(round(month_war_df/month_df * 100, 2))\n",
    "    except ZeroDivisionError:\n",
    "        war_perc_2023.append(0.0)"
   ]
  },
  {
   "attachments": {},
   "cell_type": "markdown",
   "metadata": {},
   "source": [
    "### Building plot 2023"
   ]
  },
  {
   "cell_type": "code",
   "execution_count": 11,
   "metadata": {},
   "outputs": [
    {
     "data": {
      "image/png": "[encoded data removed]",
      "text/plain": [
       "<Figure size 1000x500 with 1 Axes>"
      ]
     },
     "metadata": {},
     "output_type": "display_data"
    }
   ],
   "source": [
    "months = ['Jan', 'Feb', 'Mar', 'Apr', 'May']\n",
    "plt.figure(figsize = (10, 5))\n",
    " \n",
    "# creating the bar plot\n",
    "plt.bar(months, war_perc_2023, color ='maroon', width = 0.7)\n",
    "plt.ylim(0, 100)\n",
    "\n",
    "plt.xlabel(\"Month\")\n",
    "plt.ylabel(\"Percents %\")\n",
    "plt.title(\"Percentage of news in SA about war in Ukraine in 2023\")\n",
    "plt.show()"
   ]
  }
 ],
 "metadata": {
  "kernelspec": {
   "display_name": "Python 3",
   "language": "python",
   "name": "python3"
  },
  "language_info": {
   "codemirror_mode": {
    "name": "ipython",
    "version": 3
   },
   "file_extension": ".py",
   "mimetype": "text/x-python",
   "name": "python",
   "nbconvert_exporter": "python",
   "pygments_lexer": "ipython3",
   "version": "3.11.2"
  },
  "orig_nbformat": 4
 },
 "nbformat": 4,
 "nbformat_minor": 2
}
