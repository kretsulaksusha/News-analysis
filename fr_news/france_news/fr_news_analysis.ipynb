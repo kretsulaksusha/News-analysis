{
 "cells": [
  {
   "attachments": {},
   "cell_type": "markdown",
   "metadata": {},
   "source": [
    "# <font color=#9797c3>Analysis of the news in France"
   ]
  },
  {
   "attachments": {},
   "cell_type": "markdown",
   "metadata": {},
   "source": [
    "##### The data is from online magazine 'Le Monde' - one of the most popular publication in France"
   ]
  },
  {
   "attachments": {},
   "cell_type": "markdown",
   "metadata": {},
   "source": [
    "## <font color=#9797c3>The aim of the study:"
   ]
  },
  {
   "attachments": {},
   "cell_type": "markdown",
   "metadata": {},
   "source": [
    "###      news about the war in Ukraine in percentage compared to local news in different countries of the world"
   ]
  },
  {
   "cell_type": "code",
   "execution_count": 35,
   "metadata": {},
   "outputs": [],
   "source": [
    "import pandas as pd\n",
    "import matplotlib.pyplot as plt\n",
    "from datetime import datetime\n",
    "import numpy as np"
   ]
  },
  {
   "attachments": {},
   "cell_type": "markdown",
   "metadata": {},
   "source": [
    "#### <font color=#9797c3>Step 1: create a dataframe by using pandas"
   ]
  },
  {
   "cell_type": "code",
   "execution_count": 36,
   "metadata": {},
   "outputs": [
    {
     "data": {
      "text/html": [
       "<div>\n",
       "<style scoped>\n",
       "    .dataframe tbody tr th:only-of-type {\n",
       "        vertical-align: middle;\n",
       "    }\n",
       "\n",
       "    .dataframe tbody tr th {\n",
       "        vertical-align: top;\n",
       "    }\n",
       "\n",
       "    .dataframe thead th {\n",
       "        text-align: right;\n",
       "    }\n",
       "</style>\n",
       "<table border=\"1\" class=\"dataframe\">\n",
       "  <thead>\n",
       "    <tr style=\"text-align: right;\">\n",
       "      <th></th>\n",
       "      <th>title</th>\n",
       "      <th>date</th>\n",
       "    </tr>\n",
       "  </thead>\n",
       "  <tbody>\n",
       "    <tr>\n",
       "      <th>0</th>\n",
       "      <td>Meet Philip Anschutz, the very conservative bo...</td>\n",
       "      <td>2022-04-15</td>\n",
       "    </tr>\n",
       "    <tr>\n",
       "      <th>1</th>\n",
       "      <td>Twitter announces plan to defend itself from M...</td>\n",
       "      <td>2022-04-15</td>\n",
       "    </tr>\n",
       "    <tr>\n",
       "      <th>2</th>\n",
       "      <td>In Palestine, the city of Jenin considers itse...</td>\n",
       "      <td>2022-04-15</td>\n",
       "    </tr>\n",
       "    <tr>\n",
       "      <th>3</th>\n",
       "      <td>In El Salvador, crime gangs and the president ...</td>\n",
       "      <td>2022-04-15</td>\n",
       "    </tr>\n",
       "    <tr>\n",
       "      <th>4</th>\n",
       "      <td>In Avignon, Le Pen encourages her supporters t...</td>\n",
       "      <td>2022-04-15</td>\n",
       "    </tr>\n",
       "    <tr>\n",
       "      <th>...</th>\n",
       "      <td>...</td>\n",
       "      <td>...</td>\n",
       "    </tr>\n",
       "    <tr>\n",
       "      <th>237</th>\n",
       "      <td>Davos Forum: 'The end of the month has overtak...</td>\n",
       "      <td>2023-01-16</td>\n",
       "    </tr>\n",
       "    <tr>\n",
       "      <th>238</th>\n",
       "      <td>Svetlana Tsikhanovskaya: 'Dissociating Belarus...</td>\n",
       "      <td>2023-01-16</td>\n",
       "    </tr>\n",
       "    <tr>\n",
       "      <th>239</th>\n",
       "      <td>Nepal mourns victims of deadliest plane crash ...</td>\n",
       "      <td>2023-01-16</td>\n",
       "    </tr>\n",
       "    <tr>\n",
       "      <th>240</th>\n",
       "      <td>Australian Open: In Melbourne, Djokovic wants ...</td>\n",
       "      <td>2023-01-16</td>\n",
       "    </tr>\n",
       "    <tr>\n",
       "      <th>241</th>\n",
       "      <td>Chile: Pardon granted to prisoners of 2019 rev...</td>\n",
       "      <td>2023-01-16</td>\n",
       "    </tr>\n",
       "  </tbody>\n",
       "</table>\n",
       "<p>242 rows × 2 columns</p>\n",
       "</div>"
      ],
      "text/plain": [
       "                                                 title       date\n",
       "0    Meet Philip Anschutz, the very conservative bo... 2022-04-15\n",
       "1    Twitter announces plan to defend itself from M... 2022-04-15\n",
       "2    In Palestine, the city of Jenin considers itse... 2022-04-15\n",
       "3    In El Salvador, crime gangs and the president ... 2022-04-15\n",
       "4    In Avignon, Le Pen encourages her supporters t... 2022-04-15\n",
       "..                                                 ...        ...\n",
       "237  Davos Forum: 'The end of the month has overtak... 2023-01-16\n",
       "238  Svetlana Tsikhanovskaya: 'Dissociating Belarus... 2023-01-16\n",
       "239  Nepal mourns victims of deadliest plane crash ... 2023-01-16\n",
       "240  Australian Open: In Melbourne, Djokovic wants ... 2023-01-16\n",
       "241  Chile: Pardon granted to prisoners of 2019 rev... 2023-01-16\n",
       "\n",
       "[242 rows x 2 columns]"
      ]
     },
     "execution_count": 36,
     "metadata": {},
     "output_type": "execute_result"
    }
   ],
   "source": [
    "df = pd.read_json('fr_news.json')\n",
    "df"
   ]
  },
  {
   "attachments": {},
   "cell_type": "markdown",
   "metadata": {},
   "source": [
    "#### <font color=#9797c3>Step 2: keywords to scrap news"
   ]
  },
  {
   "cell_type": "code",
   "execution_count": 37,
   "metadata": {},
   "outputs": [],
   "source": [
    "anchors = [\n",
    "    \"ukraine\",\n",
    "    \"ukrainian\",\n",
    "    \"russia\",\n",
    "    \"russian\",\n",
    "    \"dpr\",\n",
    "    \"lpr\",\n",
    "    \"putin\",\n",
    "    \"zelensky\",\n",
    "    \"kyiv\",\n",
    "    \"bakhmut\"\n",
    "]"
   ]
  },
  {
   "attachments": {},
   "cell_type": "markdown",
   "metadata": {},
   "source": [
    "#### <font color=#9797c3>Step 3: check whether the word is in keywords"
   ]
  },
  {
   "cell_type": "code",
   "execution_count": 38,
   "metadata": {},
   "outputs": [
    {
     "data": {
      "text/html": [
       "<div>\n",
       "<style scoped>\n",
       "    .dataframe tbody tr th:only-of-type {\n",
       "        vertical-align: middle;\n",
       "    }\n",
       "\n",
       "    .dataframe tbody tr th {\n",
       "        vertical-align: top;\n",
       "    }\n",
       "\n",
       "    .dataframe thead th {\n",
       "        text-align: right;\n",
       "    }\n",
       "</style>\n",
       "<table border=\"1\" class=\"dataframe\">\n",
       "  <thead>\n",
       "    <tr style=\"text-align: right;\">\n",
       "      <th></th>\n",
       "      <th>title</th>\n",
       "      <th>date</th>\n",
       "    </tr>\n",
       "  </thead>\n",
       "  <tbody>\n",
       "    <tr>\n",
       "      <th>6</th>\n",
       "      <td>Chicago's Ukrainian Village finds new purpose ...</td>\n",
       "      <td>2022-04-15</td>\n",
       "    </tr>\n",
       "    <tr>\n",
       "      <th>8</th>\n",
       "      <td>'Mom packed her bags, we said unbearable thing...</td>\n",
       "      <td>2022-04-15</td>\n",
       "    </tr>\n",
       "    <tr>\n",
       "      <th>10</th>\n",
       "      <td>Germany weighs risks of life without Russian g...</td>\n",
       "      <td>2022-04-15</td>\n",
       "    </tr>\n",
       "    <tr>\n",
       "      <th>22</th>\n",
       "      <td>'Marine Le Pen advocates diplomacy that confor...</td>\n",
       "      <td>2022-04-15</td>\n",
       "    </tr>\n",
       "    <tr>\n",
       "      <th>23</th>\n",
       "      <td>Russia's damaged flagship Moskva sinks, hit by...</td>\n",
       "      <td>2022-04-15</td>\n",
       "    </tr>\n",
       "  </tbody>\n",
       "</table>\n",
       "</div>"
      ],
      "text/plain": [
       "                                                title       date\n",
       "6   Chicago's Ukrainian Village finds new purpose ... 2022-04-15\n",
       "8   'Mom packed her bags, we said unbearable thing... 2022-04-15\n",
       "10  Germany weighs risks of life without Russian g... 2022-04-15\n",
       "22  'Marine Le Pen advocates diplomacy that confor... 2022-04-15\n",
       "23  Russia's damaged flagship Moskva sinks, hit by... 2022-04-15"
      ]
     },
     "execution_count": 38,
     "metadata": {},
     "output_type": "execute_result"
    }
   ],
   "source": [
    "def check_string(string: str):\n",
    "    for one_word in anchors:\n",
    "        if one_word in string.lower():\n",
    "            return True\n",
    "    return False\n",
    "\n",
    "ukraine_war_df = df[df['title'].apply(lambda x: check_string(x))]\n",
    "ukraine_war_df.head()"
   ]
  },
  {
   "attachments": {},
   "cell_type": "markdown",
   "metadata": {},
   "source": [
    "#### <font color=#9797c3>Step 4: calculate the percentage of the news about war in Ukraine"
   ]
  },
  {
   "attachments": {},
   "cell_type": "markdown",
   "metadata": {},
   "source": [
    "##### The data is specific days during the war (ex. blackouts, liberation of Kherson)"
   ]
  },
  {
   "cell_type": "code",
   "execution_count": 51,
   "metadata": {},
   "outputs": [
    {
     "data": {
      "text/plain": [
       "['2022-04-15',\n",
       " '2022-07-14',\n",
       " '2022-09-11',\n",
       " '2023-05-18',\n",
       " '2022-09-08',\n",
       " '2022-11-11',\n",
       " '2023-01-16']"
      ]
     },
     "execution_count": 51,
     "metadata": {},
     "output_type": "execute_result"
    }
   ],
   "source": [
    "ukraine_war_per_cent = []\n",
    "dates = list(ukraine_war_df.date.unique())\n",
    "for date in dates:\n",
    "\n",
    "    one_month_df = df[df['date'] == date].shape[0]\n",
    "    one_month_ukraine_df = ukraine_war_df[ukraine_war_df['date'] == date].shape[0]\n",
    "\n",
    "    try:\n",
    "        ukraine_war_per_cent.append(round(one_month_ukraine_df/one_month_df * 100, 2))\n",
    "    except ZeroDivisionError:\n",
    "        ukraine_war_per_cent.append(0.0)\n",
    "\n",
    "string_dates = [np.datetime_as_string(date, unit='D') for date in dates]\n",
    "string_dates\n"
   ]
  },
  {
   "attachments": {},
   "cell_type": "markdown",
   "metadata": {},
   "source": [
    "#### <font color=#9797c3>Step 5: create the bar graph"
   ]
  },
  {
   "cell_type": "code",
   "execution_count": 49,
   "metadata": {},
   "outputs": [
    {
     "data": {
      "image/png": "[encoded data removed]",
      "text/plain": [
       "<Figure size 2000x1000 with 1 Axes>"
      ]
     },
     "metadata": {},
     "output_type": "display_data"
    }
   ],
   "source": [
    "plt.figure(figsize=(20, 10))\n",
    "\n",
    "plt.bar(string_dates, ukraine_war_per_cent, color = '#9797c3')\n",
    "\n",
    "plt.xlabel('Specific dates during the war')\n",
    "plt.ylabel('Percentage (%) of news about war in Ukraine')\n",
    "plt.title('News about war in Ukraine in France (\"Le Monde\")')\n",
    "plt.show()"
   ]
  }
 ],
 "metadata": {
  "kernelspec": {
   "display_name": "Python 3",
   "language": "python",
   "name": "python3"
  },
  "language_info": {
   "codemirror_mode": {
    "name": "ipython",
    "version": 3
   },
   "file_extension": ".py",
   "mimetype": "text/x-python",
   "name": "python",
   "nbconvert_exporter": "python",
   "pygments_lexer": "ipython3",
   "version": "3.10.6"
  },
  "orig_nbformat": 4
 },
 "nbformat": 4,
 "nbformat_minor": 2
}
