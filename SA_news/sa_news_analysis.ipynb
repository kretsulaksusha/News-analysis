{
 "cells": [
  {
   "attachments": {},
   "cell_type": "markdown",
   "metadata": {},
   "source": [
    "<center><h2>Analysis of SA Government News Agency</h2></center>"
   ]
  },
  {
   "attachments": {},
   "cell_type": "markdown",
   "metadata": {},
   "source": [
    "The SA Government News Agency is a news service, published by the Government Communication and Information System (GCIS)."
   ]
  },
  {
   "attachments": {},
   "cell_type": "markdown",
   "metadata": {},
   "source": [
    "**Purpose of the project:** find out how many articles are dedicated to the war in Ukraine."
   ]
  },
  {
   "cell_type": "code",
   "execution_count": 1,
   "metadata": {},
   "outputs": [],
   "source": [
    "import pandas as pd"
   ]
  },
  {
   "cell_type": "code",
   "execution_count": 2,
   "metadata": {},
   "outputs": [
    {
     "data": {
      "text/html": [
       "<div>\n",
       "<style scoped>\n",
       "    .dataframe tbody tr th:only-of-type {\n",
       "        vertical-align: middle;\n",
       "    }\n",
       "\n",
       "    .dataframe tbody tr th {\n",
       "        vertical-align: top;\n",
       "    }\n",
       "\n",
       "    .dataframe thead th {\n",
       "        text-align: right;\n",
       "    }\n",
       "</style>\n",
       "<table border=\"1\" class=\"dataframe\">\n",
       "  <thead>\n",
       "    <tr style=\"text-align: right;\">\n",
       "      <th></th>\n",
       "      <th>title</th>\n",
       "      <th>date</th>\n",
       "      <th>url</th>\n",
       "    </tr>\n",
       "  </thead>\n",
       "  <tbody>\n",
       "    <tr>\n",
       "      <th>0</th>\n",
       "      <td>Government communication workforce to be upski...</td>\n",
       "      <td>2023-05-16</td>\n",
       "      <td>https://www.sanews.gov.za/south-africa/governm...</td>\n",
       "    </tr>\n",
       "    <tr>\n",
       "      <th>1</th>\n",
       "      <td>Keeping SA citizens informed</td>\n",
       "      <td>2023-05-16</td>\n",
       "      <td>https://www.sanews.gov.za/south-africa/keeping...</td>\n",
       "    </tr>\n",
       "    <tr>\n",
       "      <th>2</th>\n",
       "      <td>SA and Singapore strengthen longstanding partn...</td>\n",
       "      <td>2023-05-16</td>\n",
       "      <td>https://www.sanews.gov.za/south-africa/sa-and-...</td>\n",
       "    </tr>\n",
       "    <tr>\n",
       "      <th>3</th>\n",
       "      <td>Mining remains strong pillar of SA's economy -...</td>\n",
       "      <td>2023-05-16</td>\n",
       "      <td>https://www.sanews.gov.za/south-africa/mining-...</td>\n",
       "    </tr>\n",
       "    <tr>\n",
       "      <th>4</th>\n",
       "      <td>Over R14bn to support municipalities' water in...</td>\n",
       "      <td>2023-05-16</td>\n",
       "      <td>https://www.sanews.gov.za/south-africa/over-r1...</td>\n",
       "    </tr>\n",
       "    <tr>\n",
       "      <th>...</th>\n",
       "      <td>...</td>\n",
       "      <td>...</td>\n",
       "      <td>...</td>\n",
       "    </tr>\n",
       "    <tr>\n",
       "      <th>3700</th>\n",
       "      <td>SA records 2411 new COVID-19 cases</td>\n",
       "      <td>2022-02-25</td>\n",
       "      <td>https://www.sanews.gov.za/south-africa/sa-reco...</td>\n",
       "    </tr>\n",
       "    <tr>\n",
       "      <th>3701</th>\n",
       "      <td>Man held for dealing dagga</td>\n",
       "      <td>2022-02-25</td>\n",
       "      <td>https://www.sanews.gov.za/south-africa/man-hel...</td>\n",
       "    </tr>\n",
       "    <tr>\n",
       "      <th>3702</th>\n",
       "      <td>SA calls for Russian withdrawal from Ukraine</td>\n",
       "      <td>2022-02-25</td>\n",
       "      <td>https://www.sanews.gov.za/south-africa/sa-call...</td>\n",
       "    </tr>\n",
       "    <tr>\n",
       "      <th>3703</th>\n",
       "      <td>Creecy highlights urgency of moving towards a ...</td>\n",
       "      <td>2022-02-25</td>\n",
       "      <td>https://www.sanews.gov.za/south-africa/creecy-...</td>\n",
       "    </tr>\n",
       "    <tr>\n",
       "      <th>3704</th>\n",
       "      <td>Over 100 000 practical training opportunities ...</td>\n",
       "      <td>2022-02-24</td>\n",
       "      <td>https://www.sanews.gov.za/south-africa/over-10...</td>\n",
       "    </tr>\n",
       "  </tbody>\n",
       "</table>\n",
       "<p>3705 rows × 3 columns</p>\n",
       "</div>"
      ],
      "text/plain": [
       "                                                  title       date  \\\n",
       "0     Government communication workforce to be upski... 2023-05-16   \n",
       "1                          Keeping SA citizens informed 2023-05-16   \n",
       "2     SA and Singapore strengthen longstanding partn... 2023-05-16   \n",
       "3     Mining remains strong pillar of SA's economy -... 2023-05-16   \n",
       "4     Over R14bn to support municipalities' water in... 2023-05-16   \n",
       "...                                                 ...        ...   \n",
       "3700                 SA records 2411 new COVID-19 cases 2022-02-25   \n",
       "3701                         Man held for dealing dagga 2022-02-25   \n",
       "3702       SA calls for Russian withdrawal from Ukraine 2022-02-25   \n",
       "3703  Creecy highlights urgency of moving towards a ... 2022-02-25   \n",
       "3704  Over 100 000 practical training opportunities ... 2022-02-24   \n",
       "\n",
       "                                                    url  \n",
       "0     https://www.sanews.gov.za/south-africa/governm...  \n",
       "1     https://www.sanews.gov.za/south-africa/keeping...  \n",
       "2     https://www.sanews.gov.za/south-africa/sa-and-...  \n",
       "3     https://www.sanews.gov.za/south-africa/mining-...  \n",
       "4     https://www.sanews.gov.za/south-africa/over-r1...  \n",
       "...                                                 ...  \n",
       "3700  https://www.sanews.gov.za/south-africa/sa-reco...  \n",
       "3701  https://www.sanews.gov.za/south-africa/man-hel...  \n",
       "3702  https://www.sanews.gov.za/south-africa/sa-call...  \n",
       "3703  https://www.sanews.gov.za/south-africa/creecy-...  \n",
       "3704  https://www.sanews.gov.za/south-africa/over-10...  \n",
       "\n",
       "[3705 rows x 3 columns]"
      ]
     },
     "execution_count": 2,
     "metadata": {},
     "output_type": "execute_result"
    }
   ],
   "source": [
    "df = pd.read_json('sa_news_dataset.json')\n",
    "df"
   ]
  },
  {
   "cell_type": "code",
   "execution_count": 3,
   "metadata": {},
   "outputs": [],
   "source": [
    "anchors = [\n",
    "    \"ukraine\",\n",
    "    \"ukrainian\",\n",
    "    \"russia\",\n",
    "    \"russian\",\n",
    "    \"dpr\",\n",
    "    \"lpr\",\n",
    "    \"putin\",\n",
    "    \"zelensky\"\n",
    "]"
   ]
  },
  {
   "cell_type": "code",
   "execution_count": 4,
   "metadata": {},
   "outputs": [
    {
     "data": {
      "text/html": [
       "<div>\n",
       "<style scoped>\n",
       "    .dataframe tbody tr th:only-of-type {\n",
       "        vertical-align: middle;\n",
       "    }\n",
       "\n",
       "    .dataframe tbody tr th {\n",
       "        vertical-align: top;\n",
       "    }\n",
       "\n",
       "    .dataframe thead th {\n",
       "        text-align: right;\n",
       "    }\n",
       "</style>\n",
       "<table border=\"1\" class=\"dataframe\">\n",
       "  <thead>\n",
       "    <tr style=\"text-align: right;\">\n",
       "      <th></th>\n",
       "      <th>title</th>\n",
       "      <th>date</th>\n",
       "      <th>url</th>\n",
       "    </tr>\n",
       "  </thead>\n",
       "  <tbody>\n",
       "    <tr>\n",
       "      <th>16</th>\n",
       "      <td>President Ramaphosa reiterates South Africa's ...</td>\n",
       "      <td>2023-05-15</td>\n",
       "      <td>https://www.sanews.gov.za/south-africa/preside...</td>\n",
       "    </tr>\n",
       "    <tr>\n",
       "      <th>651</th>\n",
       "      <td>SA explains abstention from Ukraine resolution...</td>\n",
       "      <td>2023-02-25</td>\n",
       "      <td>https://www.sanews.gov.za/south-africa/sa-expl...</td>\n",
       "    </tr>\n",
       "    <tr>\n",
       "      <th>968</th>\n",
       "      <td>Russia-Ukraine conflict should end through dip...</td>\n",
       "      <td>2023-01-23</td>\n",
       "      <td>https://www.sanews.gov.za/south-africa/russia-...</td>\n",
       "    </tr>\n",
       "    <tr>\n",
       "      <th>975</th>\n",
       "      <td>SA's navy exercises between China and Russia t...</td>\n",
       "      <td>2023-01-23</td>\n",
       "      <td>https://www.sanews.gov.za/south-africa/sas-nav...</td>\n",
       "    </tr>\n",
       "    <tr>\n",
       "      <th>982</th>\n",
       "      <td>SANDF to host China and Russia for multilatera...</td>\n",
       "      <td>2023-01-20</td>\n",
       "      <td>https://www.sanews.gov.za/south-africa/sandf-h...</td>\n",
       "    </tr>\n",
       "  </tbody>\n",
       "</table>\n",
       "</div>"
      ],
      "text/plain": [
       "                                                 title       date  \\\n",
       "16   President Ramaphosa reiterates South Africa's ... 2023-05-15   \n",
       "651  SA explains abstention from Ukraine resolution... 2023-02-25   \n",
       "968  Russia-Ukraine conflict should end through dip... 2023-01-23   \n",
       "975  SA's navy exercises between China and Russia t... 2023-01-23   \n",
       "982  SANDF to host China and Russia for multilatera... 2023-01-20   \n",
       "\n",
       "                                                   url  \n",
       "16   https://www.sanews.gov.za/south-africa/preside...  \n",
       "651  https://www.sanews.gov.za/south-africa/sa-expl...  \n",
       "968  https://www.sanews.gov.za/south-africa/russia-...  \n",
       "975  https://www.sanews.gov.za/south-africa/sas-nav...  \n",
       "982  https://www.sanews.gov.za/south-africa/sandf-h...  "
      ]
     },
     "execution_count": 4,
     "metadata": {},
     "output_type": "execute_result"
    }
   ],
   "source": [
    "def check(string: str):\n",
    "    for word in anchors:\n",
    "        if word in string.lower():\n",
    "            return True\n",
    "    return False\n",
    "\n",
    "war_df = df[df['title'].apply(lambda x: check(x))]\n",
    "war_df.head()"
   ]
  },
  {
   "attachments": {},
   "cell_type": "markdown",
   "metadata": {},
   "source": [
    "## Feb - Dec 2022"
   ]
  },
  {
   "cell_type": "code",
   "execution_count": 5,
   "metadata": {},
   "outputs": [],
   "source": [
    "from datetime import datetime\n",
    "import matplotlib.pyplot as plt"
   ]
  },
  {
   "cell_type": "code",
   "execution_count": 6,
   "metadata": {},
   "outputs": [
    {
     "name": "stderr",
     "output_type": "stream",
     "text": [
      "/var/folders/p2/7kxcgmtx2t19yg6vq8h0bml40000gn/T/ipykernel_97655/4123215270.py:5: SettingWithCopyWarning: \n",
      "A value is trying to be set on a copy of a slice from a DataFrame.\n",
      "Try using .loc[row_indexer,col_indexer] = value instead\n",
      "\n",
      "See the caveats in the documentation: https://pandas.pydata.org/pandas-docs/stable/user_guide/indexing.html#returning-a-view-versus-a-copy\n",
      "  df_2022['month'] = df_2022['date'].apply(lambda x: get_month(x))\n",
      "/var/folders/p2/7kxcgmtx2t19yg6vq8h0bml40000gn/T/ipykernel_97655/4123215270.py:8: SettingWithCopyWarning: \n",
      "A value is trying to be set on a copy of a slice from a DataFrame.\n",
      "Try using .loc[row_indexer,col_indexer] = value instead\n",
      "\n",
      "See the caveats in the documentation: https://pandas.pydata.org/pandas-docs/stable/user_guide/indexing.html#returning-a-view-versus-a-copy\n",
      "  war_df_2022['month'] = war_df_2022['date'].apply(lambda x: get_month(x))\n"
     ]
    },
    {
     "data": {
      "text/html": [
       "<div>\n",
       "<style scoped>\n",
       "    .dataframe tbody tr th:only-of-type {\n",
       "        vertical-align: middle;\n",
       "    }\n",
       "\n",
       "    .dataframe tbody tr th {\n",
       "        vertical-align: top;\n",
       "    }\n",
       "\n",
       "    .dataframe thead th {\n",
       "        text-align: right;\n",
       "    }\n",
       "</style>\n",
       "<table border=\"1\" class=\"dataframe\">\n",
       "  <thead>\n",
       "    <tr style=\"text-align: right;\">\n",
       "      <th></th>\n",
       "      <th>title</th>\n",
       "      <th>date</th>\n",
       "      <th>url</th>\n",
       "      <th>month</th>\n",
       "    </tr>\n",
       "  </thead>\n",
       "  <tbody>\n",
       "    <tr>\n",
       "      <th>2523</th>\n",
       "      <td>Russia-Ukraine conflict dominate 3rd G20 Finan...</td>\n",
       "      <td>2022-07-19</td>\n",
       "      <td>https://www.sanews.gov.za/south-africa/russia-...</td>\n",
       "      <td>7</td>\n",
       "    </tr>\n",
       "    <tr>\n",
       "      <th>2579</th>\n",
       "      <td>Mapisa-Nqakula on task force mission on Russia...</td>\n",
       "      <td>2022-07-13</td>\n",
       "      <td>https://www.sanews.gov.za/south-africa-world/m...</td>\n",
       "      <td>7</td>\n",
       "    </tr>\n",
       "    <tr>\n",
       "      <th>2676</th>\n",
       "      <td>SACU calls for dialogue negotiation in Ukraine...</td>\n",
       "      <td>2022-06-30</td>\n",
       "      <td>https://www.sanews.gov.za/south-africa/sacu-ca...</td>\n",
       "      <td>6</td>\n",
       "    </tr>\n",
       "    <tr>\n",
       "      <th>3343</th>\n",
       "      <td>SA abstains on resolution to suspend Russia fr...</td>\n",
       "      <td>2022-04-08</td>\n",
       "      <td>https://www.sanews.gov.za/south-africa/sa-abst...</td>\n",
       "      <td>4</td>\n",
       "    </tr>\n",
       "    <tr>\n",
       "      <th>3451</th>\n",
       "      <td>Cabinet mulls impact of Russia-Ukraine conflic...</td>\n",
       "      <td>2022-03-25</td>\n",
       "      <td>https://www.sanews.gov.za/south-africa/cabinet...</td>\n",
       "      <td>3</td>\n",
       "    </tr>\n",
       "  </tbody>\n",
       "</table>\n",
       "</div>"
      ],
      "text/plain": [
       "                                                  title       date  \\\n",
       "2523  Russia-Ukraine conflict dominate 3rd G20 Finan... 2022-07-19   \n",
       "2579  Mapisa-Nqakula on task force mission on Russia... 2022-07-13   \n",
       "2676  SACU calls for dialogue negotiation in Ukraine... 2022-06-30   \n",
       "3343  SA abstains on resolution to suspend Russia fr... 2022-04-08   \n",
       "3451  Cabinet mulls impact of Russia-Ukraine conflic... 2022-03-25   \n",
       "\n",
       "                                                    url  month  \n",
       "2523  https://www.sanews.gov.za/south-africa/russia-...      7  \n",
       "2579  https://www.sanews.gov.za/south-africa-world/m...      7  \n",
       "2676  https://www.sanews.gov.za/south-africa/sacu-ca...      6  \n",
       "3343  https://www.sanews.gov.za/south-africa/sa-abst...      4  \n",
       "3451  https://www.sanews.gov.za/south-africa/cabinet...      3  "
      ]
     },
     "execution_count": 6,
     "metadata": {},
     "output_type": "execute_result"
    }
   ],
   "source": [
    "def get_month(date: datetime):\n",
    "    return date.month\n",
    "\n",
    "df_2022 = df[df['date'] < datetime(2023, 1, 1)]\n",
    "df_2022['month'] = df_2022['date'].apply(lambda x: get_month(x))\n",
    "\n",
    "war_df_2022 = war_df[war_df['date'] < datetime(2023, 1, 1)]\n",
    "war_df_2022['month'] = war_df_2022['date'].apply(lambda x: get_month(x))\n",
    "war_df_2022.head()"
   ]
  },
  {
   "cell_type": "code",
   "execution_count": 7,
   "metadata": {},
   "outputs": [],
   "source": [
    "war_perc_2022 = []\n",
    "months = list(range(2, 13))\n",
    "for month in months:\n",
    "    month_df = df_2022[df_2022['month'] == month].shape[0]\n",
    "    month_war_df = war_df_2022[war_df_2022['month'] == month].shape[0]\n",
    "    try:\n",
    "        war_perc_2022.append(round(month_war_df/month_df * 100, 2))\n",
    "    except ZeroDivisionError:\n",
    "        war_perc_2022.append(0.0)"
   ]
  },
  {
   "attachments": {},
   "cell_type": "markdown",
   "metadata": {},
   "source": [
    "### Building plot 2022"
   ]
  },
  {
   "cell_type": "code",
   "execution_count": 8,
   "metadata": {},
   "outputs": [
    {
     "data": {
      "image/png": "[encoded data removed]",
      "text/plain": [
       "<Figure size 1000x500 with 1 Axes>"
      ]
     },
     "metadata": {},
     "output_type": "display_data"
    }
   ],
   "source": [
    "months = ['Feb', 'Mar', 'Apr', 'May', 'Jun', 'Jul', 'Aug', 'Sep', 'Oct', 'Nov', 'Dec']\n",
    "plt.figure(figsize = (10, 5))\n",
    " \n",
    "# creating the bar plot\n",
    "plt.bar(months, war_perc_2022, color ='maroon', width = 0.7)\n",
    "plt.ylim(0, 100)\n",
    "\n",
    "plt.xlabel(\"Month\")\n",
    "plt.ylabel(\"Percents %\")\n",
    "plt.title(\"Percentage of news in SA about war in Ukraine in 2022\")\n",
    "plt.show()"
   ]
  },
  {
   "attachments": {},
   "cell_type": "markdown",
   "metadata": {},
   "source": [
    "## Jan - May 2023"
   ]
  },
  {
   "cell_type": "code",
   "execution_count": 9,
   "metadata": {},
   "outputs": [
    {
     "name": "stderr",
     "output_type": "stream",
     "text": [
      "/var/folders/p2/7kxcgmtx2t19yg6vq8h0bml40000gn/T/ipykernel_97655/3617843910.py:2: SettingWithCopyWarning: \n",
      "A value is trying to be set on a copy of a slice from a DataFrame.\n",
      "Try using .loc[row_indexer,col_indexer] = value instead\n",
      "\n",
      "See the caveats in the documentation: https://pandas.pydata.org/pandas-docs/stable/user_guide/indexing.html#returning-a-view-versus-a-copy\n",
      "  df_2023['month'] = df_2023['date'].apply(lambda x: get_month(x))\n",
      "/var/folders/p2/7kxcgmtx2t19yg6vq8h0bml40000gn/T/ipykernel_97655/3617843910.py:5: SettingWithCopyWarning: \n",
      "A value is trying to be set on a copy of a slice from a DataFrame.\n",
      "Try using .loc[row_indexer,col_indexer] = value instead\n",
      "\n",
      "See the caveats in the documentation: https://pandas.pydata.org/pandas-docs/stable/user_guide/indexing.html#returning-a-view-versus-a-copy\n",
      "  war_df_2023['month'] = war_df_2023['date'].apply(lambda x: get_month(x))\n"
     ]
    },
    {
     "data": {
      "text/html": [
       "<div>\n",
       "<style scoped>\n",
       "    .dataframe tbody tr th:only-of-type {\n",
       "        vertical-align: middle;\n",
       "    }\n",
       "\n",
       "    .dataframe tbody tr th {\n",
       "        vertical-align: top;\n",
       "    }\n",
       "\n",
       "    .dataframe thead th {\n",
       "        text-align: right;\n",
       "    }\n",
       "</style>\n",
       "<table border=\"1\" class=\"dataframe\">\n",
       "  <thead>\n",
       "    <tr style=\"text-align: right;\">\n",
       "      <th></th>\n",
       "      <th>title</th>\n",
       "      <th>date</th>\n",
       "      <th>url</th>\n",
       "      <th>month</th>\n",
       "    </tr>\n",
       "  </thead>\n",
       "  <tbody>\n",
       "    <tr>\n",
       "      <th>16</th>\n",
       "      <td>President Ramaphosa reiterates South Africa's ...</td>\n",
       "      <td>2023-05-15</td>\n",
       "      <td>https://www.sanews.gov.za/south-africa/preside...</td>\n",
       "      <td>5</td>\n",
       "    </tr>\n",
       "    <tr>\n",
       "      <th>651</th>\n",
       "      <td>SA explains abstention from Ukraine resolution...</td>\n",
       "      <td>2023-02-25</td>\n",
       "      <td>https://www.sanews.gov.za/south-africa/sa-expl...</td>\n",
       "      <td>2</td>\n",
       "    </tr>\n",
       "    <tr>\n",
       "      <th>968</th>\n",
       "      <td>Russia-Ukraine conflict should end through dip...</td>\n",
       "      <td>2023-01-23</td>\n",
       "      <td>https://www.sanews.gov.za/south-africa/russia-...</td>\n",
       "      <td>1</td>\n",
       "    </tr>\n",
       "    <tr>\n",
       "      <th>975</th>\n",
       "      <td>SA's navy exercises between China and Russia t...</td>\n",
       "      <td>2023-01-23</td>\n",
       "      <td>https://www.sanews.gov.za/south-africa/sas-nav...</td>\n",
       "      <td>1</td>\n",
       "    </tr>\n",
       "    <tr>\n",
       "      <th>982</th>\n",
       "      <td>SANDF to host China and Russia for multilatera...</td>\n",
       "      <td>2023-01-20</td>\n",
       "      <td>https://www.sanews.gov.za/south-africa/sandf-h...</td>\n",
       "      <td>1</td>\n",
       "    </tr>\n",
       "  </tbody>\n",
       "</table>\n",
       "</div>"
      ],
      "text/plain": [
       "                                                 title       date  \\\n",
       "16   President Ramaphosa reiterates South Africa's ... 2023-05-15   \n",
       "651  SA explains abstention from Ukraine resolution... 2023-02-25   \n",
       "968  Russia-Ukraine conflict should end through dip... 2023-01-23   \n",
       "975  SA's navy exercises between China and Russia t... 2023-01-23   \n",
       "982  SANDF to host China and Russia for multilatera... 2023-01-20   \n",
       "\n",
       "                                                   url  month  \n",
       "16   https://www.sanews.gov.za/south-africa/preside...      5  \n",
       "651  https://www.sanews.gov.za/south-africa/sa-expl...      2  \n",
       "968  https://www.sanews.gov.za/south-africa/russia-...      1  \n",
       "975  https://www.sanews.gov.za/south-africa/sas-nav...      1  \n",
       "982  https://www.sanews.gov.za/south-africa/sandf-h...      1  "
      ]
     },
     "execution_count": 9,
     "metadata": {},
     "output_type": "execute_result"
    }
   ],
   "source": [
    "df_2023 = df[df['date'] >= datetime(2023, 1, 1)]\n",
    "df_2023['month'] = df_2023['date'].apply(lambda x: get_month(x))\n",
    "\n",
    "war_df_2023 = war_df[war_df['date'] >= datetime(2023, 1, 1)]\n",
    "war_df_2023['month'] = war_df_2023['date'].apply(lambda x: get_month(x))\n",
    "war_df_2023.head()"
   ]
  },
  {
   "cell_type": "code",
   "execution_count": 10,
   "metadata": {},
   "outputs": [],
   "source": [
    "war_perc_2023 = []\n",
    "months = list(range(1, 6))\n",
    "for month in months:\n",
    "    month_df = df_2023[df_2023['month'] == month].shape[0]\n",
    "    month_war_df = war_df_2023[war_df_2023['month'] == month].shape[0]\n",
    "    try:\n",
    "        war_perc_2023.append(round(month_war_df/month_df * 100, 2))\n",
    "    except ZeroDivisionError:\n",
    "        war_perc_2023.append(0.0)"
   ]
  },
  {
   "attachments": {},
   "cell_type": "markdown",
   "metadata": {},
   "source": [
    "### Building plot 2023"
   ]
  },
  {
   "cell_type": "code",
   "execution_count": 11,
   "metadata": {},
   "outputs": [
    {
     "data": {
      "image/png": "[encoded data removed]",
      "text/plain": [
       "<Figure size 1000x500 with 1 Axes>"
      ]
     },
     "metadata": {},
     "output_type": "display_data"
    }
   ],
   "source": [
    "months = ['Jan', 'Feb', 'Mar', 'Apr', 'May']\n",
    "plt.figure(figsize = (10, 5))\n",
    " \n",
    "# creating the bar plot\n",
    "plt.bar(months, war_perc_2023, color ='maroon', width = 0.7)\n",
    "plt.ylim(0, 100)\n",
    "\n",
    "plt.xlabel(\"Month\")\n",
    "plt.ylabel(\"Percents %\")\n",
    "plt.title(\"Percentage of news in SA about war in Ukraine in 2023\")\n",
    "plt.show()"
   ]
  }
 ],
 "metadata": {
  "kernelspec": {
   "display_name": "Python 3",
   "language": "python",
   "name": "python3"
  },
  "language_info": {
   "codemirror_mode": {
    "name": "ipython",
    "version": 3
   },
   "file_extension": ".py",
   "mimetype": "text/x-python",
   "name": "python",
   "nbconvert_exporter": "python",
   "pygments_lexer": "ipython3",
   "version": "3.11.2"
  },
  "orig_nbformat": 4
 },
 "nbformat": 4,
 "nbformat_minor": 2
}
