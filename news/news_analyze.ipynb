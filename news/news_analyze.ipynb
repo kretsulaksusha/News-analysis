{
 "cells": [
  {
   "attachments": {},
   "cell_type": "markdown",
   "metadata": {},
   "source": [
    "<font color='DarkTurquoise'>\n",
    "\n",
    "# Analysis of The Week News\n",
    "\n",
    "</font>"
   ]
  },
  {
   "attachments": {},
   "cell_type": "markdown",
   "metadata": {},
   "source": [
    "### The Week News – The British publication  founded in 1995"
   ]
  },
  {
   "attachments": {},
   "cell_type": "markdown",
   "metadata": {},
   "source": [
    "<font color='DarkTurquoise'>\n",
    "Aim: \n",
    "</font>\n",
    "find out if the foreign media still remembers the events in Ukraine"
   ]
  },
  {
   "cell_type": "code",
   "execution_count": 111,
   "metadata": {},
   "outputs": [],
   "source": [
    "import pandas as pd"
   ]
  },
  {
   "attachments": {},
   "cell_type": "markdown",
   "metadata": {},
   "source": [
    "#### Creating dataframe"
   ]
  },
  {
   "cell_type": "code",
   "execution_count": 112,
   "metadata": {},
   "outputs": [
    {
     "data": {
      "text/html": [
       "<div>\n",
       "<style scoped>\n",
       "    .dataframe tbody tr th:only-of-type {\n",
       "        vertical-align: middle;\n",
       "    }\n",
       "\n",
       "    .dataframe tbody tr th {\n",
       "        vertical-align: top;\n",
       "    }\n",
       "\n",
       "    .dataframe thead th {\n",
       "        text-align: right;\n",
       "    }\n",
       "</style>\n",
       "<table border=\"1\" class=\"dataframe\">\n",
       "  <thead>\n",
       "    <tr style=\"text-align: right;\">\n",
       "      <th></th>\n",
       "      <th>header</th>\n",
       "      <th>date</th>\n",
       "    </tr>\n",
       "  </thead>\n",
       "  <tbody>\n",
       "    <tr>\n",
       "      <th>0</th>\n",
       "      <td>Crypto risk, stealth wealth and the end of Vice</td>\n",
       "      <td>2023-05-19</td>\n",
       "    </tr>\n",
       "    <tr>\n",
       "      <th>1</th>\n",
       "      <td>The rehabilitation of Syria’s Bashar al-Assad</td>\n",
       "      <td>2023-05-19</td>\n",
       "    </tr>\n",
       "    <tr>\n",
       "      <th>2</th>\n",
       "      <td>AI job fears: how can we regulate the ‘rise of...</td>\n",
       "      <td>2023-05-19</td>\n",
       "    </tr>\n",
       "    <tr>\n",
       "      <th>3</th>\n",
       "      <td>Pakistan enters ‘uncharted territory’</td>\n",
       "      <td>2023-05-19</td>\n",
       "    </tr>\n",
       "    <tr>\n",
       "      <th>4</th>\n",
       "      <td>‘The great AI jobs bloodbath’</td>\n",
       "      <td>2023-05-19</td>\n",
       "    </tr>\n",
       "    <tr>\n",
       "      <th>...</th>\n",
       "      <td>...</td>\n",
       "      <td>...</td>\n",
       "    </tr>\n",
       "    <tr>\n",
       "      <th>1469</th>\n",
       "      <td>The psychological war between Russia and Ukraine</td>\n",
       "      <td>2022-03-04</td>\n",
       "    </tr>\n",
       "    <tr>\n",
       "      <th>1470</th>\n",
       "      <td>How reliant is Britain on Russian gas?</td>\n",
       "      <td>2022-03-04</td>\n",
       "    </tr>\n",
       "    <tr>\n",
       "      <th>1471</th>\n",
       "      <td>France’s withdrawal from Mali: a victory for t...</td>\n",
       "      <td>2022-03-04</td>\n",
       "    </tr>\n",
       "    <tr>\n",
       "      <th>1472</th>\n",
       "      <td>Londongrad: what is the cost of Russian-linked...</td>\n",
       "      <td>2022-03-04</td>\n",
       "    </tr>\n",
       "    <tr>\n",
       "      <th>1473</th>\n",
       "      <td>Florida driver blames Putin for speeding</td>\n",
       "      <td>2022-03-04</td>\n",
       "    </tr>\n",
       "  </tbody>\n",
       "</table>\n",
       "<p>1474 rows × 2 columns</p>\n",
       "</div>"
      ],
      "text/plain": [
       "                                                 header       date\n",
       "0       Crypto risk, stealth wealth and the end of Vice 2023-05-19\n",
       "1         The rehabilitation of Syria’s Bashar al-Assad 2023-05-19\n",
       "2     AI job fears: how can we regulate the ‘rise of... 2023-05-19\n",
       "3                 Pakistan enters ‘uncharted territory’ 2023-05-19\n",
       "4                         ‘The great AI jobs bloodbath’ 2023-05-19\n",
       "...                                                 ...        ...\n",
       "1469   The psychological war between Russia and Ukraine 2022-03-04\n",
       "1470             How reliant is Britain on Russian gas? 2022-03-04\n",
       "1471  France’s withdrawal from Mali: a victory for t... 2022-03-04\n",
       "1472  Londongrad: what is the cost of Russian-linked... 2022-03-04\n",
       "1473           Florida driver blames Putin for speeding 2022-03-04\n",
       "\n",
       "[1474 rows x 2 columns]"
      ]
     },
     "execution_count": 112,
     "metadata": {},
     "output_type": "execute_result"
    }
   ],
   "source": [
    "df = pd.read_json(\"theweek.json\")\n",
    "df"
   ]
  },
  {
   "attachments": {},
   "cell_type": "markdown",
   "metadata": {},
   "source": [
    "Keywords for scraping news"
   ]
  },
  {
   "cell_type": "code",
   "execution_count": 113,
   "metadata": {},
   "outputs": [],
   "source": [
    "anchors = [\n",
    "    \"ukraine\",\n",
    "    \"ukrainian\",\n",
    "    \"russia\",\n",
    "    \"russian\",\n",
    "    \"dpr\",\n",
    "    \"lpr\",\n",
    "    \"putin\",\n",
    "    \"zelensky\"\n",
    "]"
   ]
  },
  {
   "attachments": {},
   "cell_type": "markdown",
   "metadata": {},
   "source": [
    "#### Creating dataframe with news about Ukraine"
   ]
  },
  {
   "cell_type": "code",
   "execution_count": 114,
   "metadata": {},
   "outputs": [
    {
     "data": {
      "text/html": [
       "<div>\n",
       "<style scoped>\n",
       "    .dataframe tbody tr th:only-of-type {\n",
       "        vertical-align: middle;\n",
       "    }\n",
       "\n",
       "    .dataframe tbody tr th {\n",
       "        vertical-align: top;\n",
       "    }\n",
       "\n",
       "    .dataframe thead th {\n",
       "        text-align: right;\n",
       "    }\n",
       "</style>\n",
       "<table border=\"1\" class=\"dataframe\">\n",
       "  <thead>\n",
       "    <tr style=\"text-align: right;\">\n",
       "      <th></th>\n",
       "      <th>header</th>\n",
       "      <th>date</th>\n",
       "    </tr>\n",
       "  </thead>\n",
       "  <tbody>\n",
       "    <tr>\n",
       "      <th>6</th>\n",
       "      <td>Nato vs. Russia: who would win?</td>\n",
       "      <td>2023-05-18</td>\n",
       "    </tr>\n",
       "    <tr>\n",
       "      <th>8</th>\n",
       "      <td>Russia’s allies: who is supporting Putin?</td>\n",
       "      <td>2023-05-18</td>\n",
       "    </tr>\n",
       "    <tr>\n",
       "      <th>10</th>\n",
       "      <td>How fruitful was Zelenskyy’s European tour?</td>\n",
       "      <td>2023-05-18</td>\n",
       "    </tr>\n",
       "    <tr>\n",
       "      <th>28</th>\n",
       "      <td>Russia’s scaled-back Victory Day parade</td>\n",
       "      <td>2023-05-12</td>\n",
       "    </tr>\n",
       "    <tr>\n",
       "      <th>48</th>\n",
       "      <td>Evan Gershkovich: what does Russia want from j...</td>\n",
       "      <td>2023-04-03</td>\n",
       "    </tr>\n",
       "  </tbody>\n",
       "</table>\n",
       "</div>"
      ],
      "text/plain": [
       "                                               header       date\n",
       "6                     Nato vs. Russia: who would win? 2023-05-18\n",
       "8           Russia’s allies: who is supporting Putin? 2023-05-18\n",
       "10        How fruitful was Zelenskyy’s European tour? 2023-05-18\n",
       "28            Russia’s scaled-back Victory Day parade 2023-05-12\n",
       "48  Evan Gershkovich: what does Russia want from j... 2023-04-03"
      ]
     },
     "execution_count": 114,
     "metadata": {},
     "output_type": "execute_result"
    }
   ],
   "source": [
    "def check(string: str):\n",
    "    for word in anchors:\n",
    "        if word in string.lower():\n",
    "            return True\n",
    "    return False\n",
    "\n",
    "war_df = df[df['header'].apply(lambda x: check(x))]\n",
    "war_df.head()"
   ]
  },
  {
   "attachments": {},
   "cell_type": "markdown",
   "metadata": {},
   "source": [
    "<font color='DarkTurquoise'>\n",
    "\n",
    "## February 2022 - December 2022\n",
    "</font>"
   ]
  },
  {
   "cell_type": "code",
   "execution_count": 115,
   "metadata": {},
   "outputs": [],
   "source": [
    "from datetime import datetime\n",
    "import matplotlib.pyplot as plt"
   ]
  },
  {
   "attachments": {},
   "cell_type": "markdown",
   "metadata": {},
   "source": [
    "Creating dataframe for period (February 2022 - December 2022)"
   ]
  },
  {
   "cell_type": "code",
   "execution_count": 116,
   "metadata": {},
   "outputs": [
    {
     "data": {
      "text/html": [
       "<div>\n",
       "<style scoped>\n",
       "    .dataframe tbody tr th:only-of-type {\n",
       "        vertical-align: middle;\n",
       "    }\n",
       "\n",
       "    .dataframe tbody tr th {\n",
       "        vertical-align: top;\n",
       "    }\n",
       "\n",
       "    .dataframe thead th {\n",
       "        text-align: right;\n",
       "    }\n",
       "</style>\n",
       "<table border=\"1\" class=\"dataframe\">\n",
       "  <thead>\n",
       "    <tr style=\"text-align: right;\">\n",
       "      <th></th>\n",
       "      <th>header</th>\n",
       "      <th>date</th>\n",
       "      <th>month</th>\n",
       "    </tr>\n",
       "  </thead>\n",
       "  <tbody>\n",
       "    <tr>\n",
       "      <th>447</th>\n",
       "      <td>What will happen in 2023?</td>\n",
       "      <td>2022-12-30</td>\n",
       "      <td>12</td>\n",
       "    </tr>\n",
       "    <tr>\n",
       "      <th>456</th>\n",
       "      <td>Sport’s big winners of 2022</td>\n",
       "      <td>2022-12-29</td>\n",
       "      <td>12</td>\n",
       "    </tr>\n",
       "    <tr>\n",
       "      <th>457</th>\n",
       "      <td>Celebrities and global icons who died in 2022</td>\n",
       "      <td>2022-12-29</td>\n",
       "      <td>12</td>\n",
       "    </tr>\n",
       "    <tr>\n",
       "      <th>458</th>\n",
       "      <td>The best tabloid stories of 2022</td>\n",
       "      <td>2022-12-27</td>\n",
       "      <td>12</td>\n",
       "    </tr>\n",
       "    <tr>\n",
       "      <th>459</th>\n",
       "      <td>People of 2022: from Meghan Markle to Matt Han...</td>\n",
       "      <td>2022-12-27</td>\n",
       "      <td>12</td>\n",
       "    </tr>\n",
       "  </tbody>\n",
       "</table>\n",
       "</div>"
      ],
      "text/plain": [
       "                                                header       date  month\n",
       "447                          What will happen in 2023? 2022-12-30     12\n",
       "456                       Sport’s big winners of 2022  2022-12-29     12\n",
       "457      Celebrities and global icons who died in 2022 2022-12-29     12\n",
       "458                   The best tabloid stories of 2022 2022-12-27     12\n",
       "459  People of 2022: from Meghan Markle to Matt Han... 2022-12-27     12"
      ]
     },
     "execution_count": 116,
     "metadata": {},
     "output_type": "execute_result"
    }
   ],
   "source": [
    "def get_month(date: datetime):\n",
    "    return date.month\n",
    "\n",
    "df_2022 = df.loc[df['date'] < datetime(2023, 1, 1)].copy()\n",
    "df_2022.loc[:, 'month'] = df_2022['date'].apply(lambda x: get_month(x))\n",
    "\n",
    "df_2022.head()\n",
    "\n"
   ]
  },
  {
   "attachments": {},
   "cell_type": "markdown",
   "metadata": {},
   "source": [
    "Creating dataframe with news about Ukraine for period (February 2022 - December 2022)"
   ]
  },
  {
   "cell_type": "code",
   "execution_count": 117,
   "metadata": {},
   "outputs": [
    {
     "data": {
      "text/html": [
       "<div>\n",
       "<style scoped>\n",
       "    .dataframe tbody tr th:only-of-type {\n",
       "        vertical-align: middle;\n",
       "    }\n",
       "\n",
       "    .dataframe tbody tr th {\n",
       "        vertical-align: top;\n",
       "    }\n",
       "\n",
       "    .dataframe thead th {\n",
       "        text-align: right;\n",
       "    }\n",
       "</style>\n",
       "<table border=\"1\" class=\"dataframe\">\n",
       "  <thead>\n",
       "    <tr style=\"text-align: right;\">\n",
       "      <th></th>\n",
       "      <th>header</th>\n",
       "      <th>date</th>\n",
       "      <th>month</th>\n",
       "    </tr>\n",
       "  </thead>\n",
       "  <tbody>\n",
       "    <tr>\n",
       "      <th>462</th>\n",
       "      <td>Putin believes in Santa ‘like all decent peopl...</td>\n",
       "      <td>2022-12-23</td>\n",
       "      <td>12</td>\n",
       "    </tr>\n",
       "    <tr>\n",
       "      <th>475</th>\n",
       "      <td>Can landmark Zelenskyy visit to Washington cha...</td>\n",
       "      <td>2022-12-21</td>\n",
       "      <td>12</td>\n",
       "    </tr>\n",
       "    <tr>\n",
       "      <th>495</th>\n",
       "      <td>What next for the world if Russia loses in Ukr...</td>\n",
       "      <td>2022-12-16</td>\n",
       "      <td>12</td>\n",
       "    </tr>\n",
       "    <tr>\n",
       "      <th>503</th>\n",
       "      <td>VDV: who are Russia’s elite airborne force?</td>\n",
       "      <td>2022-11-28</td>\n",
       "      <td>11</td>\n",
       "    </tr>\n",
       "    <tr>\n",
       "      <th>514</th>\n",
       "      <td>Trump’s trial, Ukraine’s art and extra extra time</td>\n",
       "      <td>2022-11-25</td>\n",
       "      <td>11</td>\n",
       "    </tr>\n",
       "  </tbody>\n",
       "</table>\n",
       "</div>"
      ],
      "text/plain": [
       "                                                header       date  month\n",
       "462  Putin believes in Santa ‘like all decent peopl... 2022-12-23     12\n",
       "475  Can landmark Zelenskyy visit to Washington cha... 2022-12-21     12\n",
       "495  What next for the world if Russia loses in Ukr... 2022-12-16     12\n",
       "503        VDV: who are Russia’s elite airborne force? 2022-11-28     11\n",
       "514  Trump’s trial, Ukraine’s art and extra extra time 2022-11-25     11"
      ]
     },
     "execution_count": 117,
     "metadata": {},
     "output_type": "execute_result"
    }
   ],
   "source": [
    "war_df_2022 = war_df.loc[war_df['date'] < datetime(2023, 1, 1)].copy()\n",
    "war_df_2022.loc[:, 'month'] = war_df_2022['date'].apply(lambda x: get_month(x))\n",
    "\n",
    "war_df_2022.head()"
   ]
  },
  {
   "attachments": {},
   "cell_type": "markdown",
   "metadata": {},
   "source": [
    "Calculation of percentages of Ukrainian news"
   ]
  },
  {
   "cell_type": "code",
   "execution_count": 118,
   "metadata": {},
   "outputs": [
    {
     "data": {
      "text/plain": [
       "[38.46, 51.39, 26.09, 23.08, 25.32, 7.58, 15.0, 15.79, 6.52, 9.01, 8.86]"
      ]
     },
     "execution_count": 118,
     "metadata": {},
     "output_type": "execute_result"
    }
   ],
   "source": [
    "war_perc_2022 = []\n",
    "months = list(range(2, 13))\n",
    "for month in months:\n",
    "    month_df = df_2022[df_2022['month'] == month].shape[0]\n",
    "    month_war_df = war_df_2022[war_df_2022['month'] == month].shape[0]\n",
    "    try:\n",
    "        war_perc_2022.append(round(month_war_df/month_df * 100, 2))\n",
    "    except ZeroDivisionError:\n",
    "        war_perc_2022.append(0.0)\n",
    "\n",
    "war_perc_2022"
   ]
  },
  {
   "attachments": {},
   "cell_type": "markdown",
   "metadata": {},
   "source": [
    "### Visualisation of 2022"
   ]
  },
  {
   "cell_type": "code",
   "execution_count": 119,
   "metadata": {},
   "outputs": [
    {
     "data": {
      "image/png": "[encoded data removed]",
      "text/plain": [
       "<Figure size 1000x500 with 1 Axes>"
      ]
     },
     "metadata": {},
     "output_type": "display_data"
    }
   ],
   "source": [
    "months = ['Feb', 'Mar', 'Apr', 'May', 'Jun', 'Jul', 'Aug', 'Sep', 'Oct', 'Nov', 'Dec']\n",
    "plt.figure(figsize = (10, 5))\n",
    "\n",
    "plt.bar(months, war_perc_2022, color ='CadetBlue', width = 0.7)\n",
    "plt.ylim(0, 100)\n",
    "\n",
    "plt.xlabel(\"Month\")\n",
    "plt.ylabel(\"Percents %\")\n",
    "plt.title(\"Percentage of news The Week News about war in Ukraine in 2022\")\n",
    "plt.show()"
   ]
  },
  {
   "attachments": {},
   "cell_type": "markdown",
   "metadata": {},
   "source": [
    "<font color='DarkTurquoise'>\n",
    "\n",
    "## January 2023 - May 2023\n",
    "</font>"
   ]
  },
  {
   "attachments": {},
   "cell_type": "markdown",
   "metadata": {},
   "source": [
    "Creating dataframe for period (January 2023 - May 2023)"
   ]
  },
  {
   "cell_type": "code",
   "execution_count": 120,
   "metadata": {},
   "outputs": [
    {
     "data": {
      "text/html": [
       "<div>\n",
       "<style scoped>\n",
       "    .dataframe tbody tr th:only-of-type {\n",
       "        vertical-align: middle;\n",
       "    }\n",
       "\n",
       "    .dataframe tbody tr th {\n",
       "        vertical-align: top;\n",
       "    }\n",
       "\n",
       "    .dataframe thead th {\n",
       "        text-align: right;\n",
       "    }\n",
       "</style>\n",
       "<table border=\"1\" class=\"dataframe\">\n",
       "  <thead>\n",
       "    <tr style=\"text-align: right;\">\n",
       "      <th></th>\n",
       "      <th>header</th>\n",
       "      <th>date</th>\n",
       "      <th>month</th>\n",
       "    </tr>\n",
       "  </thead>\n",
       "  <tbody>\n",
       "    <tr>\n",
       "      <th>0</th>\n",
       "      <td>Crypto risk, stealth wealth and the end of Vice</td>\n",
       "      <td>2023-05-19</td>\n",
       "      <td>5</td>\n",
       "    </tr>\n",
       "    <tr>\n",
       "      <th>1</th>\n",
       "      <td>The rehabilitation of Syria’s Bashar al-Assad</td>\n",
       "      <td>2023-05-19</td>\n",
       "      <td>5</td>\n",
       "    </tr>\n",
       "    <tr>\n",
       "      <th>2</th>\n",
       "      <td>AI job fears: how can we regulate the ‘rise of...</td>\n",
       "      <td>2023-05-19</td>\n",
       "      <td>5</td>\n",
       "    </tr>\n",
       "    <tr>\n",
       "      <th>3</th>\n",
       "      <td>Pakistan enters ‘uncharted territory’</td>\n",
       "      <td>2023-05-19</td>\n",
       "      <td>5</td>\n",
       "    </tr>\n",
       "    <tr>\n",
       "      <th>4</th>\n",
       "      <td>‘The great AI jobs bloodbath’</td>\n",
       "      <td>2023-05-19</td>\n",
       "      <td>5</td>\n",
       "    </tr>\n",
       "  </tbody>\n",
       "</table>\n",
       "</div>"
      ],
      "text/plain": [
       "                                              header       date  month\n",
       "0    Crypto risk, stealth wealth and the end of Vice 2023-05-19      5\n",
       "1      The rehabilitation of Syria’s Bashar al-Assad 2023-05-19      5\n",
       "2  AI job fears: how can we regulate the ‘rise of... 2023-05-19      5\n",
       "3              Pakistan enters ‘uncharted territory’ 2023-05-19      5\n",
       "4                      ‘The great AI jobs bloodbath’ 2023-05-19      5"
      ]
     },
     "execution_count": 120,
     "metadata": {},
     "output_type": "execute_result"
    }
   ],
   "source": [
    "df_2023 = df.loc[df['date'] >= datetime(2023, 1, 1)].copy()\n",
    "df_2023.loc[:, 'month'] = df_2023['date'].apply(lambda x: get_month(x))\n",
    "\n",
    "df_2023.head()"
   ]
  },
  {
   "attachments": {},
   "cell_type": "markdown",
   "metadata": {},
   "source": [
    "Creating dataframe with news about Ukraine for period (January 2023 - May 2023)"
   ]
  },
  {
   "cell_type": "code",
   "execution_count": 121,
   "metadata": {},
   "outputs": [
    {
     "data": {
      "text/html": [
       "<div>\n",
       "<style scoped>\n",
       "    .dataframe tbody tr th:only-of-type {\n",
       "        vertical-align: middle;\n",
       "    }\n",
       "\n",
       "    .dataframe tbody tr th {\n",
       "        vertical-align: top;\n",
       "    }\n",
       "\n",
       "    .dataframe thead th {\n",
       "        text-align: right;\n",
       "    }\n",
       "</style>\n",
       "<table border=\"1\" class=\"dataframe\">\n",
       "  <thead>\n",
       "    <tr style=\"text-align: right;\">\n",
       "      <th></th>\n",
       "      <th>header</th>\n",
       "      <th>date</th>\n",
       "      <th>month</th>\n",
       "    </tr>\n",
       "  </thead>\n",
       "  <tbody>\n",
       "    <tr>\n",
       "      <th>6</th>\n",
       "      <td>Nato vs. Russia: who would win?</td>\n",
       "      <td>2023-05-18</td>\n",
       "      <td>5</td>\n",
       "    </tr>\n",
       "    <tr>\n",
       "      <th>8</th>\n",
       "      <td>Russia’s allies: who is supporting Putin?</td>\n",
       "      <td>2023-05-18</td>\n",
       "      <td>5</td>\n",
       "    </tr>\n",
       "    <tr>\n",
       "      <th>10</th>\n",
       "      <td>How fruitful was Zelenskyy’s European tour?</td>\n",
       "      <td>2023-05-18</td>\n",
       "      <td>5</td>\n",
       "    </tr>\n",
       "    <tr>\n",
       "      <th>28</th>\n",
       "      <td>Russia’s scaled-back Victory Day parade</td>\n",
       "      <td>2023-05-12</td>\n",
       "      <td>5</td>\n",
       "    </tr>\n",
       "    <tr>\n",
       "      <th>48</th>\n",
       "      <td>Evan Gershkovich: what does Russia want from j...</td>\n",
       "      <td>2023-04-03</td>\n",
       "      <td>4</td>\n",
       "    </tr>\n",
       "  </tbody>\n",
       "</table>\n",
       "</div>"
      ],
      "text/plain": [
       "                                               header       date  month\n",
       "6                     Nato vs. Russia: who would win? 2023-05-18      5\n",
       "8           Russia’s allies: who is supporting Putin? 2023-05-18      5\n",
       "10        How fruitful was Zelenskyy’s European tour? 2023-05-18      5\n",
       "28            Russia’s scaled-back Victory Day parade 2023-05-12      5\n",
       "48  Evan Gershkovich: what does Russia want from j... 2023-04-03      4"
      ]
     },
     "execution_count": 121,
     "metadata": {},
     "output_type": "execute_result"
    }
   ],
   "source": [
    "war_df_2023 = war_df.loc[war_df['date'] >= datetime(2023, 1, 1)].copy()\n",
    "war_df_2023.loc[:, 'month'] = war_df_2023['date'].apply(lambda x: get_month(x))\n",
    "\n",
    "war_df_2023.head()"
   ]
  },
  {
   "attachments": {},
   "cell_type": "markdown",
   "metadata": {},
   "source": [
    "Calculation of percentages of Ukrainian news"
   ]
  },
  {
   "cell_type": "code",
   "execution_count": 122,
   "metadata": {},
   "outputs": [
    {
     "data": {
      "text/plain": [
       "[8.91, 14.43, 8.65, 5.43, 10.48]"
      ]
     },
     "execution_count": 122,
     "metadata": {},
     "output_type": "execute_result"
    }
   ],
   "source": [
    "war_perc_2023 = []\n",
    "months = list(range(1, 6))\n",
    "for month in months:\n",
    "    month_df = df_2023[df_2023['month'] == month].shape[0]\n",
    "    month_war_df = war_df_2023[war_df_2023['month'] == month].shape[0]\n",
    "    try:\n",
    "        war_perc_2023.append(round(month_war_df/month_df * 100, 2))\n",
    "    except ZeroDivisionError:\n",
    "        war_perc_2023.append(0.0)\n",
    "\n",
    "war_perc_2023"
   ]
  },
  {
   "attachments": {},
   "cell_type": "markdown",
   "metadata": {},
   "source": [
    "### Visualisation of 2023"
   ]
  },
  {
   "cell_type": "code",
   "execution_count": 123,
   "metadata": {},
   "outputs": [
    {
     "data": {
      "image/png": "[encoded data removed]",
      "text/plain": [
       "<Figure size 1000x500 with 1 Axes>"
      ]
     },
     "metadata": {},
     "output_type": "display_data"
    }
   ],
   "source": [
    "months = ['Jan', 'Feb', 'Mar', 'Apr', 'May']\n",
    "plt.figure(figsize = (10, 5))\n",
    "\n",
    "plt.bar(months, war_perc_2023, color ='CadetBlue', width = 0.7)\n",
    "plt.ylim(0, 100)\n",
    "\n",
    "plt.xlabel(\"Month\")\n",
    "plt.ylabel(\"Percents %\")\n",
    "plt.title(\"Percentage of news in The Week News about war in Ukraine in 2023\")\n",
    "plt.show()"
   ]
  }
 ],
 "metadata": {
  "kernelspec": {
   "display_name": "Python 3",
   "language": "python",
   "name": "python3"
  },
  "language_info": {
   "codemirror_mode": {
    "name": "ipython",
    "version": 3
   },
   "file_extension": ".py",
   "mimetype": "text/x-python",
   "name": "python",
   "nbconvert_exporter": "python",
   "pygments_lexer": "ipython3",
   "version": "3.10.7"
  },
  "orig_nbformat": 4
 },
 "nbformat": 4,
 "nbformat_minor": 2
}
