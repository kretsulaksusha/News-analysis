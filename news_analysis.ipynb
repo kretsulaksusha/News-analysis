{
 "cells": [
  {
   "attachments": {},
   "cell_type": "markdown",
   "metadata": {},
   "source": [
    "<center>\n",
    "<font color='DarkTurquoise'>\n",
    "\n",
    "# Analysis of news topics all over the world\n",
    "\n",
    "</font>\n",
    "</center>"
   ]
  },
  {
   "attachments": {},
   "cell_type": "markdown",
   "metadata": {},
   "source": [
    "### Our project aimed at analyzing news coverage worldwide and examining the prevalence of reports *regarding the ongoing conflict in Ukraine*."
   ]
  },
  {
   "attachments": {},
   "cell_type": "markdown",
   "metadata": {},
   "source": [
    "In a world driven by constant information flow, news plays a pivotal role in shaping public opinion and influencing international perceptions. Particularly, the media's role in covering conflicts serves as a crucial indicator of the magnitude and impact of such events on a global scale. So we have made a research about of one of the most pressing geopolitical issues of our time: <span style=\"color: DarkTurquoise\">the war in Ukraine</span>."
   ]
  },
  {
   "attachments": {},
   "cell_type": "markdown",
   "metadata": {},
   "source": [
    "With countless news websites disseminating information around the clock, it becomes increasingly challenging to comprehend the true extent of media coverage regarding specific events. Our project takes on this challenge, utilizing <a href=\"https://scrapy.org\" style=\"color: #55e0a3\">Python Scrapy</a> module to retrieve the data and then determine the prevalence and distribution of reports related to the conflict in Ukraine."
   ]
  },
  {
   "attachments": {},
   "cell_type": "markdown",
   "metadata": {},
   "source": [
    "We have analyzed <span style=\"color: DarkTurquoise\">5 different countries</span> and their most widely read newspaper:\n",
    "<p style=\"line-height: 25px;\">\n",
    "1. <b style=\"font-size: 20px\">USA</b>\n",
    "  <ul>\n",
    "    <li><a href=\"https://www.ft.com/world\" style=\"color: Orange\">Financial Times</a></li>\n",
    "  </ul>\n",
    "2. <b style=\"font-size: 20px\">Great Britain</b>\n",
    "  <ul>\n",
    "    <li><a href=\"https://subscription.theweek.co.uk\" style=\"color: Orange\">The Week</a></li>\n",
    "  </ul>\n",
    "3. <b style=\"font-size: 20px\">France</b>\n",
    "  <ul>\n",
    "    <li><a href=\"https://www.lemonde.fr/en/\" style=\"color: Orange\">Le Monde</a></li>\n",
    "  </ul>\n",
    "4. <b style=\"font-size: 20px\">South Africa</b>\n",
    "  <ul>\n",
    "    <li><a href=\"https://www.sanews.gov.za\" style=\"color: Orange\">South African Government News Agency</a></li>\n",
    "    <li><a href=\"https://www.news24.com/news24\" style=\"color: Orange\">news24</a></li>\n",
    "  </ul>\n",
    "5. <b style=\"font-size: 20px\">Japan</b>\n",
    "  <ul>\n",
    "    <li><a href=\"https://www.japantimes.co.jp\" style=\"color: Orange\">The Japan Times</a></li>\n",
    "  </ul>\n",
    "</p>"
   ]
  },
  {
   "cell_type": "code",
   "execution_count": null,
   "metadata": {},
   "outputs": [],
   "source": [
    "# importing python modules to work with data\n",
    "import pandas as pd\n",
    "import matplotlib.pyplot as plt\n",
    "from datetime import datetime\n",
    "import re\n",
    "from nltk.tokenize import word_tokenize\n",
    "from nltk.probability import FreqDist\n",
    "import numpy as np"
   ]
  },
  {
   "cell_type": "code",
   "execution_count": null,
   "metadata": {},
   "outputs": [],
   "source": [
    "# keywords for finding alticles about the war in Ukraine\n",
    "keywords = [\n",
    "    \"ukraine\",\n",
    "    \"ukrainian\",\n",
    "    \"russia\",\n",
    "    \"russian\",\n",
    "    \"dpr\",\n",
    "    \"lpr\",\n",
    "    \"putin\",\n",
    "    \"zelensky\",\n",
    "    \"kyiv\",\n",
    "    \"bakhmut\"\n",
    "]"
   ]
  },
  {
   "cell_type": "code",
   "execution_count": null,
   "metadata": {},
   "outputs": [],
   "source": [
    "# additional functions\n",
    "def check(string: str):\n",
    "    for word in keywords:\n",
    "        if word in string.lower():\n",
    "            return True\n",
    "    return False\n",
    "\n",
    "def get_month(date: datetime):\n",
    "    return date.month"
   ]
  },
  {
   "attachments": {},
   "cell_type": "markdown",
   "metadata": {},
   "source": [
    "<center>\n",
    "<font color='DarkTurquoise'>\n",
    "\n",
    "# USA\n",
    "\n",
    "</font>\n",
    "</center>"
   ]
  },
  {
   "attachments": {},
   "cell_type": "markdown",
   "metadata": {},
   "source": [
    "**\"The Financial Times\"** is one of the world’s leading news organisations, recognised internationally for its authority, integrity and accuracy."
   ]
  },
  {
   "cell_type": "code",
   "execution_count": null,
   "metadata": {},
   "outputs": [],
   "source": [
    "df = pd.read_json('datasets/news_ft.json')\n",
    "df.head()"
   ]
  },
  {
   "attachments": {},
   "cell_type": "markdown",
   "metadata": {},
   "source": [
    "Forming dataframe containing only news about war in Ukraine:"
   ]
  },
  {
   "cell_type": "code",
   "execution_count": null,
   "metadata": {},
   "outputs": [],
   "source": [
    "war_df = df[df['title'].apply(lambda x: check(x))]\n",
    "war_df.head()"
   ]
  },
  {
   "attachments": {},
   "cell_type": "markdown",
   "metadata": {},
   "source": [
    "Calculating the percentage of news about war in Ukraine:"
   ]
  },
  {
   "cell_type": "code",
   "execution_count": null,
   "metadata": {},
   "outputs": [],
   "source": [
    "war_perc = []\n",
    "sorted_dates = sorted(list(war_df.date.unique()))\n",
    "for date in sorted_dates:\n",
    "    news_this_date = df[df['date'] == date].shape[0]\n",
    "    news_war = war_df[war_df['date'] == date].shape[0]\n",
    "    war_perc.append(round(news_war/news_this_date * 100, 2))\n",
    "\n",
    "str_dates = list(map(lambda x: str(x)[:10], sorted_dates))"
   ]
  },
  {
   "cell_type": "code",
   "execution_count": null,
   "metadata": {},
   "outputs": [],
   "source": [
    "plt.figure(figsize=(15, 8))\n",
    "plt.bar(str_dates, war_perc, color ='CadetBlue')\n",
    "plt.ylim(0, 100)\n",
    "plt.xlabel('Date')\n",
    "plt.ylabel('Percentage of news about war in Ukraine')\n",
    "plt.title('News about war in Ukraine in Financial Times')\n",
    "plt.show()"
   ]
  },
  {
   "attachments": {},
   "cell_type": "markdown",
   "metadata": {},
   "source": [
    "<center>\n",
    "<font color='DarkTurquoise'>\n",
    "\n",
    "# Great Britain\n",
    "\n",
    "</font>\n",
    "</center>"
   ]
  },
  {
   "attachments": {},
   "cell_type": "markdown",
   "metadata": {},
   "source": [
    "**\"The Week\"** news is a respected digital platform that offers a curated selection of news articles, opinion pieces, and cultural content. The website gathers news articles from various sources, including major national and international publications, and presents them in a concise and digestible format. This approach allows readers to quickly grasp multiple perspectives on a given topic and gain a comprehensive understanding of current events."
   ]
  },
  {
   "cell_type": "code",
   "execution_count": null,
   "metadata": {},
   "outputs": [],
   "source": [
    "df = pd.read_json(\"datasets/theweek.json\")\n",
    "df.head()"
   ]
  },
  {
   "attachments": {},
   "cell_type": "markdown",
   "metadata": {},
   "source": [
    "Forming dataframe containing only news about war in Ukraine:"
   ]
  },
  {
   "cell_type": "code",
   "execution_count": null,
   "metadata": {},
   "outputs": [],
   "source": [
    "war_df = df[df['header'].apply(lambda x: check(x))]\n",
    "war_df.head()"
   ]
  },
  {
   "attachments": {},
   "cell_type": "markdown",
   "metadata": {},
   "source": [
    "<font color='DarkTurquoise'>\n",
    "\n",
    "## February 2022 - December 2022\n",
    "</font>"
   ]
  },
  {
   "attachments": {},
   "cell_type": "markdown",
   "metadata": {},
   "source": [
    "Creating dataframe for period (February 2022 - December 2022)"
   ]
  },
  {
   "cell_type": "code",
   "execution_count": null,
   "metadata": {},
   "outputs": [],
   "source": [
    "df_2022 = df.loc[df['date'] < datetime(2023, 1, 1)].copy()\n",
    "df_2022.loc[:, 'month'] = df_2022['date'].apply(lambda x: get_month(x))\n",
    "\n",
    "df_2022.head()"
   ]
  },
  {
   "attachments": {},
   "cell_type": "markdown",
   "metadata": {},
   "source": [
    "Creating dataframe with news about Ukraine for period (February 2022 - December 2022)"
   ]
  },
  {
   "cell_type": "code",
   "execution_count": null,
   "metadata": {},
   "outputs": [],
   "source": [
    "war_df_2022 = war_df.loc[war_df['date'] < datetime(2023, 1, 1)].copy()\n",
    "war_df_2022.loc[:, 'month'] = war_df_2022['date'].apply(lambda x: get_month(x))\n",
    "\n",
    "war_df_2022.head()"
   ]
  },
  {
   "attachments": {},
   "cell_type": "markdown",
   "metadata": {},
   "source": [
    "Calculation of percentages of Ukrainian news"
   ]
  },
  {
   "cell_type": "code",
   "execution_count": null,
   "metadata": {},
   "outputs": [],
   "source": [
    "war_perc_2022 = []\n",
    "months = list(range(2, 13))\n",
    "for month in months:\n",
    "    month_df = df_2022[df_2022['month'] == month].shape[0]\n",
    "    month_war_df = war_df_2022[war_df_2022['month'] == month].shape[0]\n",
    "    try:\n",
    "        war_perc_2022.append(round(month_war_df/month_df * 100, 2))\n",
    "    except ZeroDivisionError:\n",
    "        war_perc_2022.append(0.0)"
   ]
  },
  {
   "attachments": {},
   "cell_type": "markdown",
   "metadata": {},
   "source": [
    "### Visualisation of 2022"
   ]
  },
  {
   "cell_type": "code",
   "execution_count": null,
   "metadata": {},
   "outputs": [],
   "source": [
    "months = ['Feb', 'Mar', 'Apr', 'May', 'Jun', 'Jul', 'Aug', 'Sep', 'Oct', 'Nov', 'Dec']\n",
    "plt.figure(figsize = (10, 5))\n",
    "\n",
    "plt.bar(months, war_perc_2022, color ='CadetBlue', width = 0.7)\n",
    "plt.ylim(0, 100)\n",
    "\n",
    "plt.xlabel(\"Month\")\n",
    "plt.ylabel(\"Percents %\")\n",
    "plt.title(\"Percentage of news The Week News about war in Ukraine in 2022\")\n",
    "plt.show()"
   ]
  },
  {
   "attachments": {},
   "cell_type": "markdown",
   "metadata": {},
   "source": [
    "<font color='DarkTurquoise'>\n",
    "\n",
    "## January 2023 - May 2023\n",
    "</font>"
   ]
  },
  {
   "attachments": {},
   "cell_type": "markdown",
   "metadata": {},
   "source": [
    "Creating dataframe for period (January 2023 - May 2023)"
   ]
  },
  {
   "cell_type": "code",
   "execution_count": null,
   "metadata": {},
   "outputs": [],
   "source": [
    "df_2023 = df.loc[df['date'] >= datetime(2023, 1, 1)].copy()\n",
    "df_2023.loc[:, 'month'] = df_2023['date'].apply(lambda x: get_month(x))\n",
    "\n",
    "df_2023.head()"
   ]
  },
  {
   "attachments": {},
   "cell_type": "markdown",
   "metadata": {},
   "source": [
    "Creating dataframe with news about Ukraine for period (January 2023 - May 2023)"
   ]
  },
  {
   "cell_type": "code",
   "execution_count": null,
   "metadata": {},
   "outputs": [],
   "source": [
    "war_df_2023 = war_df.loc[war_df['date'] >= datetime(2023, 1, 1)].copy()\n",
    "war_df_2023.loc[:, 'month'] = war_df_2023['date'].apply(lambda x: get_month(x))\n",
    "\n",
    "war_df_2023.head()"
   ]
  },
  {
   "attachments": {},
   "cell_type": "markdown",
   "metadata": {},
   "source": [
    "Calculation of percentages of Ukrainian news"
   ]
  },
  {
   "cell_type": "code",
   "execution_count": null,
   "metadata": {},
   "outputs": [],
   "source": [
    "war_perc_2023 = []\n",
    "months = list(range(1, 6))\n",
    "for month in months:\n",
    "    month_df = df_2023[df_2023['month'] == month].shape[0]\n",
    "    month_war_df = war_df_2023[war_df_2023['month'] == month].shape[0]\n",
    "    try:\n",
    "        war_perc_2023.append(round(month_war_df/month_df * 100, 2))\n",
    "    except ZeroDivisionError:\n",
    "        war_perc_2023.append(0.0)"
   ]
  },
  {
   "attachments": {},
   "cell_type": "markdown",
   "metadata": {},
   "source": [
    "### Visualisation of 2023"
   ]
  },
  {
   "cell_type": "code",
   "execution_count": null,
   "metadata": {},
   "outputs": [],
   "source": [
    "months = ['Jan', 'Feb', 'Mar', 'Apr', 'May']\n",
    "plt.figure(figsize = (10, 5))\n",
    "\n",
    "plt.bar(months, war_perc_2023, color ='CadetBlue', width = 0.7)\n",
    "plt.ylim(0, 100)\n",
    "\n",
    "plt.xlabel(\"Month\")\n",
    "plt.ylabel(\"Percents %\")\n",
    "plt.title(\"Percentage of news in The Week News about war in Ukraine in 2023\")\n",
    "plt.show()"
   ]
  },
  {
   "attachments": {},
   "cell_type": "markdown",
   "metadata": {},
   "source": [
    "<center>\n",
    "<font color='DarkTurquoise'>\n",
    "\n",
    "# France\n",
    "\n",
    "</font>\n",
    "</center>"
   ]
  },
  {
   "attachments": {},
   "cell_type": "markdown",
   "metadata": {},
   "source": [
    "<h3>Online magazine: <span style=\"color: #9797c3\"><b>Le Monde<b></span></h3>"
   ]
  },
  {
   "attachments": {},
   "cell_type": "markdown",
   "metadata": {},
   "source": [
    "**Le Monde** is French daily evening newspaper founded in 1944. The first issue of the newspaper was published on December 19, 1944. Since December 19, 1995, the newspaper is available online. \"Le Monde\" should not be confused with \"Mond Diplomatic\", a monthly publication devoted to issues of international relations."
   ]
  },
  {
   "attachments": {},
   "cell_type": "markdown",
   "metadata": {},
   "source": [
    "#### Step 1: create a dataframe by using pandas"
   ]
  },
  {
   "cell_type": "code",
   "execution_count": null,
   "metadata": {},
   "outputs": [],
   "source": [
    "df = pd.read_json('fr_news.json')\n",
    "df.head()"
   ]
  },
  {
   "attachments": {},
   "cell_type": "markdown",
   "metadata": {},
   "source": [
    "#### Step 2: check whether the word is in keywords"
   ]
  },
  {
   "cell_type": "code",
   "execution_count": null,
   "metadata": {},
   "outputs": [],
   "source": [
    "ukraine_war_df = df[df['title'].apply(lambda x: check(x))]\n",
    "ukraine_war_df.head()"
   ]
  },
  {
   "attachments": {},
   "cell_type": "markdown",
   "metadata": {},
   "source": [
    "#### Step 3: calculate the percentage of the news about war in Ukraine"
   ]
  },
  {
   "attachments": {},
   "cell_type": "markdown",
   "metadata": {},
   "source": [
    "##### The data is specific days during the war (ex. blackouts, liberation of Kherson)"
   ]
  },
  {
   "cell_type": "code",
   "execution_count": null,
   "metadata": {},
   "outputs": [],
   "source": [
    "ukraine_war_per_cent = []\n",
    "dates = list(ukraine_war_df.date.unique())\n",
    "for date in dates:\n",
    "\n",
    "    one_month_df = df[df['date'] == date].shape[0]\n",
    "    one_month_ukraine_df = ukraine_war_df[ukraine_war_df['date'] == date].shape[0]\n",
    "\n",
    "    try:\n",
    "        ukraine_war_per_cent.append(round(one_month_ukraine_df/one_month_df * 100, 2))\n",
    "    except ZeroDivisionError:\n",
    "        ukraine_war_per_cent.append(0.0)\n",
    "\n",
    "string_dates = [np.datetime_as_string(date, unit='D') for date in dates]"
   ]
  },
  {
   "attachments": {},
   "cell_type": "markdown",
   "metadata": {},
   "source": [
    "#### Step 4: create the bar graph"
   ]
  },
  {
   "cell_type": "code",
   "execution_count": null,
   "metadata": {},
   "outputs": [],
   "source": [
    "plt.figure(figsize=(20, 10))\n",
    "\n",
    "plt.bar(string_dates, ukraine_war_per_cent, color = '#9797c3', width = 0.9)\n",
    "plt.ylim(0, 100)\n",
    "\n",
    "plt.xlabel('Specific dates during the war')\n",
    "plt.ylabel('Percentage (%) of news about war in Ukraine')\n",
    "plt.title('News about war in Ukraine in France (\"Le Monde\")')\n",
    "plt.show()"
   ]
  },
  {
   "attachments": {},
   "cell_type": "markdown",
   "metadata": {},
   "source": [
    "<center>\n",
    "<font color='DarkTurquoise'>\n",
    "\n",
    "# South Africa\n",
    "\n",
    "</font>\n",
    "</center>"
   ]
  },
  {
   "attachments": {},
   "cell_type": "markdown",
   "metadata": {},
   "source": [
    "<h3><b>Newspaper</b>: <span style=\"color: #79c2d0\">News24</span></h3>"
   ]
  },
  {
   "attachments": {},
   "cell_type": "markdown",
   "metadata": {},
   "source": [
    "**News24** is owned by Media24, South Africa's leading media company, with interests in digital media and services, newspapers, magazines, e-commerce, book publishing, print and distribution. "
   ]
  },
  {
   "cell_type": "code",
   "execution_count": null,
   "metadata": {},
   "outputs": [],
   "source": [
    "df = pd.read_json('datasets/news_24_dataset.json')\n",
    "df.head()"
   ]
  },
  {
   "attachments": {},
   "cell_type": "markdown",
   "metadata": {},
   "source": [
    "Forming dataframe containing only news about war in Ukraine:"
   ]
  },
  {
   "cell_type": "code",
   "execution_count": null,
   "metadata": {},
   "outputs": [],
   "source": [
    "war_df = df[df['title'].apply(lambda x: check(x))]\n",
    "war_df.head()"
   ]
  },
  {
   "attachments": {},
   "cell_type": "markdown",
   "metadata": {},
   "source": [
    "<font color='DarkTurquoise'>\n",
    "\n",
    "## Jun - Dec 2022\n",
    "</font>"
   ]
  },
  {
   "attachments": {},
   "cell_type": "markdown",
   "metadata": {},
   "source": [
    "Creating dataframe for period (Jun - Dec 2022)"
   ]
  },
  {
   "cell_type": "code",
   "execution_count": null,
   "metadata": {},
   "outputs": [],
   "source": [
    "df_2022 = df[df['date'] < datetime(2023, 1, 1)][1:].copy()\n",
    "df_2022['month'] = df_2022['date'].apply(lambda x: get_month(x))\n",
    "df_2022.head()"
   ]
  },
  {
   "attachments": {},
   "cell_type": "markdown",
   "metadata": {},
   "source": [
    "Forming dataframe containing only news about war in Ukraine:"
   ]
  },
  {
   "cell_type": "code",
   "execution_count": null,
   "metadata": {},
   "outputs": [],
   "source": [
    "war_df_2022 = war_df[war_df['date'] < datetime(2023, 1, 1)].copy()\n",
    "war_df_2022['month'] = war_df_2022['date'].apply(lambda x: get_month(x))\n",
    "war_df_2022.head()"
   ]
  },
  {
   "attachments": {},
   "cell_type": "markdown",
   "metadata": {},
   "source": [
    "Calculation of percentages of Ukrainian news"
   ]
  },
  {
   "cell_type": "code",
   "execution_count": null,
   "metadata": {},
   "outputs": [],
   "source": [
    "war_perc_2022 = []\n",
    "months = list(range(6, 13))\n",
    "for month in months:\n",
    "    month_df = df_2022[df_2022['month'] == month].shape[0]\n",
    "    month_war_df = war_df_2022[war_df_2022['month'] == month].shape[0]\n",
    "    try:\n",
    "        war_perc_2022.append(round(month_war_df/month_df * 100, 2))\n",
    "    except ZeroDivisionError:\n",
    "        war_perc_2022.append(0.0)"
   ]
  },
  {
   "attachments": {},
   "cell_type": "markdown",
   "metadata": {},
   "source": [
    "### Building plot 2022"
   ]
  },
  {
   "cell_type": "code",
   "execution_count": null,
   "metadata": {},
   "outputs": [],
   "source": [
    "months = ['Jun', 'Jul', 'Aug', 'Sep', 'Oct', 'Nov', 'Dec']\n",
    "plt.figure(figsize = (10, 5))\n",
    " \n",
    "# creating the bar plot\n",
    "plt.bar(months, war_perc_2022, color ='CadetBlue', width = 0.7)\n",
    "plt.ylim(0, 100)\n",
    "\n",
    "plt.xlabel(\"Month\")\n",
    "plt.ylabel(\"Percents %\")\n",
    "plt.title(\"Percentage of news in SA about war in Ukraine in 2022\")\n",
    "plt.show()"
   ]
  },
  {
   "attachments": {},
   "cell_type": "markdown",
   "metadata": {},
   "source": [
    "<font color='DarkTurquoise'>\n",
    "\n",
    "## Jan - May 2023\n",
    "</font>"
   ]
  },
  {
   "attachments": {},
   "cell_type": "markdown",
   "metadata": {},
   "source": [
    "Creating dataframe for period (Jan - May 2023)"
   ]
  },
  {
   "cell_type": "code",
   "execution_count": null,
   "metadata": {},
   "outputs": [],
   "source": [
    "df_2023 = df[df['date'] >= datetime(2023, 1, 1)].copy()\n",
    "df_2023['month'] = df_2023['date'].apply(lambda x: get_month(x))"
   ]
  },
  {
   "attachments": {},
   "cell_type": "markdown",
   "metadata": {},
   "source": [
    "Forming dataframe containing only news about war in Ukraine:"
   ]
  },
  {
   "cell_type": "code",
   "execution_count": null,
   "metadata": {},
   "outputs": [],
   "source": [
    "war_df_2023 = war_df[war_df['date'] >= datetime(2023, 1, 1)].copy()\n",
    "war_df_2023['month'] = war_df_2023['date'].apply(lambda x: get_month(x))\n",
    "war_df_2023.head()"
   ]
  },
  {
   "attachments": {},
   "cell_type": "markdown",
   "metadata": {},
   "source": [
    "Calculation of percentages of Ukrainian news"
   ]
  },
  {
   "cell_type": "code",
   "execution_count": null,
   "metadata": {},
   "outputs": [],
   "source": [
    "war_perc_2023 = []\n",
    "months = list(range(1, 6))\n",
    "for month in months:\n",
    "    month_df = df_2023[df_2023['month'] == month].shape[0]\n",
    "    month_war_df = war_df_2023[war_df_2023['month'] == month].shape[0]\n",
    "    try:\n",
    "        war_perc_2023.append(round(month_war_df/month_df * 100, 2))\n",
    "    except ZeroDivisionError:\n",
    "        war_perc_2023.append(0.0)"
   ]
  },
  {
   "attachments": {},
   "cell_type": "markdown",
   "metadata": {},
   "source": [
    "### Building plot 2023"
   ]
  },
  {
   "cell_type": "code",
   "execution_count": null,
   "metadata": {},
   "outputs": [],
   "source": [
    "months = ['Jan', 'Feb', 'Mar', 'Apr', 'May']\n",
    "plt.figure(figsize = (10, 5))\n",
    " \n",
    "# creating the bar plot\n",
    "plt.bar(months, war_perc_2023, color ='CadetBlue', width = 0.7)\n",
    "plt.ylim(0, 100)\n",
    "\n",
    "plt.xlabel(\"Month\")\n",
    "plt.ylabel(\"Percents %\")\n",
    "plt.title(\"Percentage of news in SA about war in Ukraine in 2023\")\n",
    "plt.show()"
   ]
  },
  {
   "attachments": {},
   "cell_type": "markdown",
   "metadata": {},
   "source": [
    "<h3><b>Newspaper</b>: <span style=\"color: #79c2d0\">South African Government News Agency</span></h3>"
   ]
  },
  {
   "attachments": {},
   "cell_type": "markdown",
   "metadata": {},
   "source": [
    "**The SA Government News Agency** is a news service, published by the Government Communication and Information System (GCIS)."
   ]
  },
  {
   "cell_type": "code",
   "execution_count": null,
   "metadata": {},
   "outputs": [],
   "source": [
    "df = pd.read_json('datasets/sa_news_dataset.json')\n",
    "df.head()"
   ]
  },
  {
   "attachments": {},
   "cell_type": "markdown",
   "metadata": {},
   "source": [
    "Forming dataframe containing only news about war in Ukraine:"
   ]
  },
  {
   "cell_type": "code",
   "execution_count": null,
   "metadata": {},
   "outputs": [],
   "source": [
    "war_df = df[df['title'].apply(lambda x: check(x))]\n",
    "war_df.head()"
   ]
  },
  {
   "attachments": {},
   "cell_type": "markdown",
   "metadata": {},
   "source": [
    "<font color='DarkTurquoise'>\n",
    "\n",
    "## Feb - Dec 2022\n",
    "</font>"
   ]
  },
  {
   "attachments": {},
   "cell_type": "markdown",
   "metadata": {},
   "source": [
    "Creating dataframe for period (Feb - Dec 2022)"
   ]
  },
  {
   "cell_type": "code",
   "execution_count": null,
   "metadata": {},
   "outputs": [],
   "source": [
    "df_2022 = df[df['date'] < datetime(2023, 1, 1)].copy()\n",
    "df_2022['month'] = df_2022['date'].apply(lambda x: get_month(x))"
   ]
  },
  {
   "attachments": {},
   "cell_type": "markdown",
   "metadata": {},
   "source": [
    "Forming dataframe containing only news about war in Ukraine:"
   ]
  },
  {
   "cell_type": "code",
   "execution_count": null,
   "metadata": {},
   "outputs": [],
   "source": [
    "war_df_2022 = war_df[war_df['date'] < datetime(2023, 1, 1)].copy()\n",
    "war_df_2022['month'] = war_df_2022['date'].apply(lambda x: get_month(x))\n",
    "war_df_2022.head()"
   ]
  },
  {
   "cell_type": "code",
   "execution_count": null,
   "metadata": {},
   "outputs": [],
   "source": [
    "war_perc_2022 = []\n",
    "months = list(range(2, 13))\n",
    "for month in months:\n",
    "    month_df = df_2022[df_2022['month'] == month].shape[0]\n",
    "    month_war_df = war_df_2022[war_df_2022['month'] == month].shape[0]\n",
    "    try:\n",
    "        war_perc_2022.append(round(month_war_df/month_df * 100, 2))\n",
    "    except ZeroDivisionError:\n",
    "        war_perc_2022.append(0.0)"
   ]
  },
  {
   "attachments": {},
   "cell_type": "markdown",
   "metadata": {},
   "source": [
    "### Building plot 2022"
   ]
  },
  {
   "cell_type": "code",
   "execution_count": null,
   "metadata": {},
   "outputs": [],
   "source": [
    "months = ['Feb', 'Mar', 'Apr', 'May', 'Jun', 'Jul', 'Aug', 'Sep', 'Oct', 'Nov', 'Dec']\n",
    "plt.figure(figsize = (10, 5))\n",
    " \n",
    "# creating the bar plot\n",
    "plt.bar(months, war_perc_2022, color ='CadetBlue', width = 0.7)\n",
    "plt.ylim(0, 100)\n",
    "\n",
    "plt.xlabel(\"Month\")\n",
    "plt.ylabel(\"Percents %\")\n",
    "plt.title(\"Percentage of news in SA about war in Ukraine in 2022\")\n",
    "plt.show()"
   ]
  },
  {
   "attachments": {},
   "cell_type": "markdown",
   "metadata": {},
   "source": [
    "<font color='DarkTurquoise'>\n",
    "\n",
    "## Jan - May 2023\n",
    "</font>"
   ]
  },
  {
   "attachments": {},
   "cell_type": "markdown",
   "metadata": {},
   "source": [
    "Creating dataframe for period (Jan - May 2023)"
   ]
  },
  {
   "cell_type": "code",
   "execution_count": null,
   "metadata": {},
   "outputs": [],
   "source": [
    "df_2023 = df[df['date'] >= datetime(2023, 1, 1)].copy()\n",
    "df_2023['month'] = df_2023['date'].apply(lambda x: get_month(x))"
   ]
  },
  {
   "attachments": {},
   "cell_type": "markdown",
   "metadata": {},
   "source": [
    "Forming dataframe containing only news about war in Ukraine:"
   ]
  },
  {
   "cell_type": "code",
   "execution_count": null,
   "metadata": {},
   "outputs": [],
   "source": [
    "war_df_2023 = war_df[war_df['date'] >= datetime(2023, 1, 1)].copy()\n",
    "war_df_2023['month'] = war_df_2023['date'].apply(lambda x: get_month(x))\n",
    "war_df_2023.head()"
   ]
  },
  {
   "cell_type": "code",
   "execution_count": null,
   "metadata": {},
   "outputs": [],
   "source": [
    "war_perc_2023 = []\n",
    "months = list(range(1, 6))\n",
    "for month in months:\n",
    "    month_df = df_2023[df_2023['month'] == month].shape[0]\n",
    "    month_war_df = war_df_2023[war_df_2023['month'] == month].shape[0]\n",
    "    try:\n",
    "        war_perc_2023.append(round(month_war_df/month_df * 100, 2))\n",
    "    except ZeroDivisionError:\n",
    "        war_perc_2023.append(0.0)"
   ]
  },
  {
   "attachments": {},
   "cell_type": "markdown",
   "metadata": {},
   "source": [
    "### Building plot 2023"
   ]
  },
  {
   "cell_type": "code",
   "execution_count": null,
   "metadata": {},
   "outputs": [],
   "source": [
    "months = ['Jan', 'Feb', 'Mar', 'Apr', 'May']\n",
    "plt.figure(figsize = (10, 5))\n",
    " \n",
    "# creating the bar plot\n",
    "plt.bar(months, war_perc_2023, color ='CadetBlue', width = 0.7)\n",
    "plt.ylim(0, 100)\n",
    "\n",
    "plt.xlabel(\"Month\")\n",
    "plt.ylabel(\"Percents %\")\n",
    "plt.title(\"Percentage of news in SA about war in Ukraine in 2023\")\n",
    "plt.show()"
   ]
  },
  {
   "attachments": {},
   "cell_type": "markdown",
   "metadata": {},
   "source": [
    "<center>\n",
    "<font color='DarkTurquoise'>\n",
    "\n",
    "# Japan\n",
    "\n",
    "</font>\n",
    "</center>"
   ]
  },
  {
   "attachments": {},
   "cell_type": "markdown",
   "metadata": {},
   "source": [
    "**\"The Japan Times\"** news website is a prominent and reputable online platform that provides comprehensive coverage of news and current affairs related to Japan. With a strong focus on both domestic and international news, the website serves as a valuable resource for readers seeking reliable and up-to-date information about Japan and its place in the world."
   ]
  },
  {
   "cell_type": "code",
   "execution_count": null,
   "metadata": {},
   "outputs": [],
   "source": [
    "def create_dateframe():\n",
    "    \"\"\"\n",
    "    create dataframe from news dataframe\n",
    "    \"\"\"\n",
    "    df = pd.read_json('datasets/news.json')\n",
    "    date_format = '%Y-%m-%d'\n",
    "    df['date'] = pd.to_datetime(df['date'], format=date_format)\n",
    "    # df = df.sort_values(by='date')\n",
    "    df = df[df['date'] >= '2022-01-01']\n",
    "    return df\n",
    "\n",
    "df = create_dateframe()\n",
    "df.head()"
   ]
  },
  {
   "attachments": {},
   "cell_type": "markdown",
   "metadata": {},
   "source": [
    "Forming dataframe containing only news about war in Ukraine:"
   ]
  },
  {
   "cell_type": "code",
   "execution_count": null,
   "metadata": {},
   "outputs": [],
   "source": [
    "ukr_df = df[df['title'].apply(lambda x: check(x))]\n",
    "ukr_df = ukr_df.reset_index()\n",
    "ukr_df['year'] = pd.DatetimeIndex(ukr_df['date']).year\n",
    "ukr_df['month'] = pd.DatetimeIndex(ukr_df['date']).month\n",
    "ukr_df.head()"
   ]
  },
  {
   "cell_type": "code",
   "execution_count": null,
   "metadata": {},
   "outputs": [],
   "source": [
    "months_ukr_df = ukr_df.pivot_table(columns=['year', 'month'], aggfunc='size')\n",
    "months_ukr_df = months_ukr_df.reset_index()\n",
    "months_ukr_df.columns = ['year', 'month', 'count']\n",
    "months_ukr_df['date_plt'] = months_ukr_df['year'].apply(str) + '-' + months_ukr_df['month'].apply(str)\n",
    "months_ukr_df.head()"
   ]
  },
  {
   "cell_type": "code",
   "execution_count": null,
   "metadata": {},
   "outputs": [],
   "source": [
    "df['year'] = pd.DatetimeIndex(df['date']).year\n",
    "df['month'] = pd.DatetimeIndex(df['date']).month\n",
    "months_df = df.pivot_table(columns=['year', 'month'], aggfunc='size')\n",
    "months_df = months_df.reset_index()\n",
    "months_df.columns = ['year', 'month', 'count']\n",
    "months_df['date_plt'] = months_df['year'].apply(str) + '-' + months_df['month'].apply(str)\n",
    "months_df.head()"
   ]
  },
  {
   "cell_type": "code",
   "execution_count": null,
   "metadata": {},
   "outputs": [],
   "source": [
    "plt.figure(figsize=(15, 7))\n",
    "plt.bar(months_df['date_plt'], months_df['count'], color='#34eb9e')   \n",
    "plt.bar(months_ukr_df['date_plt'], months_ukr_df['count'], color='#eb3434')\n",
    "plt.legend(['green bars - all japan news', 'red bars - japan news about ukraine'])\n",
    "plt.show()"
   ]
  },
  {
   "attachments": {},
   "cell_type": "markdown",
   "metadata": {},
   "source": [
    "<center>\n",
    "<h2 style=\"color: #a5e9db\">\n",
    "The analysis of news coverage within the region of Donetsk, Ukraine, a significant epicenter of the ongoing conflict.\n",
    "</h2>\n",
    "\n",
    "</center>"
   ]
  },
  {
   "attachments": {},
   "cell_type": "markdown",
   "metadata": {},
   "source": [
    "The conflict in Eastern Ukraine, particularly in Donetsk, has been a focal point of international attention due to its far-reaching implications. As researchers dedicated to understanding the multifaceted nature of this conflict, we have directed our efforts towards examining the local news landscape within Donetsk to gain deeper insights into the narratives, perspectives, and impact of media reporting."
   ]
  },
  {
   "attachments": {},
   "cell_type": "markdown",
   "metadata": {},
   "source": [
    "<center>\n",
    "<font color='DarkTurquoise'>\n",
    "\n",
    "# Ukraine. Donetsk\n",
    "\n",
    "</font>\n",
    "</center>"
   ]
  },
  {
   "cell_type": "code",
   "execution_count": null,
   "metadata": {},
   "outputs": [],
   "source": [
    "df = pd.read_json('datasets/news_dan.json')\n",
    "df['year'] = pd.to_datetime(df['date'], format='%d.%m.%Y %H:%M').dt.year\n",
    "\n",
    "usless_words = ['что', 'это', 'для', 'как', 'так', 'и', 'в', 'над', 'к', 'до', 'не', 'на', 'но', 'за', 'то', 'с', 'ли', 'а', 'донбассе','донбасса']\n",
    "colors = ['#0080ff', '#00ffff', '#00ff80']"
   ]
  },
  {
   "cell_type": "code",
   "execution_count": null,
   "metadata": {},
   "outputs": [],
   "source": [
    "word_frequencies_by_year = {}\n",
    "for year, group in df.groupby('year'):\n",
    "    titles = ' '.join(group['title'])\n",
    "    word_tokens = word_tokenize(titles.lower())\n",
    "    word_tokens = [word for word in word_tokens if (word.isalpha() and len(word) > 2) and word not in usless_words] # Remove punctuation\n",
    "    word_frequencies_by_year[year] = FreqDist(word_tokens)\n",
    "word_frequencies_by_year"
   ]
  },
  {
   "cell_type": "code",
   "execution_count": null,
   "metadata": {},
   "outputs": [],
   "source": [
    "plt.figure(figsize=(30, 16))\n",
    "\n",
    "for year, word_frequencies in word_frequencies_by_year.items():\n",
    "    most_common_words = word_frequencies.most_common(3)\n",
    "    words, frequencies = zip(*most_common_words)\n",
    "\n",
    "    for index, word in enumerate(words):\n",
    "        plt.bar(f'{year} №{index+1}', frequencies[index], color=colors[index]) \n",
    "        plt.text(f'{year} №{index+1}', frequencies[index], word, ha='center', va='bottom', fontsize=12)\n",
    "\n",
    "plt.title(\"Most Frequent Words in Titles\", fontsize=28)\n",
    "plt.xlabel(\"Words\", fontsize=22)\n",
    "plt.ylabel(\"Frequency\", fontsize=22)\n",
    "plt.show()"
   ]
  },
  {
   "attachments": {},
   "cell_type": "markdown",
   "metadata": {},
   "source": [
    "<center>\n",
    "<font color='DarkTurquoise'>\n",
    "\n",
    "# Conclusion\n",
    "\n",
    "</font>\n",
    "</center>"
   ]
  },
  {
   "attachments": {},
   "cell_type": "markdown",
   "metadata": {},
   "source": [
    "##### <center>As you can observe from the graphs above, after more than a year of war, people around the world continue to be interested in news about the war in Ukraine. There is a noticeable greater interest in foreign media during hot situations at the front (for example, in the direction of Bakhmut) or important events for the course of the war, such as: the sinking of the ship \"Moscow\" or the liberation of Kherson.<center/>\n"
   ]
  }
 ],
 "metadata": {
  "kernelspec": {
   "display_name": "Python 3",
   "language": "python",
   "name": "python3"
  },
  "language_info": {
   "codemirror_mode": {
    "name": "ipython",
    "version": 3
   },
   "file_extension": ".py",
   "mimetype": "text/x-python",
   "name": "python",
   "nbconvert_exporter": "python",
   "pygments_lexer": "ipython3",
   "version": "3.10.6"
  },
  "orig_nbformat": 4
 },
 "nbformat": 4,
 "nbformat_minor": 2
}
