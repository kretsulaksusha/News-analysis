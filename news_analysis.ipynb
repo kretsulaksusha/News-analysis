{
 "cells": [
  {
   "attachments": {},
   "cell_type": "markdown",
   "metadata": {},
   "source": [
    "<center>\n",
    "<font color='DarkTurquoise'>\n",
    "\n",
    "# Analysis of news topics all over the world\n",
    "\n",
    "</font>\n",
    "</center>"
   ]
  },
  {
   "attachments": {},
   "cell_type": "markdown",
   "metadata": {},
   "source": [
    "### Our project aimed at analyzing news coverage worldwide and examining the prevalence of reports *regarding the ongoing conflict in Ukraine*."
   ]
  },
  {
   "attachments": {},
   "cell_type": "markdown",
   "metadata": {},
   "source": [
    "In a world driven by constant information flow, news plays a pivotal role in shaping public opinion and influencing international perceptions. Particularly, the media's role in covering conflicts serves as a crucial indicator of the magnitude and impact of such events on a global scale. So we have made a research about of one of the most pressing geopolitical issues of our time: <span style=\"color: DarkTurquoise\">the war in Ukraine</span>."
   ]
  },
  {
   "attachments": {},
   "cell_type": "markdown",
   "metadata": {},
   "source": [
    "With countless news websites disseminating information around the clock, it becomes increasingly challenging to comprehend the true extent of media coverage regarding specific events. Our project takes on this challenge, utilizing <a href=\"https://scrapy.org\" style=\"color: #55e0a3\">Python Scrapy</a> module to retrieve the data and then determine the prevalence and distribution of reports related to the conflict in Ukraine."
   ]
  },
  {
   "attachments": {},
   "cell_type": "markdown",
   "metadata": {},
   "source": [
    "We have analyzed <span style=\"color: DarkTurquoise\">5 different countries</span> and their most widely read newspaper:\n",
    "<p style=\"line-height: 25px;\">\n",
    "1. <b style=\"font-size: 20px\">USA</b>\n",
    "  <ul>\n",
    "    <li><a href=\"https://www.ft.com/world\" style=\"color: Orange\">Financial Times</a></li>\n",
    "  </ul>\n",
    "2. <b style=\"font-size: 20px\">Great Britain</b>\n",
    "  <ul>\n",
    "    <li><a href=\"https://subscription.theweek.co.uk\" style=\"color: Orange\">The Week</a></li>\n",
    "  </ul>\n",
    "3. <b style=\"font-size: 20px\">Germany</b>\n",
    "  <ul>\n",
    "    <li><a href=\"\" style=\"color: Orange\">Will be added soon</a></li>\n",
    "  </ul>\n",
    "4. <b style=\"font-size: 20px\">South Africa</b>\n",
    "  <ul>\n",
    "    <li><a href=\"https://www.sanews.gov.za\" style=\"color: Orange\">South African Government News Agency</a></li>\n",
    "    <li><a href=\"https://www.news24.com/news24\" style=\"color: Orange\">news24</a></li>\n",
    "  </ul>\n",
    "5. <b style=\"font-size: 20px\">Japan</b>\n",
    "  <ul>\n",
    "    <li><a href=\"https://www.japantimes.co.jp\" style=\"color: Orange\">The Japan Times</a></li>\n",
    "  </ul>\n",
    "</p>"
   ]
  },
  {
   "cell_type": "code",
   "execution_count": 1,
   "metadata": {},
   "outputs": [],
   "source": [
    "# importing python modules to work with data\n",
    "import pandas as pd\n",
    "import matplotlib.pyplot as plt\n",
    "from datetime import datetime\n",
    "import re\n",
    "from nltk.tokenize import word_tokenize\n",
    "from nltk.probability import FreqDist"
   ]
  },
  {
   "cell_type": "code",
   "execution_count": 2,
   "metadata": {},
   "outputs": [],
   "source": [
    "# keywords for finding alticles about the war in Ukraine\n",
    "keywords = [\n",
    "    \"ukraine\",\n",
    "    \"ukrainian\",\n",
    "    \"russia\",\n",
    "    \"russian\",\n",
    "    \"dpr\",\n",
    "    \"lpr\",\n",
    "    \"putin\",\n",
    "    \"zelensky\"\n",
    "]"
   ]
  },
  {
   "cell_type": "code",
   "execution_count": 3,
   "metadata": {},
   "outputs": [],
   "source": [
    "# additional functions\n",
    "def check(string: str):\n",
    "    for word in keywords:\n",
    "        if word in string.lower():\n",
    "            return True\n",
    "    return False\n",
    "\n",
    "def get_month(date: datetime):\n",
    "    return date.month"
   ]
  },
  {
   "attachments": {},
   "cell_type": "markdown",
   "metadata": {},
   "source": [
    "<center>\n",
    "<font color='DarkTurquoise'>\n",
    "\n",
    "# USA\n",
    "\n",
    "</font>\n",
    "</center>"
   ]
  },
  {
   "attachments": {},
   "cell_type": "markdown",
   "metadata": {},
   "source": [
    "**\"The Financial Times\"** is one of the world’s leading news organisations, recognised internationally for its authority, integrity and accuracy."
   ]
  },
  {
   "cell_type": "code",
   "execution_count": 4,
   "metadata": {},
   "outputs": [
    {
     "data": {
      "text/html": [
       "<div>\n",
       "<style scoped>\n",
       "    .dataframe tbody tr th:only-of-type {\n",
       "        vertical-align: middle;\n",
       "    }\n",
       "\n",
       "    .dataframe tbody tr th {\n",
       "        vertical-align: top;\n",
       "    }\n",
       "\n",
       "    .dataframe thead th {\n",
       "        text-align: right;\n",
       "    }\n",
       "</style>\n",
       "<table border=\"1\" class=\"dataframe\">\n",
       "  <thead>\n",
       "    <tr style=\"text-align: right;\">\n",
       "      <th></th>\n",
       "      <th>title</th>\n",
       "      <th>date</th>\n",
       "    </tr>\n",
       "  </thead>\n",
       "  <tbody>\n",
       "    <tr>\n",
       "      <th>0</th>\n",
       "      <td>‘Welfare to work’ rules become sticking point ...</td>\n",
       "      <td>2023-05-18</td>\n",
       "    </tr>\n",
       "    <tr>\n",
       "      <th>1</th>\n",
       "      <td>Russia admits ‘problems’ as energy revenues fall</td>\n",
       "      <td>2023-05-18</td>\n",
       "    </tr>\n",
       "    <tr>\n",
       "      <th>2</th>\n",
       "      <td>France holds up EU energy agreement over nucle...</td>\n",
       "      <td>2023-05-18</td>\n",
       "    </tr>\n",
       "    <tr>\n",
       "      <th>3</th>\n",
       "      <td>Penguin Random House sues Florida school distr...</td>\n",
       "      <td>2023-05-18</td>\n",
       "    </tr>\n",
       "    <tr>\n",
       "      <th>4</th>\n",
       "      <td>Ecuador’s president triggers ‘mutual death’ cl...</td>\n",
       "      <td>2023-05-18</td>\n",
       "    </tr>\n",
       "  </tbody>\n",
       "</table>\n",
       "</div>"
      ],
      "text/plain": [
       "                                               title       date\n",
       "0  ‘Welfare to work’ rules become sticking point ... 2023-05-18\n",
       "1   Russia admits ‘problems’ as energy revenues fall 2023-05-18\n",
       "2  France holds up EU energy agreement over nucle... 2023-05-18\n",
       "3  Penguin Random House sues Florida school distr... 2023-05-18\n",
       "4  Ecuador’s president triggers ‘mutual death’ cl... 2023-05-18"
      ]
     },
     "execution_count": 4,
     "metadata": {},
     "output_type": "execute_result"
    }
   ],
   "source": [
    "df = pd.read_json('datasets/news_ft.json')\n",
    "df.head()"
   ]
  },
  {
   "attachments": {},
   "cell_type": "markdown",
   "metadata": {},
   "source": [
    "Forming dataframe containing only news about war in Ukraine:"
   ]
  },
  {
   "cell_type": "code",
   "execution_count": 5,
   "metadata": {},
   "outputs": [
    {
     "data": {
      "text/html": [
       "<div>\n",
       "<style scoped>\n",
       "    .dataframe tbody tr th:only-of-type {\n",
       "        vertical-align: middle;\n",
       "    }\n",
       "\n",
       "    .dataframe tbody tr th {\n",
       "        vertical-align: top;\n",
       "    }\n",
       "\n",
       "    .dataframe thead th {\n",
       "        text-align: right;\n",
       "    }\n",
       "</style>\n",
       "<table border=\"1\" class=\"dataframe\">\n",
       "  <thead>\n",
       "    <tr style=\"text-align: right;\">\n",
       "      <th></th>\n",
       "      <th>title</th>\n",
       "      <th>date</th>\n",
       "    </tr>\n",
       "  </thead>\n",
       "  <tbody>\n",
       "    <tr>\n",
       "      <th>1</th>\n",
       "      <td>Russia admits ‘problems’ as energy revenues fall</td>\n",
       "      <td>2023-05-18</td>\n",
       "    </tr>\n",
       "    <tr>\n",
       "      <th>6</th>\n",
       "      <td>Ukraine’s allies fear military support will fa...</td>\n",
       "      <td>2023-05-18</td>\n",
       "    </tr>\n",
       "    <tr>\n",
       "      <th>9</th>\n",
       "      <td>Xi Jinping courts Central Asia as Russian infl...</td>\n",
       "      <td>2023-05-18</td>\n",
       "    </tr>\n",
       "    <tr>\n",
       "      <th>13</th>\n",
       "      <td>Tracking Russia’s invasion of Ukraine in maps</td>\n",
       "      <td>2023-05-18</td>\n",
       "    </tr>\n",
       "    <tr>\n",
       "      <th>18</th>\n",
       "      <td>Russia admits ‘problems’ as energy revenues fall</td>\n",
       "      <td>2023-05-18</td>\n",
       "    </tr>\n",
       "  </tbody>\n",
       "</table>\n",
       "</div>"
      ],
      "text/plain": [
       "                                                title       date\n",
       "1    Russia admits ‘problems’ as energy revenues fall 2023-05-18\n",
       "6   Ukraine’s allies fear military support will fa... 2023-05-18\n",
       "9   Xi Jinping courts Central Asia as Russian infl... 2023-05-18\n",
       "13      Tracking Russia’s invasion of Ukraine in maps 2023-05-18\n",
       "18   Russia admits ‘problems’ as energy revenues fall 2023-05-18"
      ]
     },
     "execution_count": 5,
     "metadata": {},
     "output_type": "execute_result"
    }
   ],
   "source": [
    "war_df = df[df['title'].apply(lambda x: check(x))]\n",
    "war_df.head()"
   ]
  },
  {
   "attachments": {},
   "cell_type": "markdown",
   "metadata": {},
   "source": [
    "Calculating the percentage of news about war in Ukraine:"
   ]
  },
  {
   "cell_type": "code",
   "execution_count": 6,
   "metadata": {},
   "outputs": [],
   "source": [
    "war_perc = []\n",
    "sorted_dates = sorted(list(war_df.date.unique()))\n",
    "for date in sorted_dates:\n",
    "    news_this_date = df[df['date'] == date].shape[0]\n",
    "    news_war = war_df[war_df['date'] == date].shape[0]\n",
    "    war_perc.append(round(news_war/news_this_date * 100, 2))\n",
    "\n",
    "str_dates = list(map(lambda x: str(x)[:10], sorted_dates))"
   ]
  },
  {
   "cell_type": "code",
   "execution_count": 7,
   "metadata": {},
   "outputs": [
    {
     "data": {
      "image/png": "[encoded data removed]",
      "text/plain": [
       "<Figure size 1500x800 with 1 Axes>"
      ]
     },
     "metadata": {},
     "output_type": "display_data"
    }
   ],
   "source": [
    "plt.figure(figsize=(15, 8))\n",
    "plt.bar(str_dates, war_perc, color ='CadetBlue')\n",
    "plt.ylim(0, 100)\n",
    "plt.xlabel('Date')\n",
    "plt.ylabel('Percentage of news about war in Ukraine')\n",
    "plt.title('News about war in Ukraine in Financial Times')\n",
    "plt.show()"
   ]
  },
  {
   "cell_type": "markdown",
   "metadata": {},
   "source": [
    "<center>\n",
    "<font color='DarkTurquoise'>\n",
    "\n",
    "# Great Britain\n",
    "\n",
    "</font>\n",
    "</center>"
   ]
  },
  {
   "attachments": {},
   "cell_type": "markdown",
   "metadata": {},
   "source": [
    "**\"The Week\"** news is a respected digital platform that offers a curated selection of news articles, opinion pieces, and cultural content. The website gathers news articles from various sources, including major national and international publications, and presents them in a concise and digestible format. This approach allows readers to quickly grasp multiple perspectives on a given topic and gain a comprehensive understanding of current events."
   ]
  },
  {
   "cell_type": "code",
   "execution_count": 8,
   "metadata": {},
   "outputs": [
    {
     "data": {
      "text/html": [
       "<div>\n",
       "<style scoped>\n",
       "    .dataframe tbody tr th:only-of-type {\n",
       "        vertical-align: middle;\n",
       "    }\n",
       "\n",
       "    .dataframe tbody tr th {\n",
       "        vertical-align: top;\n",
       "    }\n",
       "\n",
       "    .dataframe thead th {\n",
       "        text-align: right;\n",
       "    }\n",
       "</style>\n",
       "<table border=\"1\" class=\"dataframe\">\n",
       "  <thead>\n",
       "    <tr style=\"text-align: right;\">\n",
       "      <th></th>\n",
       "      <th>header</th>\n",
       "      <th>date</th>\n",
       "    </tr>\n",
       "  </thead>\n",
       "  <tbody>\n",
       "    <tr>\n",
       "      <th>0</th>\n",
       "      <td>Crypto risk, stealth wealth and the end of Vice</td>\n",
       "      <td>2023-05-19</td>\n",
       "    </tr>\n",
       "    <tr>\n",
       "      <th>1</th>\n",
       "      <td>The rehabilitation of Syria’s Bashar al-Assad</td>\n",
       "      <td>2023-05-19</td>\n",
       "    </tr>\n",
       "    <tr>\n",
       "      <th>2</th>\n",
       "      <td>AI job fears: how can we regulate the ‘rise of...</td>\n",
       "      <td>2023-05-19</td>\n",
       "    </tr>\n",
       "    <tr>\n",
       "      <th>3</th>\n",
       "      <td>Pakistan enters ‘uncharted territory’</td>\n",
       "      <td>2023-05-19</td>\n",
       "    </tr>\n",
       "    <tr>\n",
       "      <th>4</th>\n",
       "      <td>‘The great AI jobs bloodbath’</td>\n",
       "      <td>2023-05-19</td>\n",
       "    </tr>\n",
       "  </tbody>\n",
       "</table>\n",
       "</div>"
      ],
      "text/plain": [
       "                                              header       date\n",
       "0    Crypto risk, stealth wealth and the end of Vice 2023-05-19\n",
       "1      The rehabilitation of Syria’s Bashar al-Assad 2023-05-19\n",
       "2  AI job fears: how can we regulate the ‘rise of... 2023-05-19\n",
       "3              Pakistan enters ‘uncharted territory’ 2023-05-19\n",
       "4                      ‘The great AI jobs bloodbath’ 2023-05-19"
      ]
     },
     "execution_count": 8,
     "metadata": {},
     "output_type": "execute_result"
    }
   ],
   "source": [
    "df = pd.read_json(\"datasets/theweek.json\")\n",
    "df.head()"
   ]
  },
  {
   "cell_type": "markdown",
   "metadata": {},
   "source": [
    "Forming dataframe containing only news about war in Ukraine:"
   ]
  },
  {
   "cell_type": "code",
   "execution_count": 9,
   "metadata": {},
   "outputs": [
    {
     "data": {
      "text/html": [
       "<div>\n",
       "<style scoped>\n",
       "    .dataframe tbody tr th:only-of-type {\n",
       "        vertical-align: middle;\n",
       "    }\n",
       "\n",
       "    .dataframe tbody tr th {\n",
       "        vertical-align: top;\n",
       "    }\n",
       "\n",
       "    .dataframe thead th {\n",
       "        text-align: right;\n",
       "    }\n",
       "</style>\n",
       "<table border=\"1\" class=\"dataframe\">\n",
       "  <thead>\n",
       "    <tr style=\"text-align: right;\">\n",
       "      <th></th>\n",
       "      <th>header</th>\n",
       "      <th>date</th>\n",
       "    </tr>\n",
       "  </thead>\n",
       "  <tbody>\n",
       "    <tr>\n",
       "      <th>6</th>\n",
       "      <td>Nato vs. Russia: who would win?</td>\n",
       "      <td>2023-05-18</td>\n",
       "    </tr>\n",
       "    <tr>\n",
       "      <th>8</th>\n",
       "      <td>Russia’s allies: who is supporting Putin?</td>\n",
       "      <td>2023-05-18</td>\n",
       "    </tr>\n",
       "    <tr>\n",
       "      <th>10</th>\n",
       "      <td>How fruitful was Zelenskyy’s European tour?</td>\n",
       "      <td>2023-05-18</td>\n",
       "    </tr>\n",
       "    <tr>\n",
       "      <th>28</th>\n",
       "      <td>Russia’s scaled-back Victory Day parade</td>\n",
       "      <td>2023-05-12</td>\n",
       "    </tr>\n",
       "    <tr>\n",
       "      <th>48</th>\n",
       "      <td>Evan Gershkovich: what does Russia want from j...</td>\n",
       "      <td>2023-04-03</td>\n",
       "    </tr>\n",
       "  </tbody>\n",
       "</table>\n",
       "</div>"
      ],
      "text/plain": [
       "                                               header       date\n",
       "6                     Nato vs. Russia: who would win? 2023-05-18\n",
       "8           Russia’s allies: who is supporting Putin? 2023-05-18\n",
       "10        How fruitful was Zelenskyy’s European tour? 2023-05-18\n",
       "28            Russia’s scaled-back Victory Day parade 2023-05-12\n",
       "48  Evan Gershkovich: what does Russia want from j... 2023-04-03"
      ]
     },
     "execution_count": 9,
     "metadata": {},
     "output_type": "execute_result"
    }
   ],
   "source": [
    "war_df = df[df['header'].apply(lambda x: check(x))]\n",
    "war_df.head()"
   ]
  },
  {
   "attachments": {},
   "cell_type": "markdown",
   "metadata": {},
   "source": [
    "<font color='DarkTurquoise'>\n",
    "\n",
    "## February 2022 - December 2022\n",
    "</font>"
   ]
  },
  {
   "cell_type": "markdown",
   "metadata": {},
   "source": [
    "Creating dataframe for period (February 2022 - December 2022)"
   ]
  },
  {
   "cell_type": "code",
   "execution_count": 10,
   "metadata": {},
   "outputs": [
    {
     "data": {
      "text/html": [
       "<div>\n",
       "<style scoped>\n",
       "    .dataframe tbody tr th:only-of-type {\n",
       "        vertical-align: middle;\n",
       "    }\n",
       "\n",
       "    .dataframe tbody tr th {\n",
       "        vertical-align: top;\n",
       "    }\n",
       "\n",
       "    .dataframe thead th {\n",
       "        text-align: right;\n",
       "    }\n",
       "</style>\n",
       "<table border=\"1\" class=\"dataframe\">\n",
       "  <thead>\n",
       "    <tr style=\"text-align: right;\">\n",
       "      <th></th>\n",
       "      <th>header</th>\n",
       "      <th>date</th>\n",
       "      <th>month</th>\n",
       "    </tr>\n",
       "  </thead>\n",
       "  <tbody>\n",
       "    <tr>\n",
       "      <th>447</th>\n",
       "      <td>What will happen in 2023?</td>\n",
       "      <td>2022-12-30</td>\n",
       "      <td>12</td>\n",
       "    </tr>\n",
       "    <tr>\n",
       "      <th>456</th>\n",
       "      <td>Sport’s big winners of 2022</td>\n",
       "      <td>2022-12-29</td>\n",
       "      <td>12</td>\n",
       "    </tr>\n",
       "    <tr>\n",
       "      <th>457</th>\n",
       "      <td>Celebrities and global icons who died in 2022</td>\n",
       "      <td>2022-12-29</td>\n",
       "      <td>12</td>\n",
       "    </tr>\n",
       "    <tr>\n",
       "      <th>458</th>\n",
       "      <td>The best tabloid stories of 2022</td>\n",
       "      <td>2022-12-27</td>\n",
       "      <td>12</td>\n",
       "    </tr>\n",
       "    <tr>\n",
       "      <th>459</th>\n",
       "      <td>People of 2022: from Meghan Markle to Matt Han...</td>\n",
       "      <td>2022-12-27</td>\n",
       "      <td>12</td>\n",
       "    </tr>\n",
       "  </tbody>\n",
       "</table>\n",
       "</div>"
      ],
      "text/plain": [
       "                                                header       date  month\n",
       "447                          What will happen in 2023? 2022-12-30     12\n",
       "456                       Sport’s big winners of 2022  2022-12-29     12\n",
       "457      Celebrities and global icons who died in 2022 2022-12-29     12\n",
       "458                   The best tabloid stories of 2022 2022-12-27     12\n",
       "459  People of 2022: from Meghan Markle to Matt Han... 2022-12-27     12"
      ]
     },
     "execution_count": 10,
     "metadata": {},
     "output_type": "execute_result"
    }
   ],
   "source": [
    "df_2022 = df.loc[df['date'] < datetime(2023, 1, 1)].copy()\n",
    "df_2022.loc[:, 'month'] = df_2022['date'].apply(lambda x: get_month(x))\n",
    "\n",
    "df_2022.head()"
   ]
  },
  {
   "cell_type": "markdown",
   "metadata": {},
   "source": [
    "Creating dataframe with news about Ukraine for period (February 2022 - December 2022)"
   ]
  },
  {
   "cell_type": "code",
   "execution_count": 11,
   "metadata": {},
   "outputs": [
    {
     "data": {
      "text/html": [
       "<div>\n",
       "<style scoped>\n",
       "    .dataframe tbody tr th:only-of-type {\n",
       "        vertical-align: middle;\n",
       "    }\n",
       "\n",
       "    .dataframe tbody tr th {\n",
       "        vertical-align: top;\n",
       "    }\n",
       "\n",
       "    .dataframe thead th {\n",
       "        text-align: right;\n",
       "    }\n",
       "</style>\n",
       "<table border=\"1\" class=\"dataframe\">\n",
       "  <thead>\n",
       "    <tr style=\"text-align: right;\">\n",
       "      <th></th>\n",
       "      <th>header</th>\n",
       "      <th>date</th>\n",
       "      <th>month</th>\n",
       "    </tr>\n",
       "  </thead>\n",
       "  <tbody>\n",
       "    <tr>\n",
       "      <th>462</th>\n",
       "      <td>Putin believes in Santa ‘like all decent peopl...</td>\n",
       "      <td>2022-12-23</td>\n",
       "      <td>12</td>\n",
       "    </tr>\n",
       "    <tr>\n",
       "      <th>475</th>\n",
       "      <td>Can landmark Zelenskyy visit to Washington cha...</td>\n",
       "      <td>2022-12-21</td>\n",
       "      <td>12</td>\n",
       "    </tr>\n",
       "    <tr>\n",
       "      <th>495</th>\n",
       "      <td>What next for the world if Russia loses in Ukr...</td>\n",
       "      <td>2022-12-16</td>\n",
       "      <td>12</td>\n",
       "    </tr>\n",
       "    <tr>\n",
       "      <th>503</th>\n",
       "      <td>VDV: who are Russia’s elite airborne force?</td>\n",
       "      <td>2022-11-28</td>\n",
       "      <td>11</td>\n",
       "    </tr>\n",
       "    <tr>\n",
       "      <th>514</th>\n",
       "      <td>Trump’s trial, Ukraine’s art and extra extra time</td>\n",
       "      <td>2022-11-25</td>\n",
       "      <td>11</td>\n",
       "    </tr>\n",
       "  </tbody>\n",
       "</table>\n",
       "</div>"
      ],
      "text/plain": [
       "                                                header       date  month\n",
       "462  Putin believes in Santa ‘like all decent peopl... 2022-12-23     12\n",
       "475  Can landmark Zelenskyy visit to Washington cha... 2022-12-21     12\n",
       "495  What next for the world if Russia loses in Ukr... 2022-12-16     12\n",
       "503        VDV: who are Russia’s elite airborne force? 2022-11-28     11\n",
       "514  Trump’s trial, Ukraine’s art and extra extra time 2022-11-25     11"
      ]
     },
     "execution_count": 11,
     "metadata": {},
     "output_type": "execute_result"
    }
   ],
   "source": [
    "war_df_2022 = war_df.loc[war_df['date'] < datetime(2023, 1, 1)].copy()\n",
    "war_df_2022.loc[:, 'month'] = war_df_2022['date'].apply(lambda x: get_month(x))\n",
    "\n",
    "war_df_2022.head()"
   ]
  },
  {
   "cell_type": "markdown",
   "metadata": {},
   "source": [
    "Calculation of percentages of Ukrainian news"
   ]
  },
  {
   "cell_type": "code",
   "execution_count": 12,
   "metadata": {},
   "outputs": [],
   "source": [
    "war_perc_2022 = []\n",
    "months = list(range(2, 13))\n",
    "for month in months:\n",
    "    month_df = df_2022[df_2022['month'] == month].shape[0]\n",
    "    month_war_df = war_df_2022[war_df_2022['month'] == month].shape[0]\n",
    "    try:\n",
    "        war_perc_2022.append(round(month_war_df/month_df * 100, 2))\n",
    "    except ZeroDivisionError:\n",
    "        war_perc_2022.append(0.0)"
   ]
  },
  {
   "cell_type": "markdown",
   "metadata": {},
   "source": [
    "### Visualisation of 2022"
   ]
  },
  {
   "cell_type": "code",
   "execution_count": 13,
   "metadata": {},
   "outputs": [
    {
     "data": {
      "image/png": "[encoded data removed]",
      "text/plain": [
       "<Figure size 1000x500 with 1 Axes>"
      ]
     },
     "metadata": {},
     "output_type": "display_data"
    }
   ],
   "source": [
    "months = ['Feb', 'Mar', 'Apr', 'May', 'Jun', 'Jul', 'Aug', 'Sep', 'Oct', 'Nov', 'Dec']\n",
    "plt.figure(figsize = (10, 5))\n",
    "\n",
    "plt.bar(months, war_perc_2022, color ='CadetBlue', width = 0.7)\n",
    "plt.ylim(0, 100)\n",
    "\n",
    "plt.xlabel(\"Month\")\n",
    "plt.ylabel(\"Percents %\")\n",
    "plt.title(\"Percentage of news The Week News about war in Ukraine in 2022\")\n",
    "plt.show()"
   ]
  },
  {
   "attachments": {},
   "cell_type": "markdown",
   "metadata": {},
   "source": [
    "<font color='DarkTurquoise'>\n",
    "\n",
    "## January 2023 - May 2023\n",
    "</font>"
   ]
  },
  {
   "cell_type": "markdown",
   "metadata": {},
   "source": [
    "Creating dataframe for period (January 2023 - May 2023)"
   ]
  },
  {
   "cell_type": "code",
   "execution_count": 14,
   "metadata": {},
   "outputs": [
    {
     "data": {
      "text/html": [
       "<div>\n",
       "<style scoped>\n",
       "    .dataframe tbody tr th:only-of-type {\n",
       "        vertical-align: middle;\n",
       "    }\n",
       "\n",
       "    .dataframe tbody tr th {\n",
       "        vertical-align: top;\n",
       "    }\n",
       "\n",
       "    .dataframe thead th {\n",
       "        text-align: right;\n",
       "    }\n",
       "</style>\n",
       "<table border=\"1\" class=\"dataframe\">\n",
       "  <thead>\n",
       "    <tr style=\"text-align: right;\">\n",
       "      <th></th>\n",
       "      <th>header</th>\n",
       "      <th>date</th>\n",
       "      <th>month</th>\n",
       "    </tr>\n",
       "  </thead>\n",
       "  <tbody>\n",
       "    <tr>\n",
       "      <th>0</th>\n",
       "      <td>Crypto risk, stealth wealth and the end of Vice</td>\n",
       "      <td>2023-05-19</td>\n",
       "      <td>5</td>\n",
       "    </tr>\n",
       "    <tr>\n",
       "      <th>1</th>\n",
       "      <td>The rehabilitation of Syria’s Bashar al-Assad</td>\n",
       "      <td>2023-05-19</td>\n",
       "      <td>5</td>\n",
       "    </tr>\n",
       "    <tr>\n",
       "      <th>2</th>\n",
       "      <td>AI job fears: how can we regulate the ‘rise of...</td>\n",
       "      <td>2023-05-19</td>\n",
       "      <td>5</td>\n",
       "    </tr>\n",
       "    <tr>\n",
       "      <th>3</th>\n",
       "      <td>Pakistan enters ‘uncharted territory’</td>\n",
       "      <td>2023-05-19</td>\n",
       "      <td>5</td>\n",
       "    </tr>\n",
       "    <tr>\n",
       "      <th>4</th>\n",
       "      <td>‘The great AI jobs bloodbath’</td>\n",
       "      <td>2023-05-19</td>\n",
       "      <td>5</td>\n",
       "    </tr>\n",
       "  </tbody>\n",
       "</table>\n",
       "</div>"
      ],
      "text/plain": [
       "                                              header       date  month\n",
       "0    Crypto risk, stealth wealth and the end of Vice 2023-05-19      5\n",
       "1      The rehabilitation of Syria’s Bashar al-Assad 2023-05-19      5\n",
       "2  AI job fears: how can we regulate the ‘rise of... 2023-05-19      5\n",
       "3              Pakistan enters ‘uncharted territory’ 2023-05-19      5\n",
       "4                      ‘The great AI jobs bloodbath’ 2023-05-19      5"
      ]
     },
     "execution_count": 14,
     "metadata": {},
     "output_type": "execute_result"
    }
   ],
   "source": [
    "df_2023 = df.loc[df['date'] >= datetime(2023, 1, 1)].copy()\n",
    "df_2023.loc[:, 'month'] = df_2023['date'].apply(lambda x: get_month(x))\n",
    "\n",
    "df_2023.head()"
   ]
  },
  {
   "cell_type": "markdown",
   "metadata": {},
   "source": [
    "Creating dataframe with news about Ukraine for period (January 2023 - May 2023)"
   ]
  },
  {
   "cell_type": "code",
   "execution_count": 15,
   "metadata": {},
   "outputs": [
    {
     "data": {
      "text/html": [
       "<div>\n",
       "<style scoped>\n",
       "    .dataframe tbody tr th:only-of-type {\n",
       "        vertical-align: middle;\n",
       "    }\n",
       "\n",
       "    .dataframe tbody tr th {\n",
       "        vertical-align: top;\n",
       "    }\n",
       "\n",
       "    .dataframe thead th {\n",
       "        text-align: right;\n",
       "    }\n",
       "</style>\n",
       "<table border=\"1\" class=\"dataframe\">\n",
       "  <thead>\n",
       "    <tr style=\"text-align: right;\">\n",
       "      <th></th>\n",
       "      <th>header</th>\n",
       "      <th>date</th>\n",
       "      <th>month</th>\n",
       "    </tr>\n",
       "  </thead>\n",
       "  <tbody>\n",
       "    <tr>\n",
       "      <th>6</th>\n",
       "      <td>Nato vs. Russia: who would win?</td>\n",
       "      <td>2023-05-18</td>\n",
       "      <td>5</td>\n",
       "    </tr>\n",
       "    <tr>\n",
       "      <th>8</th>\n",
       "      <td>Russia’s allies: who is supporting Putin?</td>\n",
       "      <td>2023-05-18</td>\n",
       "      <td>5</td>\n",
       "    </tr>\n",
       "    <tr>\n",
       "      <th>10</th>\n",
       "      <td>How fruitful was Zelenskyy’s European tour?</td>\n",
       "      <td>2023-05-18</td>\n",
       "      <td>5</td>\n",
       "    </tr>\n",
       "    <tr>\n",
       "      <th>28</th>\n",
       "      <td>Russia’s scaled-back Victory Day parade</td>\n",
       "      <td>2023-05-12</td>\n",
       "      <td>5</td>\n",
       "    </tr>\n",
       "    <tr>\n",
       "      <th>48</th>\n",
       "      <td>Evan Gershkovich: what does Russia want from j...</td>\n",
       "      <td>2023-04-03</td>\n",
       "      <td>4</td>\n",
       "    </tr>\n",
       "  </tbody>\n",
       "</table>\n",
       "</div>"
      ],
      "text/plain": [
       "                                               header       date  month\n",
       "6                     Nato vs. Russia: who would win? 2023-05-18      5\n",
       "8           Russia’s allies: who is supporting Putin? 2023-05-18      5\n",
       "10        How fruitful was Zelenskyy’s European tour? 2023-05-18      5\n",
       "28            Russia’s scaled-back Victory Day parade 2023-05-12      5\n",
       "48  Evan Gershkovich: what does Russia want from j... 2023-04-03      4"
      ]
     },
     "execution_count": 15,
     "metadata": {},
     "output_type": "execute_result"
    }
   ],
   "source": [
    "war_df_2023 = war_df.loc[war_df['date'] >= datetime(2023, 1, 1)].copy()\n",
    "war_df_2023.loc[:, 'month'] = war_df_2023['date'].apply(lambda x: get_month(x))\n",
    "\n",
    "war_df_2023.head()"
   ]
  },
  {
   "cell_type": "markdown",
   "metadata": {},
   "source": [
    "Calculation of percentages of Ukrainian news"
   ]
  },
  {
   "cell_type": "code",
   "execution_count": 16,
   "metadata": {},
   "outputs": [],
   "source": [
    "war_perc_2023 = []\n",
    "months = list(range(1, 6))\n",
    "for month in months:\n",
    "    month_df = df_2023[df_2023['month'] == month].shape[0]\n",
    "    month_war_df = war_df_2023[war_df_2023['month'] == month].shape[0]\n",
    "    try:\n",
    "        war_perc_2023.append(round(month_war_df/month_df * 100, 2))\n",
    "    except ZeroDivisionError:\n",
    "        war_perc_2023.append(0.0)"
   ]
  },
  {
   "cell_type": "markdown",
   "metadata": {},
   "source": [
    "### Visualisation of 2023"
   ]
  },
  {
   "cell_type": "code",
   "execution_count": 17,
   "metadata": {},
   "outputs": [
    {
     "data": {
      "image/png": "[encoded data removed]",
      "text/plain": [
       "<Figure size 1000x500 with 1 Axes>"
      ]
     },
     "metadata": {},
     "output_type": "display_data"
    }
   ],
   "source": [
    "months = ['Jan', 'Feb', 'Mar', 'Apr', 'May']\n",
    "plt.figure(figsize = (10, 5))\n",
    "\n",
    "plt.bar(months, war_perc_2023, color ='CadetBlue', width = 0.7)\n",
    "plt.ylim(0, 100)\n",
    "\n",
    "plt.xlabel(\"Month\")\n",
    "plt.ylabel(\"Percents %\")\n",
    "plt.title(\"Percentage of news in The Week News about war in Ukraine in 2023\")\n",
    "plt.show()"
   ]
  },
  {
   "attachments": {},
   "cell_type": "markdown",
   "metadata": {},
   "source": [
    "<center>\n",
    "<font color='DarkTurquoise'>\n",
    "\n",
    "# Germany\n",
    "\n",
    "</font>\n",
    "</center>"
   ]
  },
  {
   "attachments": {},
   "cell_type": "markdown",
   "metadata": {},
   "source": [
    "Will be added soon"
   ]
  },
  {
   "attachments": {},
   "cell_type": "markdown",
   "metadata": {},
   "source": [
    "<center>\n",
    "<font color='DarkTurquoise'>\n",
    "\n",
    "# South Africa\n",
    "\n",
    "</font>\n",
    "</center>"
   ]
  },
  {
   "attachments": {},
   "cell_type": "markdown",
   "metadata": {},
   "source": [
    "<h3><b>Newspaper</b>: <span style=\"color: #79c2d0\">News24</span></h3>"
   ]
  },
  {
   "cell_type": "markdown",
   "metadata": {},
   "source": [
    "**News24** is owned by Media24, South Africa's leading media company, with interests in digital media and services, newspapers, magazines, e-commerce, book publishing, print and distribution. "
   ]
  },
  {
   "cell_type": "code",
   "execution_count": 18,
   "metadata": {},
   "outputs": [
    {
     "data": {
      "text/html": [
       "<div>\n",
       "<style scoped>\n",
       "    .dataframe tbody tr th:only-of-type {\n",
       "        vertical-align: middle;\n",
       "    }\n",
       "\n",
       "    .dataframe tbody tr th {\n",
       "        vertical-align: top;\n",
       "    }\n",
       "\n",
       "    .dataframe thead th {\n",
       "        text-align: right;\n",
       "    }\n",
       "</style>\n",
       "<table border=\"1\" class=\"dataframe\">\n",
       "  <thead>\n",
       "    <tr style=\"text-align: right;\">\n",
       "      <th></th>\n",
       "      <th>title</th>\n",
       "      <th>date</th>\n",
       "      <th>url</th>\n",
       "    </tr>\n",
       "  </thead>\n",
       "  <tbody>\n",
       "    <tr>\n",
       "      <th>0</th>\n",
       "      <td>Will political pacts save SA? Steenhuisen, Mas...</td>\n",
       "      <td>2023-04-13</td>\n",
       "      <td>https://www.news24.com/news24/opinions/reader_...</td>\n",
       "    </tr>\n",
       "    <tr>\n",
       "      <th>1</th>\n",
       "      <td>Who will govern SA after 2024? Sign up for our...</td>\n",
       "      <td>2023-02-07</td>\n",
       "      <td>https://www.news24.com/news24/opinions/reader_...</td>\n",
       "    </tr>\n",
       "    <tr>\n",
       "      <th>2</th>\n",
       "      <td>WRAP | Public Protector impeachment resumes af...</td>\n",
       "      <td>2023-05-15</td>\n",
       "      <td>https://www.news24.com/news24/southafrica/news...</td>\n",
       "    </tr>\n",
       "    <tr>\n",
       "      <th>3</th>\n",
       "      <td>Do you have any complaints or feedback about N...</td>\n",
       "      <td>2020-04-08</td>\n",
       "      <td>https://www.news24.com/news24/southafrica/news...</td>\n",
       "    </tr>\n",
       "    <tr>\n",
       "      <th>4</th>\n",
       "      <td>Russian embassy hits back at US ambassador's c...</td>\n",
       "      <td>2023-05-16</td>\n",
       "      <td>https://www.news24.com/news24/politics/governm...</td>\n",
       "    </tr>\n",
       "  </tbody>\n",
       "</table>\n",
       "</div>"
      ],
      "text/plain": [
       "                                               title       date  \\\n",
       "0  Will political pacts save SA? Steenhuisen, Mas... 2023-04-13   \n",
       "1  Who will govern SA after 2024? Sign up for our... 2023-02-07   \n",
       "2  WRAP | Public Protector impeachment resumes af... 2023-05-15   \n",
       "3  Do you have any complaints or feedback about N... 2020-04-08   \n",
       "4  Russian embassy hits back at US ambassador's c... 2023-05-16   \n",
       "\n",
       "                                                 url  \n",
       "0  https://www.news24.com/news24/opinions/reader_...  \n",
       "1  https://www.news24.com/news24/opinions/reader_...  \n",
       "2  https://www.news24.com/news24/southafrica/news...  \n",
       "3  https://www.news24.com/news24/southafrica/news...  \n",
       "4  https://www.news24.com/news24/politics/governm...  "
      ]
     },
     "execution_count": 18,
     "metadata": {},
     "output_type": "execute_result"
    }
   ],
   "source": [
    "df = pd.read_json('datasets/news_24_dataset.json')\n",
    "df.head()"
   ]
  },
  {
   "cell_type": "markdown",
   "metadata": {},
   "source": [
    "Forming dataframe containing only news about war in Ukraine:"
   ]
  },
  {
   "cell_type": "code",
   "execution_count": 19,
   "metadata": {},
   "outputs": [
    {
     "data": {
      "text/html": [
       "<div>\n",
       "<style scoped>\n",
       "    .dataframe tbody tr th:only-of-type {\n",
       "        vertical-align: middle;\n",
       "    }\n",
       "\n",
       "    .dataframe tbody tr th {\n",
       "        vertical-align: top;\n",
       "    }\n",
       "\n",
       "    .dataframe thead th {\n",
       "        text-align: right;\n",
       "    }\n",
       "</style>\n",
       "<table border=\"1\" class=\"dataframe\">\n",
       "  <thead>\n",
       "    <tr style=\"text-align: right;\">\n",
       "      <th></th>\n",
       "      <th>title</th>\n",
       "      <th>date</th>\n",
       "      <th>url</th>\n",
       "    </tr>\n",
       "  </thead>\n",
       "  <tbody>\n",
       "    <tr>\n",
       "      <th>4</th>\n",
       "      <td>Russian embassy hits back at US ambassador's c...</td>\n",
       "      <td>2023-05-16</td>\n",
       "      <td>https://www.news24.com/news24/politics/governm...</td>\n",
       "    </tr>\n",
       "    <tr>\n",
       "      <th>7</th>\n",
       "      <td>#LadyRussiagate | Putin, Zelensky accept Afric...</td>\n",
       "      <td>2023-05-16</td>\n",
       "      <td>https://www.news24.com/news24/politics/parliam...</td>\n",
       "    </tr>\n",
       "    <tr>\n",
       "      <th>8</th>\n",
       "      <td>#LadyRussiagate | US ambassador 'totally misre...</td>\n",
       "      <td>2023-05-16</td>\n",
       "      <td>https://www.news24.com/news24/politics/governm...</td>\n",
       "    </tr>\n",
       "    <tr>\n",
       "      <th>19</th>\n",
       "      <td>'Non-aligned' nonchalance: SA won't be forced ...</td>\n",
       "      <td>2023-05-15</td>\n",
       "      <td>https://www.news24.com/news24/politics/governm...</td>\n",
       "    </tr>\n",
       "    <tr>\n",
       "      <th>25</th>\n",
       "      <td>#LadyRussiagate: Ramaphosa, Zelensky hold talk...</td>\n",
       "      <td>2023-05-14</td>\n",
       "      <td>https://www.news24.com/fin24/economy/ladyrussi...</td>\n",
       "    </tr>\n",
       "  </tbody>\n",
       "</table>\n",
       "</div>"
      ],
      "text/plain": [
       "                                                title       date  \\\n",
       "4   Russian embassy hits back at US ambassador's c... 2023-05-16   \n",
       "7   #LadyRussiagate | Putin, Zelensky accept Afric... 2023-05-16   \n",
       "8   #LadyRussiagate | US ambassador 'totally misre... 2023-05-16   \n",
       "19  'Non-aligned' nonchalance: SA won't be forced ... 2023-05-15   \n",
       "25  #LadyRussiagate: Ramaphosa, Zelensky hold talk... 2023-05-14   \n",
       "\n",
       "                                                  url  \n",
       "4   https://www.news24.com/news24/politics/governm...  \n",
       "7   https://www.news24.com/news24/politics/parliam...  \n",
       "8   https://www.news24.com/news24/politics/governm...  \n",
       "19  https://www.news24.com/news24/politics/governm...  \n",
       "25  https://www.news24.com/fin24/economy/ladyrussi...  "
      ]
     },
     "execution_count": 19,
     "metadata": {},
     "output_type": "execute_result"
    }
   ],
   "source": [
    "war_df = df[df['title'].apply(lambda x: check(x))]\n",
    "war_df.head()"
   ]
  },
  {
   "attachments": {},
   "cell_type": "markdown",
   "metadata": {},
   "source": [
    "<font color='DarkTurquoise'>\n",
    "\n",
    "## Jun - Dec 2022\n",
    "</font>"
   ]
  },
  {
   "attachments": {},
   "cell_type": "markdown",
   "metadata": {},
   "source": [
    "Creating dataframe for period (Jun - Dec 2022)"
   ]
  },
  {
   "cell_type": "code",
   "execution_count": 20,
   "metadata": {},
   "outputs": [
    {
     "data": {
      "text/html": [
       "<div>\n",
       "<style scoped>\n",
       "    .dataframe tbody tr th:only-of-type {\n",
       "        vertical-align: middle;\n",
       "    }\n",
       "\n",
       "    .dataframe tbody tr th {\n",
       "        vertical-align: top;\n",
       "    }\n",
       "\n",
       "    .dataframe thead th {\n",
       "        text-align: right;\n",
       "    }\n",
       "</style>\n",
       "<table border=\"1\" class=\"dataframe\">\n",
       "  <thead>\n",
       "    <tr style=\"text-align: right;\">\n",
       "      <th></th>\n",
       "      <th>title</th>\n",
       "      <th>date</th>\n",
       "      <th>url</th>\n",
       "      <th>month</th>\n",
       "    </tr>\n",
       "  </thead>\n",
       "  <tbody>\n",
       "    <tr>\n",
       "      <th>729</th>\n",
       "      <td>WATCH | Cyril Ramaphosa wins second term as AN...</td>\n",
       "      <td>2022-12-19</td>\n",
       "      <td>https://www.news24.com/news24/politics/breakin...</td>\n",
       "      <td>12</td>\n",
       "    </tr>\n",
       "    <tr>\n",
       "      <th>730</th>\n",
       "      <td>WATCH | This is the top 7: all the coverage fr...</td>\n",
       "      <td>2022-12-18</td>\n",
       "      <td>https://www.news24.com/news24/politics/watch-a...</td>\n",
       "      <td>12</td>\n",
       "    </tr>\n",
       "    <tr>\n",
       "      <th>731</th>\n",
       "      <td>ANC in Gauteng split between Ramaphosa and Mkh...</td>\n",
       "      <td>2022-12-15</td>\n",
       "      <td>https://www.news24.com/news24/politics/anc-in-...</td>\n",
       "      <td>12</td>\n",
       "    </tr>\n",
       "    <tr>\n",
       "      <th>732</th>\n",
       "      <td>POLITICS THIS WEEK | Ramaphosa to meet King Ch...</td>\n",
       "      <td>2022-11-21</td>\n",
       "      <td>https://www.news24.com/news24/politics/politic...</td>\n",
       "      <td>11</td>\n",
       "    </tr>\n",
       "    <tr>\n",
       "      <th>733</th>\n",
       "      <td>DA bags majority seats in re-elected Ekurhulen...</td>\n",
       "      <td>2022-11-15</td>\n",
       "      <td>https://www.news24.com/news24/politics/da-bags...</td>\n",
       "      <td>11</td>\n",
       "    </tr>\n",
       "  </tbody>\n",
       "</table>\n",
       "</div>"
      ],
      "text/plain": [
       "                                                 title       date  \\\n",
       "729  WATCH | Cyril Ramaphosa wins second term as AN... 2022-12-19   \n",
       "730  WATCH | This is the top 7: all the coverage fr... 2022-12-18   \n",
       "731  ANC in Gauteng split between Ramaphosa and Mkh... 2022-12-15   \n",
       "732  POLITICS THIS WEEK | Ramaphosa to meet King Ch... 2022-11-21   \n",
       "733  DA bags majority seats in re-elected Ekurhulen... 2022-11-15   \n",
       "\n",
       "                                                   url  month  \n",
       "729  https://www.news24.com/news24/politics/breakin...     12  \n",
       "730  https://www.news24.com/news24/politics/watch-a...     12  \n",
       "731  https://www.news24.com/news24/politics/anc-in-...     12  \n",
       "732  https://www.news24.com/news24/politics/politic...     11  \n",
       "733  https://www.news24.com/news24/politics/da-bags...     11  "
      ]
     },
     "execution_count": 20,
     "metadata": {},
     "output_type": "execute_result"
    }
   ],
   "source": [
    "df_2022 = df[df['date'] < datetime(2023, 1, 1)][1:].copy()\n",
    "df_2022['month'] = df_2022['date'].apply(lambda x: get_month(x))\n",
    "df_2022.head()"
   ]
  },
  {
   "cell_type": "markdown",
   "metadata": {},
   "source": [
    "Forming dataframe containing only news about war in Ukraine:"
   ]
  },
  {
   "cell_type": "code",
   "execution_count": 21,
   "metadata": {},
   "outputs": [
    {
     "data": {
      "text/html": [
       "<div>\n",
       "<style scoped>\n",
       "    .dataframe tbody tr th:only-of-type {\n",
       "        vertical-align: middle;\n",
       "    }\n",
       "\n",
       "    .dataframe tbody tr th {\n",
       "        vertical-align: top;\n",
       "    }\n",
       "\n",
       "    .dataframe thead th {\n",
       "        text-align: right;\n",
       "    }\n",
       "</style>\n",
       "<table border=\"1\" class=\"dataframe\">\n",
       "  <thead>\n",
       "    <tr style=\"text-align: right;\">\n",
       "      <th></th>\n",
       "      <th>title</th>\n",
       "      <th>date</th>\n",
       "      <th>url</th>\n",
       "      <th>month</th>\n",
       "    </tr>\n",
       "  </thead>\n",
       "  <tbody>\n",
       "    <tr>\n",
       "      <th>744</th>\n",
       "      <td>US trip: Ramaphosa to reaffirm SA’s non-aligne...</td>\n",
       "      <td>2022-09-12</td>\n",
       "      <td>https://www.news24.com/news24/politics/us-trip...</td>\n",
       "      <td>9</td>\n",
       "    </tr>\n",
       "    <tr>\n",
       "      <th>760</th>\n",
       "      <td>SA won't be bullied, Pandor tells Blinken on U...</td>\n",
       "      <td>2022-08-09</td>\n",
       "      <td>https://www.news24.com/news24/politics/sa-wont...</td>\n",
       "      <td>8</td>\n",
       "    </tr>\n",
       "    <tr>\n",
       "      <th>838</th>\n",
       "      <td>Wheat shortages caused by Ukraine/Russia war a...</td>\n",
       "      <td>2022-07-23</td>\n",
       "      <td>https://www.news24.com/news24/politics/wheat-s...</td>\n",
       "      <td>7</td>\n",
       "    </tr>\n",
       "    <tr>\n",
       "      <th>868</th>\n",
       "      <td>Russia-Ukraine war: Govt faces heat over neutr...</td>\n",
       "      <td>2022-07-18</td>\n",
       "      <td>https://www.news24.com/news24/politics/russia-...</td>\n",
       "      <td>7</td>\n",
       "    </tr>\n",
       "    <tr>\n",
       "      <th>969</th>\n",
       "      <td>Russia-Ukraine conflict could force African co...</td>\n",
       "      <td>2022-06-28</td>\n",
       "      <td>https://www.news24.com/news24/politics/russia-...</td>\n",
       "      <td>6</td>\n",
       "    </tr>\n",
       "  </tbody>\n",
       "</table>\n",
       "</div>"
      ],
      "text/plain": [
       "                                                 title       date  \\\n",
       "744  US trip: Ramaphosa to reaffirm SA’s non-aligne... 2022-09-12   \n",
       "760  SA won't be bullied, Pandor tells Blinken on U... 2022-08-09   \n",
       "838  Wheat shortages caused by Ukraine/Russia war a... 2022-07-23   \n",
       "868  Russia-Ukraine war: Govt faces heat over neutr... 2022-07-18   \n",
       "969  Russia-Ukraine conflict could force African co... 2022-06-28   \n",
       "\n",
       "                                                   url  month  \n",
       "744  https://www.news24.com/news24/politics/us-trip...      9  \n",
       "760  https://www.news24.com/news24/politics/sa-wont...      8  \n",
       "838  https://www.news24.com/news24/politics/wheat-s...      7  \n",
       "868  https://www.news24.com/news24/politics/russia-...      7  \n",
       "969  https://www.news24.com/news24/politics/russia-...      6  "
      ]
     },
     "execution_count": 21,
     "metadata": {},
     "output_type": "execute_result"
    }
   ],
   "source": [
    "war_df_2022 = war_df[war_df['date'] < datetime(2023, 1, 1)].copy()\n",
    "war_df_2022['month'] = war_df_2022['date'].apply(lambda x: get_month(x))\n",
    "war_df_2022.head()"
   ]
  },
  {
   "cell_type": "markdown",
   "metadata": {},
   "source": [
    "Calculation of percentages of Ukrainian news"
   ]
  },
  {
   "cell_type": "code",
   "execution_count": 22,
   "metadata": {},
   "outputs": [],
   "source": [
    "war_perc_2022 = []\n",
    "months = list(range(6, 13))\n",
    "for month in months:\n",
    "    month_df = df_2022[df_2022['month'] == month].shape[0]\n",
    "    month_war_df = war_df_2022[war_df_2022['month'] == month].shape[0]\n",
    "    try:\n",
    "        war_perc_2022.append(round(month_war_df/month_df * 100, 2))\n",
    "    except ZeroDivisionError:\n",
    "        war_perc_2022.append(0.0)"
   ]
  },
  {
   "cell_type": "markdown",
   "metadata": {},
   "source": [
    "### Building plot 2022"
   ]
  },
  {
   "cell_type": "code",
   "execution_count": 23,
   "metadata": {},
   "outputs": [
    {
     "data": {
      "image/png": "[encoded data removed]",
      "text/plain": [
       "<Figure size 1000x500 with 1 Axes>"
      ]
     },
     "metadata": {},
     "output_type": "display_data"
    }
   ],
   "source": [
    "months = ['Jun', 'Jul', 'Aug', 'Sep', 'Oct', 'Nov', 'Dec']\n",
    "plt.figure(figsize = (10, 5))\n",
    " \n",
    "# creating the bar plot\n",
    "plt.bar(months, war_perc_2022, color ='CadetBlue', width = 0.7)\n",
    "plt.ylim(0, 100)\n",
    "\n",
    "plt.xlabel(\"Month\")\n",
    "plt.ylabel(\"Percents %\")\n",
    "plt.title(\"Percentage of news in SA about war in Ukraine in 2022\")\n",
    "plt.show()"
   ]
  },
  {
   "attachments": {},
   "cell_type": "markdown",
   "metadata": {},
   "source": [
    "<font color='DarkTurquoise'>\n",
    "\n",
    "## Jan - May 2023\n",
    "</font>"
   ]
  },
  {
   "attachments": {},
   "cell_type": "markdown",
   "metadata": {},
   "source": [
    "Creating dataframe for period (Jan - May 2023)"
   ]
  },
  {
   "cell_type": "code",
   "execution_count": 24,
   "metadata": {},
   "outputs": [],
   "source": [
    "df_2023 = df[df['date'] >= datetime(2023, 1, 1)].copy()\n",
    "df_2023['month'] = df_2023['date'].apply(lambda x: get_month(x))"
   ]
  },
  {
   "cell_type": "markdown",
   "metadata": {},
   "source": [
    "Forming dataframe containing only news about war in Ukraine:"
   ]
  },
  {
   "cell_type": "code",
   "execution_count": 25,
   "metadata": {},
   "outputs": [
    {
     "data": {
      "text/html": [
       "<div>\n",
       "<style scoped>\n",
       "    .dataframe tbody tr th:only-of-type {\n",
       "        vertical-align: middle;\n",
       "    }\n",
       "\n",
       "    .dataframe tbody tr th {\n",
       "        vertical-align: top;\n",
       "    }\n",
       "\n",
       "    .dataframe thead th {\n",
       "        text-align: right;\n",
       "    }\n",
       "</style>\n",
       "<table border=\"1\" class=\"dataframe\">\n",
       "  <thead>\n",
       "    <tr style=\"text-align: right;\">\n",
       "      <th></th>\n",
       "      <th>title</th>\n",
       "      <th>date</th>\n",
       "      <th>url</th>\n",
       "      <th>month</th>\n",
       "    </tr>\n",
       "  </thead>\n",
       "  <tbody>\n",
       "    <tr>\n",
       "      <th>4</th>\n",
       "      <td>Russian embassy hits back at US ambassador's c...</td>\n",
       "      <td>2023-05-16</td>\n",
       "      <td>https://www.news24.com/news24/politics/governm...</td>\n",
       "      <td>5</td>\n",
       "    </tr>\n",
       "    <tr>\n",
       "      <th>7</th>\n",
       "      <td>#LadyRussiagate | Putin, Zelensky accept Afric...</td>\n",
       "      <td>2023-05-16</td>\n",
       "      <td>https://www.news24.com/news24/politics/parliam...</td>\n",
       "      <td>5</td>\n",
       "    </tr>\n",
       "    <tr>\n",
       "      <th>8</th>\n",
       "      <td>#LadyRussiagate | US ambassador 'totally misre...</td>\n",
       "      <td>2023-05-16</td>\n",
       "      <td>https://www.news24.com/news24/politics/governm...</td>\n",
       "      <td>5</td>\n",
       "    </tr>\n",
       "    <tr>\n",
       "      <th>19</th>\n",
       "      <td>'Non-aligned' nonchalance: SA won't be forced ...</td>\n",
       "      <td>2023-05-15</td>\n",
       "      <td>https://www.news24.com/news24/politics/governm...</td>\n",
       "      <td>5</td>\n",
       "    </tr>\n",
       "    <tr>\n",
       "      <th>25</th>\n",
       "      <td>#LadyRussiagate: Ramaphosa, Zelensky hold talk...</td>\n",
       "      <td>2023-05-14</td>\n",
       "      <td>https://www.news24.com/fin24/economy/ladyrussi...</td>\n",
       "      <td>5</td>\n",
       "    </tr>\n",
       "  </tbody>\n",
       "</table>\n",
       "</div>"
      ],
      "text/plain": [
       "                                                title       date  \\\n",
       "4   Russian embassy hits back at US ambassador's c... 2023-05-16   \n",
       "7   #LadyRussiagate | Putin, Zelensky accept Afric... 2023-05-16   \n",
       "8   #LadyRussiagate | US ambassador 'totally misre... 2023-05-16   \n",
       "19  'Non-aligned' nonchalance: SA won't be forced ... 2023-05-15   \n",
       "25  #LadyRussiagate: Ramaphosa, Zelensky hold talk... 2023-05-14   \n",
       "\n",
       "                                                  url  month  \n",
       "4   https://www.news24.com/news24/politics/governm...      5  \n",
       "7   https://www.news24.com/news24/politics/parliam...      5  \n",
       "8   https://www.news24.com/news24/politics/governm...      5  \n",
       "19  https://www.news24.com/news24/politics/governm...      5  \n",
       "25  https://www.news24.com/fin24/economy/ladyrussi...      5  "
      ]
     },
     "execution_count": 25,
     "metadata": {},
     "output_type": "execute_result"
    }
   ],
   "source": [
    "war_df_2023 = war_df[war_df['date'] >= datetime(2023, 1, 1)].copy()\n",
    "war_df_2023['month'] = war_df_2023['date'].apply(lambda x: get_month(x))\n",
    "war_df_2023.head()"
   ]
  },
  {
   "cell_type": "markdown",
   "metadata": {},
   "source": [
    "Calculation of percentages of Ukrainian news"
   ]
  },
  {
   "cell_type": "code",
   "execution_count": 26,
   "metadata": {},
   "outputs": [],
   "source": [
    "war_perc_2023 = []\n",
    "months = list(range(1, 6))\n",
    "for month in months:\n",
    "    month_df = df_2023[df_2023['month'] == month].shape[0]\n",
    "    month_war_df = war_df_2023[war_df_2023['month'] == month].shape[0]\n",
    "    try:\n",
    "        war_perc_2023.append(round(month_war_df/month_df * 100, 2))\n",
    "    except ZeroDivisionError:\n",
    "        war_perc_2023.append(0.0)"
   ]
  },
  {
   "cell_type": "markdown",
   "metadata": {},
   "source": [
    "### Building plot 2023"
   ]
  },
  {
   "cell_type": "code",
   "execution_count": 27,
   "metadata": {},
   "outputs": [
    {
     "data": {
      "image/png": "[encoded data removed]",
      "text/plain": [
       "<Figure size 1000x500 with 1 Axes>"
      ]
     },
     "metadata": {},
     "output_type": "display_data"
    }
   ],
   "source": [
    "months = ['Jan', 'Feb', 'Mar', 'Apr', 'May']\n",
    "plt.figure(figsize = (10, 5))\n",
    " \n",
    "# creating the bar plot\n",
    "plt.bar(months, war_perc_2023, color ='CadetBlue', width = 0.7)\n",
    "plt.ylim(0, 100)\n",
    "\n",
    "plt.xlabel(\"Month\")\n",
    "plt.ylabel(\"Percents %\")\n",
    "plt.title(\"Percentage of news in SA about war in Ukraine in 2023\")\n",
    "plt.show()"
   ]
  },
  {
   "attachments": {},
   "cell_type": "markdown",
   "metadata": {},
   "source": [
    "<h3><b>Newspaper</b>: <span style=\"color: #79c2d0\">South African Government News Agency</span></h3>"
   ]
  },
  {
   "attachments": {},
   "cell_type": "markdown",
   "metadata": {},
   "source": [
    "**The SA Government News Agency** is a news service, published by the Government Communication and Information System (GCIS)."
   ]
  },
  {
   "cell_type": "code",
   "execution_count": 28,
   "metadata": {},
   "outputs": [
    {
     "data": {
      "text/html": [
       "<div>\n",
       "<style scoped>\n",
       "    .dataframe tbody tr th:only-of-type {\n",
       "        vertical-align: middle;\n",
       "    }\n",
       "\n",
       "    .dataframe tbody tr th {\n",
       "        vertical-align: top;\n",
       "    }\n",
       "\n",
       "    .dataframe thead th {\n",
       "        text-align: right;\n",
       "    }\n",
       "</style>\n",
       "<table border=\"1\" class=\"dataframe\">\n",
       "  <thead>\n",
       "    <tr style=\"text-align: right;\">\n",
       "      <th></th>\n",
       "      <th>title</th>\n",
       "      <th>date</th>\n",
       "      <th>url</th>\n",
       "    </tr>\n",
       "  </thead>\n",
       "  <tbody>\n",
       "    <tr>\n",
       "      <th>0</th>\n",
       "      <td>Government communication workforce to be upski...</td>\n",
       "      <td>2023-05-16</td>\n",
       "      <td>https://www.sanews.gov.za/south-africa/governm...</td>\n",
       "    </tr>\n",
       "    <tr>\n",
       "      <th>1</th>\n",
       "      <td>Keeping SA citizens informed</td>\n",
       "      <td>2023-05-16</td>\n",
       "      <td>https://www.sanews.gov.za/south-africa/keeping...</td>\n",
       "    </tr>\n",
       "    <tr>\n",
       "      <th>2</th>\n",
       "      <td>SA and Singapore strengthen longstanding partn...</td>\n",
       "      <td>2023-05-16</td>\n",
       "      <td>https://www.sanews.gov.za/south-africa/sa-and-...</td>\n",
       "    </tr>\n",
       "    <tr>\n",
       "      <th>3</th>\n",
       "      <td>Mining remains strong pillar of SA's economy -...</td>\n",
       "      <td>2023-05-16</td>\n",
       "      <td>https://www.sanews.gov.za/south-africa/mining-...</td>\n",
       "    </tr>\n",
       "    <tr>\n",
       "      <th>4</th>\n",
       "      <td>Over R14bn to support municipalities' water in...</td>\n",
       "      <td>2023-05-16</td>\n",
       "      <td>https://www.sanews.gov.za/south-africa/over-r1...</td>\n",
       "    </tr>\n",
       "  </tbody>\n",
       "</table>\n",
       "</div>"
      ],
      "text/plain": [
       "                                               title       date  \\\n",
       "0  Government communication workforce to be upski... 2023-05-16   \n",
       "1                       Keeping SA citizens informed 2023-05-16   \n",
       "2  SA and Singapore strengthen longstanding partn... 2023-05-16   \n",
       "3  Mining remains strong pillar of SA's economy -... 2023-05-16   \n",
       "4  Over R14bn to support municipalities' water in... 2023-05-16   \n",
       "\n",
       "                                                 url  \n",
       "0  https://www.sanews.gov.za/south-africa/governm...  \n",
       "1  https://www.sanews.gov.za/south-africa/keeping...  \n",
       "2  https://www.sanews.gov.za/south-africa/sa-and-...  \n",
       "3  https://www.sanews.gov.za/south-africa/mining-...  \n",
       "4  https://www.sanews.gov.za/south-africa/over-r1...  "
      ]
     },
     "execution_count": 28,
     "metadata": {},
     "output_type": "execute_result"
    }
   ],
   "source": [
    "df = pd.read_json('datasets/sa_news_dataset.json')\n",
    "df.head()"
   ]
  },
  {
   "cell_type": "markdown",
   "metadata": {},
   "source": [
    "Forming dataframe containing only news about war in Ukraine:"
   ]
  },
  {
   "cell_type": "code",
   "execution_count": 29,
   "metadata": {},
   "outputs": [
    {
     "data": {
      "text/html": [
       "<div>\n",
       "<style scoped>\n",
       "    .dataframe tbody tr th:only-of-type {\n",
       "        vertical-align: middle;\n",
       "    }\n",
       "\n",
       "    .dataframe tbody tr th {\n",
       "        vertical-align: top;\n",
       "    }\n",
       "\n",
       "    .dataframe thead th {\n",
       "        text-align: right;\n",
       "    }\n",
       "</style>\n",
       "<table border=\"1\" class=\"dataframe\">\n",
       "  <thead>\n",
       "    <tr style=\"text-align: right;\">\n",
       "      <th></th>\n",
       "      <th>title</th>\n",
       "      <th>date</th>\n",
       "      <th>url</th>\n",
       "    </tr>\n",
       "  </thead>\n",
       "  <tbody>\n",
       "    <tr>\n",
       "      <th>16</th>\n",
       "      <td>President Ramaphosa reiterates South Africa's ...</td>\n",
       "      <td>2023-05-15</td>\n",
       "      <td>https://www.sanews.gov.za/south-africa/preside...</td>\n",
       "    </tr>\n",
       "    <tr>\n",
       "      <th>651</th>\n",
       "      <td>SA explains abstention from Ukraine resolution...</td>\n",
       "      <td>2023-02-25</td>\n",
       "      <td>https://www.sanews.gov.za/south-africa/sa-expl...</td>\n",
       "    </tr>\n",
       "    <tr>\n",
       "      <th>968</th>\n",
       "      <td>Russia-Ukraine conflict should end through dip...</td>\n",
       "      <td>2023-01-23</td>\n",
       "      <td>https://www.sanews.gov.za/south-africa/russia-...</td>\n",
       "    </tr>\n",
       "    <tr>\n",
       "      <th>975</th>\n",
       "      <td>SA's navy exercises between China and Russia t...</td>\n",
       "      <td>2023-01-23</td>\n",
       "      <td>https://www.sanews.gov.za/south-africa/sas-nav...</td>\n",
       "    </tr>\n",
       "    <tr>\n",
       "      <th>982</th>\n",
       "      <td>SANDF to host China and Russia for multilatera...</td>\n",
       "      <td>2023-01-20</td>\n",
       "      <td>https://www.sanews.gov.za/south-africa/sandf-h...</td>\n",
       "    </tr>\n",
       "  </tbody>\n",
       "</table>\n",
       "</div>"
      ],
      "text/plain": [
       "                                                 title       date  \\\n",
       "16   President Ramaphosa reiterates South Africa's ... 2023-05-15   \n",
       "651  SA explains abstention from Ukraine resolution... 2023-02-25   \n",
       "968  Russia-Ukraine conflict should end through dip... 2023-01-23   \n",
       "975  SA's navy exercises between China and Russia t... 2023-01-23   \n",
       "982  SANDF to host China and Russia for multilatera... 2023-01-20   \n",
       "\n",
       "                                                   url  \n",
       "16   https://www.sanews.gov.za/south-africa/preside...  \n",
       "651  https://www.sanews.gov.za/south-africa/sa-expl...  \n",
       "968  https://www.sanews.gov.za/south-africa/russia-...  \n",
       "975  https://www.sanews.gov.za/south-africa/sas-nav...  \n",
       "982  https://www.sanews.gov.za/south-africa/sandf-h...  "
      ]
     },
     "execution_count": 29,
     "metadata": {},
     "output_type": "execute_result"
    }
   ],
   "source": [
    "war_df = df[df['title'].apply(lambda x: check(x))]\n",
    "war_df.head()"
   ]
  },
  {
   "attachments": {},
   "cell_type": "markdown",
   "metadata": {},
   "source": [
    "<font color='DarkTurquoise'>\n",
    "\n",
    "## Feb - Dec 2022\n",
    "</font>"
   ]
  },
  {
   "attachments": {},
   "cell_type": "markdown",
   "metadata": {},
   "source": [
    "Creating dataframe for period (Feb - Dec 2022)"
   ]
  },
  {
   "cell_type": "code",
   "execution_count": 30,
   "metadata": {},
   "outputs": [],
   "source": [
    "df_2022 = df[df['date'] < datetime(2023, 1, 1)].copy()\n",
    "df_2022['month'] = df_2022['date'].apply(lambda x: get_month(x))"
   ]
  },
  {
   "cell_type": "markdown",
   "metadata": {},
   "source": [
    "Forming dataframe containing only news about war in Ukraine:"
   ]
  },
  {
   "cell_type": "code",
   "execution_count": 31,
   "metadata": {},
   "outputs": [
    {
     "data": {
      "text/html": [
       "<div>\n",
       "<style scoped>\n",
       "    .dataframe tbody tr th:only-of-type {\n",
       "        vertical-align: middle;\n",
       "    }\n",
       "\n",
       "    .dataframe tbody tr th {\n",
       "        vertical-align: top;\n",
       "    }\n",
       "\n",
       "    .dataframe thead th {\n",
       "        text-align: right;\n",
       "    }\n",
       "</style>\n",
       "<table border=\"1\" class=\"dataframe\">\n",
       "  <thead>\n",
       "    <tr style=\"text-align: right;\">\n",
       "      <th></th>\n",
       "      <th>title</th>\n",
       "      <th>date</th>\n",
       "      <th>url</th>\n",
       "      <th>month</th>\n",
       "    </tr>\n",
       "  </thead>\n",
       "  <tbody>\n",
       "    <tr>\n",
       "      <th>2523</th>\n",
       "      <td>Russia-Ukraine conflict dominate 3rd G20 Finan...</td>\n",
       "      <td>2022-07-19</td>\n",
       "      <td>https://www.sanews.gov.za/south-africa/russia-...</td>\n",
       "      <td>7</td>\n",
       "    </tr>\n",
       "    <tr>\n",
       "      <th>2579</th>\n",
       "      <td>Mapisa-Nqakula on task force mission on Russia...</td>\n",
       "      <td>2022-07-13</td>\n",
       "      <td>https://www.sanews.gov.za/south-africa-world/m...</td>\n",
       "      <td>7</td>\n",
       "    </tr>\n",
       "    <tr>\n",
       "      <th>2676</th>\n",
       "      <td>SACU calls for dialogue negotiation in Ukraine...</td>\n",
       "      <td>2022-06-30</td>\n",
       "      <td>https://www.sanews.gov.za/south-africa/sacu-ca...</td>\n",
       "      <td>6</td>\n",
       "    </tr>\n",
       "    <tr>\n",
       "      <th>3343</th>\n",
       "      <td>SA abstains on resolution to suspend Russia fr...</td>\n",
       "      <td>2022-04-08</td>\n",
       "      <td>https://www.sanews.gov.za/south-africa/sa-abst...</td>\n",
       "      <td>4</td>\n",
       "    </tr>\n",
       "    <tr>\n",
       "      <th>3451</th>\n",
       "      <td>Cabinet mulls impact of Russia-Ukraine conflic...</td>\n",
       "      <td>2022-03-25</td>\n",
       "      <td>https://www.sanews.gov.za/south-africa/cabinet...</td>\n",
       "      <td>3</td>\n",
       "    </tr>\n",
       "  </tbody>\n",
       "</table>\n",
       "</div>"
      ],
      "text/plain": [
       "                                                  title       date  \\\n",
       "2523  Russia-Ukraine conflict dominate 3rd G20 Finan... 2022-07-19   \n",
       "2579  Mapisa-Nqakula on task force mission on Russia... 2022-07-13   \n",
       "2676  SACU calls for dialogue negotiation in Ukraine... 2022-06-30   \n",
       "3343  SA abstains on resolution to suspend Russia fr... 2022-04-08   \n",
       "3451  Cabinet mulls impact of Russia-Ukraine conflic... 2022-03-25   \n",
       "\n",
       "                                                    url  month  \n",
       "2523  https://www.sanews.gov.za/south-africa/russia-...      7  \n",
       "2579  https://www.sanews.gov.za/south-africa-world/m...      7  \n",
       "2676  https://www.sanews.gov.za/south-africa/sacu-ca...      6  \n",
       "3343  https://www.sanews.gov.za/south-africa/sa-abst...      4  \n",
       "3451  https://www.sanews.gov.za/south-africa/cabinet...      3  "
      ]
     },
     "execution_count": 31,
     "metadata": {},
     "output_type": "execute_result"
    }
   ],
   "source": [
    "war_df_2022 = war_df[war_df['date'] < datetime(2023, 1, 1)].copy()\n",
    "war_df_2022['month'] = war_df_2022['date'].apply(lambda x: get_month(x))\n",
    "war_df_2022.head()"
   ]
  },
  {
   "cell_type": "code",
   "execution_count": 32,
   "metadata": {},
   "outputs": [],
   "source": [
    "war_perc_2022 = []\n",
    "months = list(range(2, 13))\n",
    "for month in months:\n",
    "    month_df = df_2022[df_2022['month'] == month].shape[0]\n",
    "    month_war_df = war_df_2022[war_df_2022['month'] == month].shape[0]\n",
    "    try:\n",
    "        war_perc_2022.append(round(month_war_df/month_df * 100, 2))\n",
    "    except ZeroDivisionError:\n",
    "        war_perc_2022.append(0.0)"
   ]
  },
  {
   "cell_type": "markdown",
   "metadata": {},
   "source": [
    "### Building plot 2022"
   ]
  },
  {
   "cell_type": "code",
   "execution_count": 33,
   "metadata": {},
   "outputs": [
    {
     "data": {
      "image/png": "[encoded data removed]",
      "text/plain": [
       "<Figure size 1000x500 with 1 Axes>"
      ]
     },
     "metadata": {},
     "output_type": "display_data"
    }
   ],
   "source": [
    "months = ['Feb', 'Mar', 'Apr', 'May', 'Jun', 'Jul', 'Aug', 'Sep', 'Oct', 'Nov', 'Dec']\n",
    "plt.figure(figsize = (10, 5))\n",
    " \n",
    "# creating the bar plot\n",
    "plt.bar(months, war_perc_2022, color ='CadetBlue', width = 0.7)\n",
    "plt.ylim(0, 100)\n",
    "\n",
    "plt.xlabel(\"Month\")\n",
    "plt.ylabel(\"Percents %\")\n",
    "plt.title(\"Percentage of news in SA about war in Ukraine in 2022\")\n",
    "plt.show()"
   ]
  },
  {
   "attachments": {},
   "cell_type": "markdown",
   "metadata": {},
   "source": [
    "<font color='DarkTurquoise'>\n",
    "\n",
    "## Jan - May 2023\n",
    "</font>"
   ]
  },
  {
   "attachments": {},
   "cell_type": "markdown",
   "metadata": {},
   "source": [
    "Creating dataframe for period (Jan - May 2023)"
   ]
  },
  {
   "cell_type": "code",
   "execution_count": 34,
   "metadata": {},
   "outputs": [],
   "source": [
    "df_2023 = df[df['date'] >= datetime(2023, 1, 1)].copy()\n",
    "df_2023['month'] = df_2023['date'].apply(lambda x: get_month(x))"
   ]
  },
  {
   "cell_type": "markdown",
   "metadata": {},
   "source": [
    "Forming dataframe containing only news about war in Ukraine:"
   ]
  },
  {
   "cell_type": "code",
   "execution_count": 35,
   "metadata": {},
   "outputs": [
    {
     "data": {
      "text/html": [
       "<div>\n",
       "<style scoped>\n",
       "    .dataframe tbody tr th:only-of-type {\n",
       "        vertical-align: middle;\n",
       "    }\n",
       "\n",
       "    .dataframe tbody tr th {\n",
       "        vertical-align: top;\n",
       "    }\n",
       "\n",
       "    .dataframe thead th {\n",
       "        text-align: right;\n",
       "    }\n",
       "</style>\n",
       "<table border=\"1\" class=\"dataframe\">\n",
       "  <thead>\n",
       "    <tr style=\"text-align: right;\">\n",
       "      <th></th>\n",
       "      <th>title</th>\n",
       "      <th>date</th>\n",
       "      <th>url</th>\n",
       "      <th>month</th>\n",
       "    </tr>\n",
       "  </thead>\n",
       "  <tbody>\n",
       "    <tr>\n",
       "      <th>16</th>\n",
       "      <td>President Ramaphosa reiterates South Africa's ...</td>\n",
       "      <td>2023-05-15</td>\n",
       "      <td>https://www.sanews.gov.za/south-africa/preside...</td>\n",
       "      <td>5</td>\n",
       "    </tr>\n",
       "    <tr>\n",
       "      <th>651</th>\n",
       "      <td>SA explains abstention from Ukraine resolution...</td>\n",
       "      <td>2023-02-25</td>\n",
       "      <td>https://www.sanews.gov.za/south-africa/sa-expl...</td>\n",
       "      <td>2</td>\n",
       "    </tr>\n",
       "    <tr>\n",
       "      <th>968</th>\n",
       "      <td>Russia-Ukraine conflict should end through dip...</td>\n",
       "      <td>2023-01-23</td>\n",
       "      <td>https://www.sanews.gov.za/south-africa/russia-...</td>\n",
       "      <td>1</td>\n",
       "    </tr>\n",
       "    <tr>\n",
       "      <th>975</th>\n",
       "      <td>SA's navy exercises between China and Russia t...</td>\n",
       "      <td>2023-01-23</td>\n",
       "      <td>https://www.sanews.gov.za/south-africa/sas-nav...</td>\n",
       "      <td>1</td>\n",
       "    </tr>\n",
       "    <tr>\n",
       "      <th>982</th>\n",
       "      <td>SANDF to host China and Russia for multilatera...</td>\n",
       "      <td>2023-01-20</td>\n",
       "      <td>https://www.sanews.gov.za/south-africa/sandf-h...</td>\n",
       "      <td>1</td>\n",
       "    </tr>\n",
       "  </tbody>\n",
       "</table>\n",
       "</div>"
      ],
      "text/plain": [
       "                                                 title       date  \\\n",
       "16   President Ramaphosa reiterates South Africa's ... 2023-05-15   \n",
       "651  SA explains abstention from Ukraine resolution... 2023-02-25   \n",
       "968  Russia-Ukraine conflict should end through dip... 2023-01-23   \n",
       "975  SA's navy exercises between China and Russia t... 2023-01-23   \n",
       "982  SANDF to host China and Russia for multilatera... 2023-01-20   \n",
       "\n",
       "                                                   url  month  \n",
       "16   https://www.sanews.gov.za/south-africa/preside...      5  \n",
       "651  https://www.sanews.gov.za/south-africa/sa-expl...      2  \n",
       "968  https://www.sanews.gov.za/south-africa/russia-...      1  \n",
       "975  https://www.sanews.gov.za/south-africa/sas-nav...      1  \n",
       "982  https://www.sanews.gov.za/south-africa/sandf-h...      1  "
      ]
     },
     "execution_count": 35,
     "metadata": {},
     "output_type": "execute_result"
    }
   ],
   "source": [
    "war_df_2023 = war_df[war_df['date'] >= datetime(2023, 1, 1)].copy()\n",
    "war_df_2023['month'] = war_df_2023['date'].apply(lambda x: get_month(x))\n",
    "war_df_2023.head()"
   ]
  },
  {
   "cell_type": "code",
   "execution_count": 36,
   "metadata": {},
   "outputs": [],
   "source": [
    "war_perc_2023 = []\n",
    "months = list(range(1, 6))\n",
    "for month in months:\n",
    "    month_df = df_2023[df_2023['month'] == month].shape[0]\n",
    "    month_war_df = war_df_2023[war_df_2023['month'] == month].shape[0]\n",
    "    try:\n",
    "        war_perc_2023.append(round(month_war_df/month_df * 100, 2))\n",
    "    except ZeroDivisionError:\n",
    "        war_perc_2023.append(0.0)"
   ]
  },
  {
   "cell_type": "markdown",
   "metadata": {},
   "source": [
    "### Building plot 2023"
   ]
  },
  {
   "cell_type": "code",
   "execution_count": 37,
   "metadata": {},
   "outputs": [
    {
     "data": {
      "image/png": "[encoded data removed]",
      "text/plain": [
       "<Figure size 1000x500 with 1 Axes>"
      ]
     },
     "metadata": {},
     "output_type": "display_data"
    }
   ],
   "source": [
    "months = ['Jan', 'Feb', 'Mar', 'Apr', 'May']\n",
    "plt.figure(figsize = (10, 5))\n",
    " \n",
    "# creating the bar plot\n",
    "plt.bar(months, war_perc_2023, color ='CadetBlue', width = 0.7)\n",
    "plt.ylim(0, 100)\n",
    "\n",
    "plt.xlabel(\"Month\")\n",
    "plt.ylabel(\"Percents %\")\n",
    "plt.title(\"Percentage of news in SA about war in Ukraine in 2023\")\n",
    "plt.show()"
   ]
  },
  {
   "attachments": {},
   "cell_type": "markdown",
   "metadata": {},
   "source": [
    "<center>\n",
    "<font color='DarkTurquoise'>\n",
    "\n",
    "# Japan\n",
    "\n",
    "</font>\n",
    "</center>"
   ]
  },
  {
   "attachments": {},
   "cell_type": "markdown",
   "metadata": {},
   "source": [
    "**\"The Japan Times\"** news website is a prominent and reputable online platform that provides comprehensive coverage of news and current affairs related to Japan. With a strong focus on both domestic and international news, the website serves as a valuable resource for readers seeking reliable and up-to-date information about Japan and its place in the world."
   ]
  },
  {
   "cell_type": "code",
   "execution_count": 38,
   "metadata": {},
   "outputs": [
    {
     "data": {
      "text/html": [
       "<div>\n",
       "<style scoped>\n",
       "    .dataframe tbody tr th:only-of-type {\n",
       "        vertical-align: middle;\n",
       "    }\n",
       "\n",
       "    .dataframe tbody tr th {\n",
       "        vertical-align: top;\n",
       "    }\n",
       "\n",
       "    .dataframe thead th {\n",
       "        text-align: right;\n",
       "    }\n",
       "</style>\n",
       "<table border=\"1\" class=\"dataframe\">\n",
       "  <thead>\n",
       "    <tr style=\"text-align: right;\">\n",
       "      <th></th>\n",
       "      <th>title</th>\n",
       "      <th>date</th>\n",
       "      <th>text</th>\n",
       "    </tr>\n",
       "  </thead>\n",
       "  <tbody>\n",
       "    <tr>\n",
       "      <th>0</th>\n",
       "      <td>Last known speaker fights to preserve South Af...</td>\n",
       "      <td>2023-05-19</td>\n",
       "      <td>N|uu was spoken by one of many hunter-gatherer...</td>\n",
       "    </tr>\n",
       "    <tr>\n",
       "      <th>1</th>\n",
       "      <td>More than half of the world's large lakes are ...</td>\n",
       "      <td>2023-05-19</td>\n",
       "      <td>Report shows the world's most important freshw...</td>\n",
       "    </tr>\n",
       "    <tr>\n",
       "      <th>2</th>\n",
       "      <td>Pentagon accounting error overvalued Ukraine w...</td>\n",
       "      <td>2023-05-19</td>\n",
       "      <td>The error was the result of assigning a higher...</td>\n",
       "    </tr>\n",
       "    <tr>\n",
       "      <th>3</th>\n",
       "      <td>At the G7 summit in Hiroshima, all eyes will b...</td>\n",
       "      <td>2023-05-18</td>\n",
       "      <td>Discussions on the issue will come at a crucia...</td>\n",
       "    </tr>\n",
       "    <tr>\n",
       "      <th>4</th>\n",
       "      <td>Next five years to be hottest ever, likely cro...</td>\n",
       "      <td>2023-05-18</td>\n",
       "      <td>Report marks the first time the agency has for...</td>\n",
       "    </tr>\n",
       "  </tbody>\n",
       "</table>\n",
       "</div>"
      ],
      "text/plain": [
       "                                               title       date  \\\n",
       "0  Last known speaker fights to preserve South Af... 2023-05-19   \n",
       "1  More than half of the world's large lakes are ... 2023-05-19   \n",
       "2  Pentagon accounting error overvalued Ukraine w... 2023-05-19   \n",
       "3  At the G7 summit in Hiroshima, all eyes will b... 2023-05-18   \n",
       "4  Next five years to be hottest ever, likely cro... 2023-05-18   \n",
       "\n",
       "                                                text  \n",
       "0  N|uu was spoken by one of many hunter-gatherer...  \n",
       "1  Report shows the world's most important freshw...  \n",
       "2  The error was the result of assigning a higher...  \n",
       "3  Discussions on the issue will come at a crucia...  \n",
       "4  Report marks the first time the agency has for...  "
      ]
     },
     "execution_count": 38,
     "metadata": {},
     "output_type": "execute_result"
    }
   ],
   "source": [
    "def create_dateframe():\n",
    "    \"\"\"\n",
    "    create dataframe from news dataframe\n",
    "    \"\"\"\n",
    "    df = pd.read_json('datasets/news.json')\n",
    "    date_format = '%Y-%m-%d'\n",
    "    df['date'] = pd.to_datetime(df['date'], format=date_format)\n",
    "    # df = df.sort_values(by='date')\n",
    "    df = df[df['date'] >= '2022-01-01']\n",
    "    return df\n",
    "\n",
    "df = create_dateframe()\n",
    "df.head()"
   ]
  },
  {
   "cell_type": "markdown",
   "metadata": {},
   "source": [
    "Forming dataframe containing only news about war in Ukraine:"
   ]
  },
  {
   "cell_type": "code",
   "execution_count": 39,
   "metadata": {},
   "outputs": [
    {
     "data": {
      "text/html": [
       "<div>\n",
       "<style scoped>\n",
       "    .dataframe tbody tr th:only-of-type {\n",
       "        vertical-align: middle;\n",
       "    }\n",
       "\n",
       "    .dataframe tbody tr th {\n",
       "        vertical-align: top;\n",
       "    }\n",
       "\n",
       "    .dataframe thead th {\n",
       "        text-align: right;\n",
       "    }\n",
       "</style>\n",
       "<table border=\"1\" class=\"dataframe\">\n",
       "  <thead>\n",
       "    <tr style=\"text-align: right;\">\n",
       "      <th></th>\n",
       "      <th>index</th>\n",
       "      <th>title</th>\n",
       "      <th>date</th>\n",
       "      <th>text</th>\n",
       "      <th>year</th>\n",
       "      <th>month</th>\n",
       "    </tr>\n",
       "  </thead>\n",
       "  <tbody>\n",
       "    <tr>\n",
       "      <th>0</th>\n",
       "      <td>2</td>\n",
       "      <td>Pentagon accounting error overvalued Ukraine w...</td>\n",
       "      <td>2023-05-19</td>\n",
       "      <td>The error was the result of assigning a higher...</td>\n",
       "      <td>2023</td>\n",
       "      <td>5</td>\n",
       "    </tr>\n",
       "    <tr>\n",
       "      <th>1</th>\n",
       "      <td>3</td>\n",
       "      <td>At the G7 summit in Hiroshima, all eyes will b...</td>\n",
       "      <td>2023-05-18</td>\n",
       "      <td>Discussions on the issue will come at a crucia...</td>\n",
       "      <td>2023</td>\n",
       "      <td>5</td>\n",
       "    </tr>\n",
       "    <tr>\n",
       "      <th>2</th>\n",
       "      <td>15</td>\n",
       "      <td>U.S. wires Ukraine with radiation sensors to d...</td>\n",
       "      <td>2023-04-30</td>\n",
       "      <td>In part, the goal is to make sure that if Russ...</td>\n",
       "      <td>2023</td>\n",
       "      <td>4</td>\n",
       "    </tr>\n",
       "    <tr>\n",
       "      <th>3</th>\n",
       "      <td>21</td>\n",
       "      <td>In first, Kyiv says it shot down volley of Rus...</td>\n",
       "      <td>2023-05-17</td>\n",
       "      <td>When asked about the Ukrainian claim, Russian ...</td>\n",
       "      <td>2023</td>\n",
       "      <td>5</td>\n",
       "    </tr>\n",
       "    <tr>\n",
       "      <th>4</th>\n",
       "      <td>22</td>\n",
       "      <td>Putin’s war revives Russia’s dark tradition of...</td>\n",
       "      <td>2023-05-16</td>\n",
       "      <td>The informers are a reflection of the sweeping...</td>\n",
       "      <td>2023</td>\n",
       "      <td>5</td>\n",
       "    </tr>\n",
       "  </tbody>\n",
       "</table>\n",
       "</div>"
      ],
      "text/plain": [
       "   index                                              title       date  \\\n",
       "0      2  Pentagon accounting error overvalued Ukraine w... 2023-05-19   \n",
       "1      3  At the G7 summit in Hiroshima, all eyes will b... 2023-05-18   \n",
       "2     15  U.S. wires Ukraine with radiation sensors to d... 2023-04-30   \n",
       "3     21  In first, Kyiv says it shot down volley of Rus... 2023-05-17   \n",
       "4     22  Putin’s war revives Russia’s dark tradition of... 2023-05-16   \n",
       "\n",
       "                                                text  year  month  \n",
       "0  The error was the result of assigning a higher...  2023      5  \n",
       "1  Discussions on the issue will come at a crucia...  2023      5  \n",
       "2  In part, the goal is to make sure that if Russ...  2023      4  \n",
       "3  When asked about the Ukrainian claim, Russian ...  2023      5  \n",
       "4  The informers are a reflection of the sweeping...  2023      5  "
      ]
     },
     "execution_count": 39,
     "metadata": {},
     "output_type": "execute_result"
    }
   ],
   "source": [
    "ukr_df = df[df['title'].apply(lambda x: check(x))]\n",
    "ukr_df = ukr_df.reset_index()\n",
    "ukr_df['year'] = pd.DatetimeIndex(ukr_df['date']).year\n",
    "ukr_df['month'] = pd.DatetimeIndex(ukr_df['date']).month\n",
    "ukr_df.head()"
   ]
  },
  {
   "cell_type": "code",
   "execution_count": 40,
   "metadata": {},
   "outputs": [
    {
     "data": {
      "text/html": [
       "<div>\n",
       "<style scoped>\n",
       "    .dataframe tbody tr th:only-of-type {\n",
       "        vertical-align: middle;\n",
       "    }\n",
       "\n",
       "    .dataframe tbody tr th {\n",
       "        vertical-align: top;\n",
       "    }\n",
       "\n",
       "    .dataframe thead th {\n",
       "        text-align: right;\n",
       "    }\n",
       "</style>\n",
       "<table border=\"1\" class=\"dataframe\">\n",
       "  <thead>\n",
       "    <tr style=\"text-align: right;\">\n",
       "      <th></th>\n",
       "      <th>year</th>\n",
       "      <th>month</th>\n",
       "      <th>count</th>\n",
       "      <th>date_plt</th>\n",
       "    </tr>\n",
       "  </thead>\n",
       "  <tbody>\n",
       "    <tr>\n",
       "      <th>0</th>\n",
       "      <td>2022</td>\n",
       "      <td>1</td>\n",
       "      <td>36</td>\n",
       "      <td>2022-1</td>\n",
       "    </tr>\n",
       "    <tr>\n",
       "      <th>1</th>\n",
       "      <td>2022</td>\n",
       "      <td>2</td>\n",
       "      <td>91</td>\n",
       "      <td>2022-2</td>\n",
       "    </tr>\n",
       "    <tr>\n",
       "      <th>2</th>\n",
       "      <td>2022</td>\n",
       "      <td>3</td>\n",
       "      <td>145</td>\n",
       "      <td>2022-3</td>\n",
       "    </tr>\n",
       "    <tr>\n",
       "      <th>3</th>\n",
       "      <td>2022</td>\n",
       "      <td>4</td>\n",
       "      <td>107</td>\n",
       "      <td>2022-4</td>\n",
       "    </tr>\n",
       "    <tr>\n",
       "      <th>4</th>\n",
       "      <td>2022</td>\n",
       "      <td>5</td>\n",
       "      <td>88</td>\n",
       "      <td>2022-5</td>\n",
       "    </tr>\n",
       "  </tbody>\n",
       "</table>\n",
       "</div>"
      ],
      "text/plain": [
       "   year  month  count date_plt\n",
       "0  2022      1     36   2022-1\n",
       "1  2022      2     91   2022-2\n",
       "2  2022      3    145   2022-3\n",
       "3  2022      4    107   2022-4\n",
       "4  2022      5     88   2022-5"
      ]
     },
     "execution_count": 40,
     "metadata": {},
     "output_type": "execute_result"
    }
   ],
   "source": [
    "months_ukr_df = ukr_df.pivot_table(columns=['year', 'month'], aggfunc='size')\n",
    "months_ukr_df = months_ukr_df.reset_index()\n",
    "months_ukr_df.columns = ['year', 'month', 'count']\n",
    "months_ukr_df['date_plt'] = months_ukr_df['year'].apply(str) + '-' + months_ukr_df['month'].apply(str)\n",
    "months_ukr_df.head()"
   ]
  },
  {
   "cell_type": "code",
   "execution_count": 41,
   "metadata": {},
   "outputs": [
    {
     "data": {
      "text/html": [
       "<div>\n",
       "<style scoped>\n",
       "    .dataframe tbody tr th:only-of-type {\n",
       "        vertical-align: middle;\n",
       "    }\n",
       "\n",
       "    .dataframe tbody tr th {\n",
       "        vertical-align: top;\n",
       "    }\n",
       "\n",
       "    .dataframe thead th {\n",
       "        text-align: right;\n",
       "    }\n",
       "</style>\n",
       "<table border=\"1\" class=\"dataframe\">\n",
       "  <thead>\n",
       "    <tr style=\"text-align: right;\">\n",
       "      <th></th>\n",
       "      <th>year</th>\n",
       "      <th>month</th>\n",
       "      <th>count</th>\n",
       "      <th>date_plt</th>\n",
       "    </tr>\n",
       "  </thead>\n",
       "  <tbody>\n",
       "    <tr>\n",
       "      <th>0</th>\n",
       "      <td>2022</td>\n",
       "      <td>1</td>\n",
       "      <td>147</td>\n",
       "      <td>2022-1</td>\n",
       "    </tr>\n",
       "    <tr>\n",
       "      <th>1</th>\n",
       "      <td>2022</td>\n",
       "      <td>2</td>\n",
       "      <td>178</td>\n",
       "      <td>2022-2</td>\n",
       "    </tr>\n",
       "    <tr>\n",
       "      <th>2</th>\n",
       "      <td>2022</td>\n",
       "      <td>3</td>\n",
       "      <td>205</td>\n",
       "      <td>2022-3</td>\n",
       "    </tr>\n",
       "    <tr>\n",
       "      <th>3</th>\n",
       "      <td>2022</td>\n",
       "      <td>4</td>\n",
       "      <td>175</td>\n",
       "      <td>2022-4</td>\n",
       "    </tr>\n",
       "    <tr>\n",
       "      <th>4</th>\n",
       "      <td>2022</td>\n",
       "      <td>5</td>\n",
       "      <td>190</td>\n",
       "      <td>2022-5</td>\n",
       "    </tr>\n",
       "  </tbody>\n",
       "</table>\n",
       "</div>"
      ],
      "text/plain": [
       "   year  month  count date_plt\n",
       "0  2022      1    147   2022-1\n",
       "1  2022      2    178   2022-2\n",
       "2  2022      3    205   2022-3\n",
       "3  2022      4    175   2022-4\n",
       "4  2022      5    190   2022-5"
      ]
     },
     "execution_count": 41,
     "metadata": {},
     "output_type": "execute_result"
    }
   ],
   "source": [
    "df['year'] = pd.DatetimeIndex(df['date']).year\n",
    "df['month'] = pd.DatetimeIndex(df['date']).month\n",
    "months_df = df.pivot_table(columns=['year', 'month'], aggfunc='size')\n",
    "months_df = months_df.reset_index()\n",
    "months_df.columns = ['year', 'month', 'count']\n",
    "months_df['date_plt'] = months_df['year'].apply(str) + '-' + months_df['month'].apply(str)\n",
    "months_df.head()"
   ]
  },
  {
   "cell_type": "code",
   "execution_count": 42,
   "metadata": {},
   "outputs": [
    {
     "data": {
      "image/png": "[encoded data removed]",
      "text/plain": [
       "<Figure size 1500x700 with 1 Axes>"
      ]
     },
     "metadata": {},
     "output_type": "display_data"
    }
   ],
   "source": [
    "plt.figure(figsize=(15, 7))\n",
    "plt.bar(months_df['date_plt'], months_df['count'], color='#34eb9e')   \n",
    "plt.bar(months_ukr_df['date_plt'], months_ukr_df['count'], color='#eb3434')\n",
    "plt.legend(['green bars - all japan news', 'red bars - japan news about ukraine'])\n",
    "plt.show()"
   ]
  },
  {
   "attachments": {},
   "cell_type": "markdown",
   "metadata": {},
   "source": [
    "<center>\n",
    "<h2 style=\"color: #a5e9db\">\n",
    "The analysis of news coverage within the region of Donetsk, Ukraine, a significant epicenter of the ongoing conflict.\n",
    "</h2>\n",
    "\n",
    "</center>"
   ]
  },
  {
   "attachments": {},
   "cell_type": "markdown",
   "metadata": {},
   "source": [
    "The conflict in Eastern Ukraine, particularly in Donetsk, has been a focal point of international attention due to its far-reaching implications. As researchers dedicated to understanding the multifaceted nature of this conflict, we have directed our efforts towards examining the local news landscape within Donetsk to gain deeper insights into the narratives, perspectives, and impact of media reporting."
   ]
  },
  {
   "attachments": {},
   "cell_type": "markdown",
   "metadata": {},
   "source": [
    "<center>\n",
    "<font color='DarkTurquoise'>\n",
    "\n",
    "# Ukraine. Donetsk\n",
    "\n",
    "</font>\n",
    "</center>"
   ]
  },
  {
   "cell_type": "code",
   "execution_count": 43,
   "metadata": {},
   "outputs": [],
   "source": [
    "df = pd.read_json('datasets/news_dan.json')\n",
    "df['year'] = pd.to_datetime(df['date'], format='%d.%m.%Y %H:%M').dt.year\n",
    "\n",
    "usless_words = ['что', 'это', 'для', 'как', 'так', 'и', 'в', 'над', 'к', 'до', 'не', 'на', 'но', 'за', 'то', 'с', 'ли', 'а', 'донбассе','донбасса']\n",
    "colors = ['#0080ff', '#00ffff', '#00ff80']"
   ]
  },
  {
   "cell_type": "code",
   "execution_count": 44,
   "metadata": {},
   "outputs": [
    {
     "data": {
      "text/plain": [
       "{2015: FreqDist({'днр': 216, 'обсе': 117, 'пушилин': 58, 'боинга': 45, 'минске': 25, 'киева': 25, 'захарченко': 21, 'крушения': 21, 'хуг': 20, 'власти': 20, ...}),\n",
       " 2016: FreqDist({'днр': 230, 'обсе': 129, 'пушилин': 39, 'мид': 34, 'замглавы': 32, 'захарченко': 31, 'хуг': 31, 'миссии': 31, 'минобороны': 30, 'всу': 29, ...}),\n",
       " 2017: FreqDist({'днр': 256, 'обсе': 115, 'минске': 46, 'донецке': 40, 'лнр': 40, 'жителей': 38, 'смм': 36, 'всу': 32, 'под': 32, 'пушилин': 31, ...}),\n",
       " 2018: FreqDist({'днр': 328, 'обсе': 81, 'минске': 64, 'мид': 47, 'всу': 45, 'пушилин': 36, 'лнр': 32, 'мккк': 28, 'сцкк': 26, 'оон': 25, ...}),\n",
       " 2019: FreqDist({'днр': 279, 'мид': 83, 'обсе': 69, 'минске': 52, 'донецке': 32, 'киев': 29, 'пушилин': 29, 'киева': 28, 'разведения': 27, 'всу': 24, ...}),\n",
       " 2020: FreqDist({'днр': 135, 'обсе': 49, 'мид': 26, 'киева': 24, 'унм': 22, 'никонорова': 21, 'стран': 14, 'всу': 14, 'республики': 12, 'миссии': 11, ...}),\n",
       " 2021: FreqDist({'днр': 112, 'обсе': 84, 'киева': 19, 'донецке': 16, 'смм': 15, 'донецк': 14, 'заявили': 14, 'лнр': 14, 'мид': 14, 'миссии': 12, ...}),\n",
       " 2022: FreqDist({'днр': 131, 'пушилин': 22, 'украине': 21, 'обсе': 21, 'мид': 17, 'украины': 17, 'оон': 16, 'морозова': 15, 'сша': 13, 'киева': 12, ...}),\n",
       " 2023: FreqDist({'днр': 1128, 'пушилин': 566, 'рассказали': 560, 'вид': 559, 'фото': 558, 'сша': 294, 'путин': 285, 'германии': 282, 'чем': 282, 'впервые': 281, ...})}"
      ]
     },
     "execution_count": 44,
     "metadata": {},
     "output_type": "execute_result"
    }
   ],
   "source": [
    "word_frequencies_by_year = {}\n",
    "for year, group in df.groupby('year'):\n",
    "    titles = ' '.join(group['title'])\n",
    "    word_tokens = word_tokenize(titles.lower())\n",
    "    word_tokens = [word for word in word_tokens if (word.isalpha() and len(word) > 2) and word not in usless_words] # Remove punctuation\n",
    "    word_frequencies_by_year[year] = FreqDist(word_tokens)\n",
    "word_frequencies_by_year"
   ]
  },
  {
   "cell_type": "code",
   "execution_count": 45,
   "metadata": {},
   "outputs": [
    {
     "data": {
      "image/png": "[encoded data removed]",
      "text/plain": [
       "<Figure size 3000x1600 with 1 Axes>"
      ]
     },
     "metadata": {},
     "output_type": "display_data"
    }
   ],
   "source": [
    "plt.figure(figsize=(30, 16))\n",
    "\n",
    "for year, word_frequencies in word_frequencies_by_year.items():\n",
    "    most_common_words = word_frequencies.most_common(3)\n",
    "    words, frequencies = zip(*most_common_words)\n",
    "\n",
    "    for index, word in enumerate(words):\n",
    "        plt.bar(f'{year} №{index+1}', frequencies[index], color=colors[index]) \n",
    "        plt.text(f'{year} №{index+1}', frequencies[index], word, ha='center', va='bottom', fontsize=12)\n",
    "\n",
    "plt.title(\"Most Frequent Words in Titles\", fontsize=28)\n",
    "plt.xlabel(\"Words\", fontsize=22)\n",
    "plt.ylabel(\"Frequency\", fontsize=22)\n",
    "plt.show()"
   ]
  },
  {
   "attachments": {},
   "cell_type": "markdown",
   "metadata": {},
   "source": [
    "<center>\n",
    "<font color='DarkTurquoise'>\n",
    "\n",
    "# Conclusion\n",
    "\n",
    "</font>\n",
    "</center>"
   ]
  },
  {
   "attachments": {},
   "cell_type": "markdown",
   "metadata": {},
   "source": [
    "..."
   ]
  }
 ],
 "metadata": {
  "kernelspec": {
   "display_name": "Python 3",
   "language": "python",
   "name": "python3"
  },
  "language_info": {
   "codemirror_mode": {
    "name": "ipython",
    "version": 3
   },
   "file_extension": ".py",
   "mimetype": "text/x-python",
   "name": "python",
   "nbconvert_exporter": "python",
   "pygments_lexer": "ipython3",
   "version": "3.11.2"
  },
  "orig_nbformat": 4
 },
 "nbformat": 4,
 "nbformat_minor": 2
}
